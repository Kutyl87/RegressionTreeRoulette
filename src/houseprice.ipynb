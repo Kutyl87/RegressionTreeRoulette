{
 "cells": [
  {
   "cell_type": "code",
   "execution_count": 69,
   "metadata": {
    "ExecuteTime": {
     "end_time": "2024-05-31T18:33:28.772970Z",
     "start_time": "2024-05-31T18:33:28.702919Z"
    }
   },
   "outputs": [],
   "source": [
    "import pandas as pd\n",
    "import numpy as np\n",
    "from losses import rmse_loss, mse_loss"
   ]
  },
  {
   "cell_type": "code",
   "execution_count": 4,
   "metadata": {
    "ExecuteTime": {
     "end_time": "2024-05-31T17:40:40.676003Z",
     "start_time": "2024-05-31T17:40:40.618897Z"
    }
   },
   "outputs": [
    {
     "data": {
      "text/plain": "      squareMeters  numberOfRooms  hasYard  hasPool  floors  cityCode  \\\n0            75523              3        0        1      63      9373   \n1            80771             39        1        1      98     39381   \n2            55712             58        0        1      19     34457   \n3            32316             47        0        0       6     27939   \n4            70429             19        1        1      90     38045   \n...            ...            ...      ...      ...     ...       ...   \n9995          1726             89        0        1       5     73133   \n9996         44403             29        1        1      12     34606   \n9997         83841              3        0        0      69     80933   \n9998         59036             70        0        0      96     55856   \n9999          1440             84        0        0      49     18412   \n\n      cityPartRange  numPrevOwners  made  isNewBuilt  hasStormProtector  \\\n0                 3              8  2005           0                  1   \n1                 8              6  2015           1                  0   \n2                 6              8  2021           0                  0   \n3                10              4  2012           0                  1   \n4                 3              7  1990           1                  0   \n...             ...            ...   ...         ...                ...   \n9995              7              6  2009           0                  1   \n9996              9              4  1990           0                  1   \n9997             10             10  2005           1                  1   \n9998              1              3  2010           0                  1   \n9999              6             10  1994           1                  0   \n\n      basement  attic  garage  hasStorageRoom  hasGuestRoom      price  \n0         4313   9005     956               0             7  7559081.5  \n1         3653   2436     128               1             2  8085989.5  \n2         2937   8852     135               1             9  5574642.1  \n3          659   7141     359               0             3  3232561.2  \n4         8435   2429     292               1             4  7055052.0  \n...        ...    ...     ...             ...           ...        ...  \n9995      9311   1698     218               0             4   176425.9  \n9996      9061   1742     230               0             0  4448474.0  \n9997      8304   7730     345               1             9  8390030.5  \n9998      2590   6174     339               1             4  5905107.0  \n9999      8485   2024     278               1             6   146708.4  \n\n[10000 rows x 17 columns]",
      "text/html": "<div>\n<style scoped>\n    .dataframe tbody tr th:only-of-type {\n        vertical-align: middle;\n    }\n\n    .dataframe tbody tr th {\n        vertical-align: top;\n    }\n\n    .dataframe thead th {\n        text-align: right;\n    }\n</style>\n<table border=\"1\" class=\"dataframe\">\n  <thead>\n    <tr style=\"text-align: right;\">\n      <th></th>\n      <th>squareMeters</th>\n      <th>numberOfRooms</th>\n      <th>hasYard</th>\n      <th>hasPool</th>\n      <th>floors</th>\n      <th>cityCode</th>\n      <th>cityPartRange</th>\n      <th>numPrevOwners</th>\n      <th>made</th>\n      <th>isNewBuilt</th>\n      <th>hasStormProtector</th>\n      <th>basement</th>\n      <th>attic</th>\n      <th>garage</th>\n      <th>hasStorageRoom</th>\n      <th>hasGuestRoom</th>\n      <th>price</th>\n    </tr>\n  </thead>\n  <tbody>\n    <tr>\n      <th>0</th>\n      <td>75523</td>\n      <td>3</td>\n      <td>0</td>\n      <td>1</td>\n      <td>63</td>\n      <td>9373</td>\n      <td>3</td>\n      <td>8</td>\n      <td>2005</td>\n      <td>0</td>\n      <td>1</td>\n      <td>4313</td>\n      <td>9005</td>\n      <td>956</td>\n      <td>0</td>\n      <td>7</td>\n      <td>7559081.5</td>\n    </tr>\n    <tr>\n      <th>1</th>\n      <td>80771</td>\n      <td>39</td>\n      <td>1</td>\n      <td>1</td>\n      <td>98</td>\n      <td>39381</td>\n      <td>8</td>\n      <td>6</td>\n      <td>2015</td>\n      <td>1</td>\n      <td>0</td>\n      <td>3653</td>\n      <td>2436</td>\n      <td>128</td>\n      <td>1</td>\n      <td>2</td>\n      <td>8085989.5</td>\n    </tr>\n    <tr>\n      <th>2</th>\n      <td>55712</td>\n      <td>58</td>\n      <td>0</td>\n      <td>1</td>\n      <td>19</td>\n      <td>34457</td>\n      <td>6</td>\n      <td>8</td>\n      <td>2021</td>\n      <td>0</td>\n      <td>0</td>\n      <td>2937</td>\n      <td>8852</td>\n      <td>135</td>\n      <td>1</td>\n      <td>9</td>\n      <td>5574642.1</td>\n    </tr>\n    <tr>\n      <th>3</th>\n      <td>32316</td>\n      <td>47</td>\n      <td>0</td>\n      <td>0</td>\n      <td>6</td>\n      <td>27939</td>\n      <td>10</td>\n      <td>4</td>\n      <td>2012</td>\n      <td>0</td>\n      <td>1</td>\n      <td>659</td>\n      <td>7141</td>\n      <td>359</td>\n      <td>0</td>\n      <td>3</td>\n      <td>3232561.2</td>\n    </tr>\n    <tr>\n      <th>4</th>\n      <td>70429</td>\n      <td>19</td>\n      <td>1</td>\n      <td>1</td>\n      <td>90</td>\n      <td>38045</td>\n      <td>3</td>\n      <td>7</td>\n      <td>1990</td>\n      <td>1</td>\n      <td>0</td>\n      <td>8435</td>\n      <td>2429</td>\n      <td>292</td>\n      <td>1</td>\n      <td>4</td>\n      <td>7055052.0</td>\n    </tr>\n    <tr>\n      <th>...</th>\n      <td>...</td>\n      <td>...</td>\n      <td>...</td>\n      <td>...</td>\n      <td>...</td>\n      <td>...</td>\n      <td>...</td>\n      <td>...</td>\n      <td>...</td>\n      <td>...</td>\n      <td>...</td>\n      <td>...</td>\n      <td>...</td>\n      <td>...</td>\n      <td>...</td>\n      <td>...</td>\n      <td>...</td>\n    </tr>\n    <tr>\n      <th>9995</th>\n      <td>1726</td>\n      <td>89</td>\n      <td>0</td>\n      <td>1</td>\n      <td>5</td>\n      <td>73133</td>\n      <td>7</td>\n      <td>6</td>\n      <td>2009</td>\n      <td>0</td>\n      <td>1</td>\n      <td>9311</td>\n      <td>1698</td>\n      <td>218</td>\n      <td>0</td>\n      <td>4</td>\n      <td>176425.9</td>\n    </tr>\n    <tr>\n      <th>9996</th>\n      <td>44403</td>\n      <td>29</td>\n      <td>1</td>\n      <td>1</td>\n      <td>12</td>\n      <td>34606</td>\n      <td>9</td>\n      <td>4</td>\n      <td>1990</td>\n      <td>0</td>\n      <td>1</td>\n      <td>9061</td>\n      <td>1742</td>\n      <td>230</td>\n      <td>0</td>\n      <td>0</td>\n      <td>4448474.0</td>\n    </tr>\n    <tr>\n      <th>9997</th>\n      <td>83841</td>\n      <td>3</td>\n      <td>0</td>\n      <td>0</td>\n      <td>69</td>\n      <td>80933</td>\n      <td>10</td>\n      <td>10</td>\n      <td>2005</td>\n      <td>1</td>\n      <td>1</td>\n      <td>8304</td>\n      <td>7730</td>\n      <td>345</td>\n      <td>1</td>\n      <td>9</td>\n      <td>8390030.5</td>\n    </tr>\n    <tr>\n      <th>9998</th>\n      <td>59036</td>\n      <td>70</td>\n      <td>0</td>\n      <td>0</td>\n      <td>96</td>\n      <td>55856</td>\n      <td>1</td>\n      <td>3</td>\n      <td>2010</td>\n      <td>0</td>\n      <td>1</td>\n      <td>2590</td>\n      <td>6174</td>\n      <td>339</td>\n      <td>1</td>\n      <td>4</td>\n      <td>5905107.0</td>\n    </tr>\n    <tr>\n      <th>9999</th>\n      <td>1440</td>\n      <td>84</td>\n      <td>0</td>\n      <td>0</td>\n      <td>49</td>\n      <td>18412</td>\n      <td>6</td>\n      <td>10</td>\n      <td>1994</td>\n      <td>1</td>\n      <td>0</td>\n      <td>8485</td>\n      <td>2024</td>\n      <td>278</td>\n      <td>1</td>\n      <td>6</td>\n      <td>146708.4</td>\n    </tr>\n  </tbody>\n</table>\n<p>10000 rows × 17 columns</p>\n</div>"
     },
     "execution_count": 4,
     "metadata": {},
     "output_type": "execute_result"
    }
   ],
   "source": [
    "house_dataset = pd.read_csv(\"../data/ParisHousing.csv\")\n",
    "# house_dataset = pd.get_dummies(house_dataset, columns=['page_url', 'property_type', 'location', 'city', 'province_name', 'area', 'agency', 'Area Type', 'Area Category'])\n",
    "house_dataset"
   ]
  },
  {
   "cell_type": "code",
   "execution_count": 5,
   "metadata": {
    "ExecuteTime": {
     "end_time": "2024-05-31T17:40:42.918791Z",
     "start_time": "2024-05-31T17:40:42.183217Z"
    }
   },
   "outputs": [],
   "source": [
    "from sklearn.model_selection import train_test_split\n",
    "\n",
    "X = house_dataset.copy()\n",
    "X = X.drop(columns=[\"price\"])\n",
    "y = house_dataset[\"price\"]\n",
    "X_train, X_test, y_train, y_test = train_test_split(X, y, test_size=0.2)"
   ]
  },
  {
   "cell_type": "code",
   "execution_count": 57,
   "metadata": {
    "ExecuteTime": {
     "end_time": "2024-05-31T18:17:15.229898Z",
     "start_time": "2024-05-31T18:17:15.156316Z"
    }
   },
   "outputs": [],
   "source": [
    "from sklearn.tree import DecisionTreeRegressor\n",
    "\n",
    "regressor = DecisionTreeRegressor(\n",
    "    criterion=\"squared_error\",\n",
    "    splitter=\"best\",\n",
    "    max_depth=100,\n",
    "    min_samples_split=10,\n",
    "    min_samples_leaf=5,\n",
    "    min_weight_fraction_leaf=0.0,\n",
    "    max_features=None,\n",
    "    random_state=None,\n",
    "    max_leaf_nodes=None,\n",
    "    min_impurity_decrease=0.0,\n",
    "    ccp_alpha=0.01,\n",
    "    monotonic_cst=None,\n",
    ")\n",
    "regressor = regressor.fit(X_train, y_train)"
   ]
  },
  {
   "cell_type": "code",
   "execution_count": 58,
   "metadata": {
    "ExecuteTime": {
     "end_time": "2024-05-31T18:17:15.499111Z",
     "start_time": "2024-05-31T18:17:15.494397Z"
    }
   },
   "outputs": [
    {
     "name": "stdout",
     "output_type": "stream",
     "text": [
      "R^2 score: 0.999996839\n"
     ]
    }
   ],
   "source": [
    "score = regressor.score(X_test, y_test)\n",
    "print(f\"R^2 score: {score:.9f}\")"
   ]
  },
  {
   "cell_type": "code",
   "execution_count": 59,
   "metadata": {
    "ExecuteTime": {
     "end_time": "2024-05-31T18:17:16.161046Z",
     "start_time": "2024-05-31T18:17:16.152712Z"
    }
   },
   "outputs": [],
   "source": [
    "y_pred = regressor.predict(X_test)\n",
    "results = pd.DataFrame({\"Actual\": y_test, \"Predicted\": y_pred})"
   ]
  },
  {
   "cell_type": "code",
   "execution_count": 67,
   "metadata": {
    "ExecuteTime": {
     "end_time": "2024-05-31T18:21:26.755974Z",
     "start_time": "2024-05-31T18:21:26.749693Z"
    }
   },
   "outputs": [
    {
     "name": "stdout",
     "output_type": "stream",
     "text": [
      "loss: 26271949.73152235\n"
     ]
    }
   ],
   "source": [
    "print(f\"MSE loss: {mse_loss(y_test, y_pred)}\")"
   ]
  },
  {
   "cell_type": "code",
   "outputs": [
    {
     "name": "stdout",
     "output_type": "stream",
     "text": [
      "RMSE loss: 5125.617009836216\n"
     ]
    }
   ],
   "source": [
    "print(f\"RMSE loss: {rmse_loss(y_test, y_pred)}\")"
   ],
   "metadata": {
    "collapsed": false,
    "ExecuteTime": {
     "end_time": "2024-05-31T18:22:05.303766Z",
     "start_time": "2024-05-31T18:22:05.275354Z"
    }
   },
   "execution_count": 68
  },
  {
   "cell_type": "code",
   "outputs": [
    {
     "data": {
      "text/plain": "         Actual     Predicted\n507   2973362.6  2.966048e+06\n90     733776.4  7.287385e+05\n5933  2866459.3  2.863453e+06\n7815  6187458.3  6.199281e+06\n5358  9501779.0  9.495518e+06\n...         ...           ...\n5431  3852614.5  3.852866e+06\n939   7673297.7  7.679321e+06\n860   1710016.3  1.712218e+06\n3789  3337636.7  3.340378e+06\n248   2166421.0  2.163645e+06\n\n[2000 rows x 2 columns]",
      "text/html": "<div>\n<style scoped>\n    .dataframe tbody tr th:only-of-type {\n        vertical-align: middle;\n    }\n\n    .dataframe tbody tr th {\n        vertical-align: top;\n    }\n\n    .dataframe thead th {\n        text-align: right;\n    }\n</style>\n<table border=\"1\" class=\"dataframe\">\n  <thead>\n    <tr style=\"text-align: right;\">\n      <th></th>\n      <th>Actual</th>\n      <th>Predicted</th>\n    </tr>\n  </thead>\n  <tbody>\n    <tr>\n      <th>507</th>\n      <td>2973362.6</td>\n      <td>2.966048e+06</td>\n    </tr>\n    <tr>\n      <th>90</th>\n      <td>733776.4</td>\n      <td>7.287385e+05</td>\n    </tr>\n    <tr>\n      <th>5933</th>\n      <td>2866459.3</td>\n      <td>2.863453e+06</td>\n    </tr>\n    <tr>\n      <th>7815</th>\n      <td>6187458.3</td>\n      <td>6.199281e+06</td>\n    </tr>\n    <tr>\n      <th>5358</th>\n      <td>9501779.0</td>\n      <td>9.495518e+06</td>\n    </tr>\n    <tr>\n      <th>...</th>\n      <td>...</td>\n      <td>...</td>\n    </tr>\n    <tr>\n      <th>5431</th>\n      <td>3852614.5</td>\n      <td>3.852866e+06</td>\n    </tr>\n    <tr>\n      <th>939</th>\n      <td>7673297.7</td>\n      <td>7.679321e+06</td>\n    </tr>\n    <tr>\n      <th>860</th>\n      <td>1710016.3</td>\n      <td>1.712218e+06</td>\n    </tr>\n    <tr>\n      <th>3789</th>\n      <td>3337636.7</td>\n      <td>3.340378e+06</td>\n    </tr>\n    <tr>\n      <th>248</th>\n      <td>2166421.0</td>\n      <td>2.163645e+06</td>\n    </tr>\n  </tbody>\n</table>\n<p>2000 rows × 2 columns</p>\n</div>"
     },
     "execution_count": 44,
     "metadata": {},
     "output_type": "execute_result"
    }
   ],
   "source": [
    "results"
   ],
   "metadata": {
    "collapsed": false,
    "ExecuteTime": {
     "end_time": "2024-05-31T18:13:17.989481Z",
     "start_time": "2024-05-31T18:13:17.982795Z"
    }
   },
   "execution_count": 44
  },
  {
   "cell_type": "code",
   "outputs": [],
   "source": [],
   "metadata": {
    "collapsed": false
   }
  }
 ],
 "metadata": {
  "kernelspec": {
   "display_name": "Python 3 (ipykernel)",
   "language": "python",
   "name": "python3"
  },
  "language_info": {
   "codemirror_mode": {
    "name": "ipython",
    "version": 3
   },
   "file_extension": ".py",
   "mimetype": "text/x-python",
   "name": "python",
   "nbconvert_exporter": "python",
   "pygments_lexer": "ipython3",
   "version": "3.10.9"
  }
 },
 "nbformat": 4,
 "nbformat_minor": 4
}
