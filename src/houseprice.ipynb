{
 "cells": [
  {
   "cell_type": "code",
   "outputs": [
    {
     "name": "stdout",
     "output_type": "stream",
     "text": [
      "\u001B[H\u001B[2J"
     ]
    }
   ],
   "source": [
    "%clear"
   ],
   "metadata": {
    "collapsed": false,
    "ExecuteTime": {
     "end_time": "2024-06-11T20:49:33.967264Z",
     "start_time": "2024-06-11T20:49:33.791009Z"
    }
   },
   "execution_count": 193
  },
  {
   "cell_type": "markdown",
   "source": [
    "# Sekcja Importowania\n",
    " Importujemy potrzebne biblioteki do załadowania danych i przeprowadzenia predykcji na modelu. Dodatkowo importowane są funkcje straty zaimportowane w pliku losses.py"
   ],
   "metadata": {
    "collapsed": false
   }
  },
  {
   "cell_type": "code",
   "execution_count": 194,
   "metadata": {
    "ExecuteTime": {
     "end_time": "2024-06-11T20:49:33.985600Z",
     "start_time": "2024-06-11T20:49:33.980199Z"
    }
   },
   "outputs": [],
   "source": [
    "import pandas as pd\n",
    "from losses import rmse_loss, mse_loss\n",
    "from sklearn.tree import DecisionTreeRegressor\n",
    "import matplotlib.pyplot as plt"
   ]
  },
  {
   "cell_type": "markdown",
   "source": [
    "# Ładowanie danych"
   ],
   "metadata": {
    "collapsed": false
   }
  },
  {
   "cell_type": "code",
   "execution_count": 195,
   "metadata": {
    "ExecuteTime": {
     "end_time": "2024-06-11T20:49:34.066647Z",
     "start_time": "2024-06-11T20:49:34.013341Z"
    }
   },
   "outputs": [
    {
     "data": {
      "text/plain": "      squareMeters  numberOfRooms  hasYard  hasPool  floors  cityCode  \\\n0            75523              3        0        1      63      9373   \n1            80771             39        1        1      98     39381   \n2            55712             58        0        1      19     34457   \n3            32316             47        0        0       6     27939   \n4            70429             19        1        1      90     38045   \n...            ...            ...      ...      ...     ...       ...   \n9995          1726             89        0        1       5     73133   \n9996         44403             29        1        1      12     34606   \n9997         83841              3        0        0      69     80933   \n9998         59036             70        0        0      96     55856   \n9999          1440             84        0        0      49     18412   \n\n      cityPartRange  numPrevOwners  made  isNewBuilt  hasStormProtector  \\\n0                 3              8  2005           0                  1   \n1                 8              6  2015           1                  0   \n2                 6              8  2021           0                  0   \n3                10              4  2012           0                  1   \n4                 3              7  1990           1                  0   \n...             ...            ...   ...         ...                ...   \n9995              7              6  2009           0                  1   \n9996              9              4  1990           0                  1   \n9997             10             10  2005           1                  1   \n9998              1              3  2010           0                  1   \n9999              6             10  1994           1                  0   \n\n      basement  attic  garage  hasStorageRoom  hasGuestRoom      price  \n0         4313   9005     956               0             7  7559081.5  \n1         3653   2436     128               1             2  8085989.5  \n2         2937   8852     135               1             9  5574642.1  \n3          659   7141     359               0             3  3232561.2  \n4         8435   2429     292               1             4  7055052.0  \n...        ...    ...     ...             ...           ...        ...  \n9995      9311   1698     218               0             4   176425.9  \n9996      9061   1742     230               0             0  4448474.0  \n9997      8304   7730     345               1             9  8390030.5  \n9998      2590   6174     339               1             4  5905107.0  \n9999      8485   2024     278               1             6   146708.4  \n\n[10000 rows x 17 columns]",
      "text/html": "<div>\n<style scoped>\n    .dataframe tbody tr th:only-of-type {\n        vertical-align: middle;\n    }\n\n    .dataframe tbody tr th {\n        vertical-align: top;\n    }\n\n    .dataframe thead th {\n        text-align: right;\n    }\n</style>\n<table border=\"1\" class=\"dataframe\">\n  <thead>\n    <tr style=\"text-align: right;\">\n      <th></th>\n      <th>squareMeters</th>\n      <th>numberOfRooms</th>\n      <th>hasYard</th>\n      <th>hasPool</th>\n      <th>floors</th>\n      <th>cityCode</th>\n      <th>cityPartRange</th>\n      <th>numPrevOwners</th>\n      <th>made</th>\n      <th>isNewBuilt</th>\n      <th>hasStormProtector</th>\n      <th>basement</th>\n      <th>attic</th>\n      <th>garage</th>\n      <th>hasStorageRoom</th>\n      <th>hasGuestRoom</th>\n      <th>price</th>\n    </tr>\n  </thead>\n  <tbody>\n    <tr>\n      <th>0</th>\n      <td>75523</td>\n      <td>3</td>\n      <td>0</td>\n      <td>1</td>\n      <td>63</td>\n      <td>9373</td>\n      <td>3</td>\n      <td>8</td>\n      <td>2005</td>\n      <td>0</td>\n      <td>1</td>\n      <td>4313</td>\n      <td>9005</td>\n      <td>956</td>\n      <td>0</td>\n      <td>7</td>\n      <td>7559081.5</td>\n    </tr>\n    <tr>\n      <th>1</th>\n      <td>80771</td>\n      <td>39</td>\n      <td>1</td>\n      <td>1</td>\n      <td>98</td>\n      <td>39381</td>\n      <td>8</td>\n      <td>6</td>\n      <td>2015</td>\n      <td>1</td>\n      <td>0</td>\n      <td>3653</td>\n      <td>2436</td>\n      <td>128</td>\n      <td>1</td>\n      <td>2</td>\n      <td>8085989.5</td>\n    </tr>\n    <tr>\n      <th>2</th>\n      <td>55712</td>\n      <td>58</td>\n      <td>0</td>\n      <td>1</td>\n      <td>19</td>\n      <td>34457</td>\n      <td>6</td>\n      <td>8</td>\n      <td>2021</td>\n      <td>0</td>\n      <td>0</td>\n      <td>2937</td>\n      <td>8852</td>\n      <td>135</td>\n      <td>1</td>\n      <td>9</td>\n      <td>5574642.1</td>\n    </tr>\n    <tr>\n      <th>3</th>\n      <td>32316</td>\n      <td>47</td>\n      <td>0</td>\n      <td>0</td>\n      <td>6</td>\n      <td>27939</td>\n      <td>10</td>\n      <td>4</td>\n      <td>2012</td>\n      <td>0</td>\n      <td>1</td>\n      <td>659</td>\n      <td>7141</td>\n      <td>359</td>\n      <td>0</td>\n      <td>3</td>\n      <td>3232561.2</td>\n    </tr>\n    <tr>\n      <th>4</th>\n      <td>70429</td>\n      <td>19</td>\n      <td>1</td>\n      <td>1</td>\n      <td>90</td>\n      <td>38045</td>\n      <td>3</td>\n      <td>7</td>\n      <td>1990</td>\n      <td>1</td>\n      <td>0</td>\n      <td>8435</td>\n      <td>2429</td>\n      <td>292</td>\n      <td>1</td>\n      <td>4</td>\n      <td>7055052.0</td>\n    </tr>\n    <tr>\n      <th>...</th>\n      <td>...</td>\n      <td>...</td>\n      <td>...</td>\n      <td>...</td>\n      <td>...</td>\n      <td>...</td>\n      <td>...</td>\n      <td>...</td>\n      <td>...</td>\n      <td>...</td>\n      <td>...</td>\n      <td>...</td>\n      <td>...</td>\n      <td>...</td>\n      <td>...</td>\n      <td>...</td>\n      <td>...</td>\n    </tr>\n    <tr>\n      <th>9995</th>\n      <td>1726</td>\n      <td>89</td>\n      <td>0</td>\n      <td>1</td>\n      <td>5</td>\n      <td>73133</td>\n      <td>7</td>\n      <td>6</td>\n      <td>2009</td>\n      <td>0</td>\n      <td>1</td>\n      <td>9311</td>\n      <td>1698</td>\n      <td>218</td>\n      <td>0</td>\n      <td>4</td>\n      <td>176425.9</td>\n    </tr>\n    <tr>\n      <th>9996</th>\n      <td>44403</td>\n      <td>29</td>\n      <td>1</td>\n      <td>1</td>\n      <td>12</td>\n      <td>34606</td>\n      <td>9</td>\n      <td>4</td>\n      <td>1990</td>\n      <td>0</td>\n      <td>1</td>\n      <td>9061</td>\n      <td>1742</td>\n      <td>230</td>\n      <td>0</td>\n      <td>0</td>\n      <td>4448474.0</td>\n    </tr>\n    <tr>\n      <th>9997</th>\n      <td>83841</td>\n      <td>3</td>\n      <td>0</td>\n      <td>0</td>\n      <td>69</td>\n      <td>80933</td>\n      <td>10</td>\n      <td>10</td>\n      <td>2005</td>\n      <td>1</td>\n      <td>1</td>\n      <td>8304</td>\n      <td>7730</td>\n      <td>345</td>\n      <td>1</td>\n      <td>9</td>\n      <td>8390030.5</td>\n    </tr>\n    <tr>\n      <th>9998</th>\n      <td>59036</td>\n      <td>70</td>\n      <td>0</td>\n      <td>0</td>\n      <td>96</td>\n      <td>55856</td>\n      <td>1</td>\n      <td>3</td>\n      <td>2010</td>\n      <td>0</td>\n      <td>1</td>\n      <td>2590</td>\n      <td>6174</td>\n      <td>339</td>\n      <td>1</td>\n      <td>4</td>\n      <td>5905107.0</td>\n    </tr>\n    <tr>\n      <th>9999</th>\n      <td>1440</td>\n      <td>84</td>\n      <td>0</td>\n      <td>0</td>\n      <td>49</td>\n      <td>18412</td>\n      <td>6</td>\n      <td>10</td>\n      <td>1994</td>\n      <td>1</td>\n      <td>0</td>\n      <td>8485</td>\n      <td>2024</td>\n      <td>278</td>\n      <td>1</td>\n      <td>6</td>\n      <td>146708.4</td>\n    </tr>\n  </tbody>\n</table>\n<p>10000 rows × 17 columns</p>\n</div>"
     },
     "execution_count": 195,
     "metadata": {},
     "output_type": "execute_result"
    }
   ],
   "source": [
    "house_dataset = pd.read_csv(\"../data/ParisHousing.csv\")\n",
    "house_dataset"
   ]
  },
  {
   "cell_type": "markdown",
   "source": [
    "# Podział na zbiór testowy i treningowy"
   ],
   "metadata": {
    "collapsed": false
   }
  },
  {
   "cell_type": "code",
   "outputs": [],
   "source": [
    "from sklearn.model_selection import train_test_split\n",
    "\n",
    "X = house_dataset.copy()\n",
    "X = X.drop(columns=[\"price\"])\n",
    "y = house_dataset[\"price\"]\n",
    "X_train, X_test, y_train, y_test = train_test_split(X, y, test_size=0.2)"
   ],
   "metadata": {
    "collapsed": false,
    "ExecuteTime": {
     "end_time": "2024-06-11T20:49:34.183719Z",
     "start_time": "2024-06-11T20:49:34.168714Z"
    }
   },
   "execution_count": 196
  },
  {
   "cell_type": "markdown",
   "source": [
    "# Inicjalizacja modelu"
   ],
   "metadata": {
    "collapsed": false
   }
  },
  {
   "cell_type": "code",
   "execution_count": 197,
   "metadata": {
    "ExecuteTime": {
     "end_time": "2024-06-11T20:49:34.262505Z",
     "start_time": "2024-06-11T20:49:34.188870Z"
    }
   },
   "outputs": [],
   "source": [
    "regressor = DecisionTreeRegressor(\n",
    "    criterion=\"squared_error\",\n",
    "    splitter=\"best\",\n",
    "    max_depth=100,\n",
    "    min_samples_split=10,\n",
    "    min_samples_leaf=5,\n",
    "    min_weight_fraction_leaf=0.0,\n",
    "    max_features=None,\n",
    "    random_state=None,\n",
    "    max_leaf_nodes=None,\n",
    "    min_impurity_decrease=0.0,\n",
    "    ccp_alpha=0.01,\n",
    "    monotonic_cst=None,\n",
    ")\n",
    "regressor = regressor.fit(X_train, y_train)"
   ]
  },
  {
   "cell_type": "markdown",
   "source": [
    "# Wyniki dla modelu przed dokładnym doborem parametrów"
   ],
   "metadata": {
    "collapsed": false
   }
  },
  {
   "cell_type": "code",
   "execution_count": 198,
   "metadata": {
    "ExecuteTime": {
     "end_time": "2024-06-11T20:49:34.267783Z",
     "start_time": "2024-06-11T20:49:34.263828Z"
    }
   },
   "outputs": [
    {
     "name": "stdout",
     "output_type": "stream",
     "text": [
      "R^2 score: 0.999997018\n"
     ]
    }
   ],
   "source": [
    "score = regressor.score(X_test, y_test)\n",
    "print(f\"R^2 score: {score:.9f}\")"
   ]
  },
  {
   "cell_type": "code",
   "execution_count": 199,
   "metadata": {
    "ExecuteTime": {
     "end_time": "2024-06-11T20:49:34.323874Z",
     "start_time": "2024-06-11T20:49:34.319486Z"
    }
   },
   "outputs": [],
   "source": [
    "y_pred = regressor.predict(X_test)\n",
    "results = pd.DataFrame({\"Actual\": y_test, \"Predicted\": y_pred})"
   ]
  },
  {
   "cell_type": "code",
   "execution_count": 200,
   "metadata": {
    "ExecuteTime": {
     "end_time": "2024-06-11T20:49:34.568029Z",
     "start_time": "2024-06-11T20:49:34.565229Z"
    }
   },
   "outputs": [
    {
     "name": "stdout",
     "output_type": "stream",
     "text": [
      "MSE loss: 25191642.961707342\n"
     ]
    }
   ],
   "source": [
    "print(f\"MSE loss: {mse_loss(y_test, y_pred)}\")"
   ]
  },
  {
   "cell_type": "code",
   "outputs": [
    {
     "name": "stdout",
     "output_type": "stream",
     "text": [
      "RMSE loss: 5019.12770924464\n"
     ]
    }
   ],
   "source": [
    "print(f\"RMSE loss: {rmse_loss(y_test, y_pred)}\")"
   ],
   "metadata": {
    "collapsed": false,
    "ExecuteTime": {
     "end_time": "2024-06-11T20:49:34.722484Z",
     "start_time": "2024-06-11T20:49:34.719012Z"
    }
   },
   "execution_count": 201
  },
  {
   "cell_type": "code",
   "outputs": [
    {
     "data": {
      "text/plain": "         Actual     Predicted\n3882  1935699.6  1.935062e+06\n3584  9914114.3  9.907731e+06\n2251  8287927.8  8.279828e+06\n3379  7623937.0  7.627994e+06\n169    521650.5  5.302363e+05\n...         ...           ...\n2668  1684521.7  1.682010e+06\n9786   168970.0  1.745384e+05\n2415  5819120.4  5.812607e+06\n6048  8331662.9  8.344137e+06\n3141  1677084.0  1.682010e+06\n\n[2000 rows x 2 columns]",
      "text/html": "<div>\n<style scoped>\n    .dataframe tbody tr th:only-of-type {\n        vertical-align: middle;\n    }\n\n    .dataframe tbody tr th {\n        vertical-align: top;\n    }\n\n    .dataframe thead th {\n        text-align: right;\n    }\n</style>\n<table border=\"1\" class=\"dataframe\">\n  <thead>\n    <tr style=\"text-align: right;\">\n      <th></th>\n      <th>Actual</th>\n      <th>Predicted</th>\n    </tr>\n  </thead>\n  <tbody>\n    <tr>\n      <th>3882</th>\n      <td>1935699.6</td>\n      <td>1.935062e+06</td>\n    </tr>\n    <tr>\n      <th>3584</th>\n      <td>9914114.3</td>\n      <td>9.907731e+06</td>\n    </tr>\n    <tr>\n      <th>2251</th>\n      <td>8287927.8</td>\n      <td>8.279828e+06</td>\n    </tr>\n    <tr>\n      <th>3379</th>\n      <td>7623937.0</td>\n      <td>7.627994e+06</td>\n    </tr>\n    <tr>\n      <th>169</th>\n      <td>521650.5</td>\n      <td>5.302363e+05</td>\n    </tr>\n    <tr>\n      <th>...</th>\n      <td>...</td>\n      <td>...</td>\n    </tr>\n    <tr>\n      <th>2668</th>\n      <td>1684521.7</td>\n      <td>1.682010e+06</td>\n    </tr>\n    <tr>\n      <th>9786</th>\n      <td>168970.0</td>\n      <td>1.745384e+05</td>\n    </tr>\n    <tr>\n      <th>2415</th>\n      <td>5819120.4</td>\n      <td>5.812607e+06</td>\n    </tr>\n    <tr>\n      <th>6048</th>\n      <td>8331662.9</td>\n      <td>8.344137e+06</td>\n    </tr>\n    <tr>\n      <th>3141</th>\n      <td>1677084.0</td>\n      <td>1.682010e+06</td>\n    </tr>\n  </tbody>\n</table>\n<p>2000 rows × 2 columns</p>\n</div>"
     },
     "execution_count": 202,
     "metadata": {},
     "output_type": "execute_result"
    }
   ],
   "source": [
    "results"
   ],
   "metadata": {
    "collapsed": false,
    "ExecuteTime": {
     "end_time": "2024-06-11T20:49:34.755169Z",
     "start_time": "2024-06-11T20:49:34.750335Z"
    }
   },
   "execution_count": 202
  },
  {
   "cell_type": "markdown",
   "source": [
    "# Funkcja służąca do stworzenia wykresów pokazujących zmiany metryk w trakcie trenowania"
   ],
   "metadata": {
    "collapsed": false
   }
  },
  {
   "cell_type": "code",
   "outputs": [],
   "source": [
    "def create_plots(min_samples_split_list, r2_scores, mse_losses, rmse_losses):\n",
    "\n",
    "    fig, axs = plt.subplots(3, figsize=(10, 15))\n",
    "    axs[0].plot(min_samples_split_list, r2_scores, marker=\"o\")\n",
    "    axs[0].set_title(\"R^2 score\")\n",
    "    axs[0].set_xlabel(\"min_samples_split\")\n",
    "    axs[0].set_ylabel(\"R^2 score\")\n",
    "    axs[0].grid(True)\n",
    "    axs[1].plot(min_samples_split_list, mse_losses, marker=\"o\")\n",
    "    axs[1].set_title(\"MSE loss\")\n",
    "    axs[1].set_xlabel(\"min_samples_split\")\n",
    "    axs[1].set_ylabel(\"MSE loss\")\n",
    "    axs[1].grid(True)\n",
    "    axs[2].plot(min_samples_split_list, rmse_losses, marker=\"o\")\n",
    "    axs[2].set_title(\"RMSE loss\")\n",
    "    axs[2].set_xlabel(\"min_samples_split\")\n",
    "    axs[2].set_ylabel(\"RMSE loss\")\n",
    "    axs[2].grid(True)\n",
    "    plt.tight_layout()\n",
    "    plt.show()"
   ],
   "metadata": {
    "collapsed": false,
    "ExecuteTime": {
     "end_time": "2024-06-11T20:49:34.887738Z",
     "start_time": "2024-06-11T20:49:34.882460Z"
    }
   },
   "execution_count": 203
  },
  {
   "cell_type": "markdown",
   "source": [
    "# Funkcja obliczająca metryki"
   ],
   "metadata": {
    "collapsed": false
   }
  },
  {
   "cell_type": "code",
   "outputs": [],
   "source": [
    "def calculate_scores(regressor, X, y):\n",
    "    score = regressor.score(X, y)\n",
    "    y_pred = regressor.predict(X)\n",
    "    mse = mse_loss(y, y_pred)\n",
    "    rmse = rmse_loss(y, y_pred)\n",
    "    return score, mse, rmse"
   ],
   "metadata": {
    "collapsed": false,
    "ExecuteTime": {
     "end_time": "2024-06-11T20:49:34.922729Z",
     "start_time": "2024-06-11T20:49:34.920521Z"
    }
   },
   "execution_count": 204
  },
  {
   "cell_type": "markdown",
   "source": [
    "# Badanie wpływu maksymalnej głębokości drzewa"
   ],
   "metadata": {
    "collapsed": false
   }
  },
  {
   "cell_type": "code",
   "outputs": [],
   "source": [
    "max_depth_list = [1, 5, 10, 15, 20, 25, 50, 100]"
   ],
   "metadata": {
    "collapsed": false,
    "ExecuteTime": {
     "end_time": "2024-06-11T20:49:35.000516Z",
     "start_time": "2024-06-11T20:49:34.998648Z"
    }
   },
   "execution_count": 205
  },
  {
   "cell_type": "code",
   "outputs": [
    {
     "name": "stdout",
     "output_type": "stream",
     "text": [
      "=======MAX DEPTH = 1======\n",
      "R^2 score: 0.745603822\n",
      "MSE loss: 2149199391202.1704\n",
      "RMSE loss: 1466014.7991074887\n",
      "=======MAX DEPTH = 5======\n",
      "R^2 score: 0.999046410\n",
      "MSE loss: 8056154199.726986\n",
      "RMSE loss: 89756.08168657422\n",
      "=======MAX DEPTH = 10======\n",
      "R^2 score: 0.999996919\n",
      "MSE loss: 26029537.208752457\n",
      "RMSE loss: 5101.915053070999\n",
      "=======MAX DEPTH = 15======\n",
      "R^2 score: 0.999997008\n",
      "MSE loss: 25279839.233937684\n",
      "RMSE loss: 5027.906048638706\n",
      "=======MAX DEPTH = 20======\n",
      "R^2 score: 0.999997008\n",
      "MSE loss: 25273748.62664767\n",
      "RMSE loss: 5027.30033185284\n",
      "=======MAX DEPTH = 25======\n",
      "R^2 score: 0.999997010\n",
      "MSE loss: 25256206.03604152\n",
      "RMSE loss: 5025.555296287319\n",
      "=======MAX DEPTH = 50======\n",
      "R^2 score: 0.999997016\n",
      "MSE loss: 25212274.19591512\n",
      "RMSE loss: 5021.182549550964\n",
      "=======MAX DEPTH = 100======\n",
      "R^2 score: 0.999997017\n",
      "MSE loss: 25198039.266758222\n",
      "RMSE loss: 5019.76486170002\n"
     ]
    }
   ],
   "source": [
    "for max_depth in max_depth_list:\n",
    "    print(f\"=======MAX DEPTH = {max_depth}======\")\n",
    "    regressor.max_depth = max_depth\n",
    "    regressor = regressor.fit(X_train, y_train)\n",
    "    score, mse, rmse = calculate_scores(regressor, X_test, y_test)\n",
    "    print(f\"R^2 score: {score:.9f}\")\n",
    "    print(f\"MSE loss: {mse}\")\n",
    "    print(f\"RMSE loss: {rmse}\")"
   ],
   "metadata": {
    "collapsed": false,
    "ExecuteTime": {
     "end_time": "2024-06-11T20:49:35.581594Z",
     "start_time": "2024-06-11T20:49:35.147490Z"
    }
   },
   "execution_count": 206
  },
  {
   "cell_type": "code",
   "outputs": [
    {
     "name": "stdout",
     "output_type": "stream",
     "text": [
      "=======MAX DEPTH = 1======\n",
      "R^2 score: 0.747017049\n",
      "MSE loss: 2083540278086.7585\n",
      "RMSE loss: 1443447.3589593624\n",
      "=======MAX DEPTH = 5======\n",
      "R^2 score: 0.999028366\n",
      "MSE loss: 8002273636.342003\n",
      "RMSE loss: 89455.42821060108\n",
      "=======MAX DEPTH = 10======\n",
      "R^2 score: 0.999998711\n",
      "MSE loss: 10616007.202105293\n",
      "RMSE loss: 3258.221478369034\n",
      "=======MAX DEPTH = 15======\n",
      "R^2 score: 0.999999005\n",
      "MSE loss: 8195984.575668451\n",
      "RMSE loss: 2862.8630033007958\n",
      "=======MAX DEPTH = 20======\n",
      "R^2 score: 0.999999005\n",
      "MSE loss: 8195984.575668451\n",
      "RMSE loss: 2862.8630033007958\n",
      "=======MAX DEPTH = 25======\n",
      "R^2 score: 0.999999005\n",
      "MSE loss: 8195984.575668451\n",
      "RMSE loss: 2862.8630033007958\n",
      "=======MAX DEPTH = 50======\n",
      "R^2 score: 0.999999005\n",
      "MSE loss: 8195984.575668452\n",
      "RMSE loss: 2862.8630033007958\n",
      "=======MAX DEPTH = 100======\n",
      "R^2 score: 0.999999005\n",
      "MSE loss: 8195984.575668451\n",
      "RMSE loss: 2862.8630033007958\n"
     ]
    }
   ],
   "source": [
    "for max_depth in max_depth_list:\n",
    "    print(f\"=======MAX DEPTH = {max_depth}======\")\n",
    "    regressor.max_depth = max_depth\n",
    "    regressor = regressor.fit(X_train, y_train)\n",
    "    score, mse, rmse = calculate_scores(regressor, X_train, y_train)\n",
    "    print(f\"R^2 score: {score:.9f}\")\n",
    "    print(f\"MSE loss: {mse}\")\n",
    "    print(f\"RMSE loss: {rmse}\")"
   ],
   "metadata": {
    "collapsed": false,
    "ExecuteTime": {
     "end_time": "2024-06-11T20:49:36.047316Z",
     "start_time": "2024-06-11T20:49:35.583372Z"
    }
   },
   "execution_count": 207
  },
  {
   "cell_type": "code",
   "outputs": [],
   "source": [
    "max_depth = 10\n",
    "regressor.max_depth = max_depth"
   ],
   "metadata": {
    "collapsed": false,
    "ExecuteTime": {
     "end_time": "2024-06-11T20:49:36.049996Z",
     "start_time": "2024-06-11T20:49:36.048179Z"
    }
   },
   "execution_count": 208
  },
  {
   "cell_type": "markdown",
   "source": [
    "# Badanie wyników dla różnych minimalnych ilości próbek do podziału"
   ],
   "metadata": {
    "collapsed": false
   }
  },
  {
   "cell_type": "code",
   "outputs": [],
   "source": [
    "min_samples_split_list = [2, 5, 10, 15, 25, 50, 100]"
   ],
   "metadata": {
    "collapsed": false,
    "ExecuteTime": {
     "end_time": "2024-06-11T20:49:36.053023Z",
     "start_time": "2024-06-11T20:49:36.051274Z"
    }
   },
   "execution_count": 209
  },
  {
   "cell_type": "code",
   "outputs": [
    {
     "name": "stdout",
     "output_type": "stream",
     "text": [
      "=======MIN SAMPLES  SPLIT= 2======\n",
      "R^2 score: 0.999996919\n",
      "MSE loss: 26029537.208752275\n",
      "RMSE loss: 5101.915053070981\n",
      "=======MIN SAMPLES  SPLIT= 5======\n",
      "R^2 score: 0.999996931\n",
      "MSE loss: 25931440.026330683\n",
      "RMSE loss: 5092.292217295732\n",
      "=======MIN SAMPLES  SPLIT= 10======\n",
      "R^2 score: 0.999996919\n",
      "MSE loss: 26029537.208752643\n",
      "RMSE loss: 5101.915053071018\n",
      "=======MIN SAMPLES  SPLIT= 15======\n",
      "R^2 score: 0.999996363\n",
      "MSE loss: 30722506.08970426\n",
      "RMSE loss: 5542.788656416936\n",
      "=======MIN SAMPLES  SPLIT= 25======\n",
      "R^2 score: 0.999993503\n",
      "MSE loss: 54890834.66022049\n",
      "RMSE loss: 7408.834905720365\n",
      "=======MIN SAMPLES  SPLIT= 50======\n",
      "R^2 score: 0.999980929\n",
      "MSE loss: 161116212.17014238\n",
      "RMSE loss: 12693.156115408901\n",
      "=======MIN SAMPLES  SPLIT= 100======\n",
      "R^2 score: 0.999936399\n",
      "MSE loss: 537313115.4266671\n",
      "RMSE loss: 23180.015431976466\n"
     ]
    }
   ],
   "source": [
    "for min_samples_split in min_samples_split_list:\n",
    "    print(f\"=======MIN SAMPLES  SPLIT= {min_samples_split}======\")\n",
    "    regressor.min_samples_split = min_samples_split\n",
    "    regressor = regressor.fit(X_train, y_train)\n",
    "    score, mse, rmse = calculate_scores(regressor, X_test, y_test)\n",
    "    print(f\"R^2 score: {score:.9f}\")\n",
    "    print(f\"MSE loss: {mse}\")\n",
    "    print(f\"RMSE loss: {rmse}\")"
   ],
   "metadata": {
    "collapsed": false,
    "ExecuteTime": {
     "end_time": "2024-06-11T20:49:36.477660Z",
     "start_time": "2024-06-11T20:49:36.053710Z"
    }
   },
   "execution_count": 210
  },
  {
   "cell_type": "code",
   "outputs": [
    {
     "name": "stdout",
     "output_type": "stream",
     "text": [
      "=======MIN SAMPLES  SPLIT= 2======\n",
      "R^2 score: 0.999998711\n",
      "MSE loss: 10616007.202105293\n",
      "RMSE loss: 3258.221478369034\n",
      "=======MIN SAMPLES  SPLIT= 5======\n",
      "R^2 score: 0.999998711\n",
      "MSE loss: 10616007.202105293\n",
      "RMSE loss: 3258.221478369034\n",
      "=======MIN SAMPLES  SPLIT= 10======\n",
      "R^2 score: 0.999998711\n",
      "MSE loss: 10616007.202105293\n",
      "RMSE loss: 3258.221478369034\n",
      "=======MIN SAMPLES  SPLIT= 15======\n",
      "R^2 score: 0.999998230\n",
      "MSE loss: 14578939.96418611\n",
      "RMSE loss: 3818.237808752371\n",
      "=======MIN SAMPLES  SPLIT= 25======\n",
      "R^2 score: 0.999995680\n",
      "MSE loss: 35582609.543959446\n",
      "RMSE loss: 5965.1160545256325\n",
      "=======MIN SAMPLES  SPLIT= 50======\n",
      "R^2 score: 0.999984097\n",
      "MSE loss: 130974988.08609723\n",
      "RMSE loss: 11444.430439567415\n",
      "=======MIN SAMPLES  SPLIT= 100======\n",
      "R^2 score: 0.999939404\n",
      "MSE loss: 499063334.17776746\n",
      "RMSE loss: 22339.725472300852\n"
     ]
    }
   ],
   "source": [
    "for min_samples_split in min_samples_split_list:\n",
    "    print(f\"=======MIN SAMPLES  SPLIT= {min_samples_split}======\")\n",
    "    regressor.min_samples_split = min_samples_split\n",
    "    regressor = regressor.fit(X_train, y_train)\n",
    "    score, mse, rmse = calculate_scores(regressor, X_train, y_train)\n",
    "    print(f\"R^2 score: {score:.9f}\")\n",
    "    print(f\"MSE loss: {mse}\")\n",
    "    print(f\"RMSE loss: {rmse}\")"
   ],
   "metadata": {
    "collapsed": false,
    "ExecuteTime": {
     "end_time": "2024-06-11T20:49:36.878911Z",
     "start_time": "2024-06-11T20:49:36.479278Z"
    }
   },
   "execution_count": 211
  },
  {
   "cell_type": "code",
   "outputs": [],
   "source": [
    "min_samples_split = 10\n",
    "regressor.min_samples_split = min_samples_split"
   ],
   "metadata": {
    "collapsed": false,
    "ExecuteTime": {
     "end_time": "2024-06-11T20:49:36.881585Z",
     "start_time": "2024-06-11T20:49:36.879631Z"
    }
   },
   "execution_count": 212
  },
  {
   "cell_type": "markdown",
   "source": [
    "# Badanie wpływu wartości minimalnej ilości próbek w liściu"
   ],
   "metadata": {
    "collapsed": false
   }
  },
  {
   "cell_type": "code",
   "outputs": [],
   "source": [
    "min_samples_leaf_list = [2, 5, 10, 15, 25, 50, 100]"
   ],
   "metadata": {
    "collapsed": false,
    "ExecuteTime": {
     "end_time": "2024-06-11T20:49:36.884181Z",
     "start_time": "2024-06-11T20:49:36.882581Z"
    }
   },
   "execution_count": 213
  },
  {
   "cell_type": "code",
   "outputs": [
    {
     "name": "stdout",
     "output_type": "stream",
     "text": [
      "=======MIN SAMPLES  LEAF= 2======\n",
      "R^2 score: 0.999996968\n",
      "MSE loss: 25615209.345885575\n",
      "RMSE loss: 5061.147038556139\n",
      "=======MIN SAMPLES  LEAF= 5======\n",
      "R^2 score: 0.999996927\n",
      "MSE loss: 25960532.548076555\n",
      "RMSE loss: 5095.147941726183\n",
      "=======MIN SAMPLES  LEAF= 10======\n",
      "R^2 score: 0.999994716\n",
      "MSE loss: 44638282.02641104\n",
      "RMSE loss: 6681.18866867349\n",
      "=======MIN SAMPLES  LEAF= 15======\n",
      "R^2 score: 0.999991141\n",
      "MSE loss: 74839917.07678172\n",
      "RMSE loss: 8651.00670886237\n",
      "=======MIN SAMPLES  LEAF= 25======\n",
      "R^2 score: 0.999980902\n",
      "MSE loss: 161343481.54028413\n",
      "RMSE loss: 12702.105397936364\n",
      "=======MIN SAMPLES  LEAF= 50======\n",
      "R^2 score: 0.999936515\n",
      "MSE loss: 536334614.27614117\n",
      "RMSE loss: 23158.899245778957\n",
      "=======MIN SAMPLES  LEAF= 100======\n",
      "R^2 score: 0.999762720\n",
      "MSE loss: 2004594981.028098\n",
      "RMSE loss: 44772.703526011224\n"
     ]
    }
   ],
   "source": [
    "for min_samples_leaf in min_samples_leaf_list:\n",
    "    print(f\"=======MIN SAMPLES  LEAF= {min_samples_leaf}======\")\n",
    "    regressor.min_samples_leaf = min_samples_leaf\n",
    "    regressor = regressor.fit(X_train, y_train)\n",
    "    score, mse, rmse = calculate_scores(regressor, X_test, y_test)\n",
    "    print(f\"R^2 score: {score:.9f}\")\n",
    "    print(f\"MSE loss: {mse}\")\n",
    "    print(f\"RMSE loss: {rmse}\")"
   ],
   "metadata": {
    "collapsed": false,
    "ExecuteTime": {
     "end_time": "2024-06-11T20:49:37.259859Z",
     "start_time": "2024-06-11T20:49:36.884772Z"
    }
   },
   "execution_count": 214
  },
  {
   "cell_type": "code",
   "outputs": [
    {
     "name": "stdout",
     "output_type": "stream",
     "text": [
      "=======MIN SAMPLES  LEAF= 2======\n",
      "R^2 score: 0.999998759\n",
      "MSE loss: 10223473.853017583\n",
      "RMSE loss: 3197.416746846989\n",
      "=======MIN SAMPLES  LEAF= 5======\n",
      "R^2 score: 0.999998711\n",
      "MSE loss: 10616007.202105293\n",
      "RMSE loss: 3258.221478369034\n",
      "=======MIN SAMPLES  LEAF= 10======\n",
      "R^2 score: 0.999996778\n",
      "MSE loss: 26539919.960270625\n",
      "RMSE loss: 5151.690980665535\n",
      "=======MIN SAMPLES  LEAF= 15======\n",
      "R^2 score: 0.999993408\n",
      "MSE loss: 54293892.24837299\n",
      "RMSE loss: 7368.438928862272\n",
      "=======MIN SAMPLES  LEAF= 25======\n",
      "R^2 score: 0.999983852\n",
      "MSE loss: 132993967.67576046\n",
      "RMSE loss: 11532.301057280827\n",
      "=======MIN SAMPLES  LEAF= 50======\n",
      "R^2 score: 0.999939257\n",
      "MSE loss: 500271390.0732694\n",
      "RMSE loss: 22366.747418283005\n",
      "=======MIN SAMPLES  LEAF= 100======\n",
      "R^2 score: 0.999755776\n",
      "MSE loss: 2011400278.7771716\n",
      "RMSE loss: 44848.63742386352\n"
     ]
    }
   ],
   "source": [
    "for min_samples_leaf in min_samples_leaf_list:\n",
    "    print(f\"=======MIN SAMPLES  LEAF= {min_samples_leaf}======\")\n",
    "    regressor.min_samples_leaf = min_samples_leaf\n",
    "    regressor = regressor.fit(X_train, y_train)\n",
    "    score, mse, rmse = calculate_scores(regressor, X_train, y_train)\n",
    "    print(f\"R^2 score: {score:.9f}\")\n",
    "    print(f\"MSE loss: {mse}\")\n",
    "    print(f\"RMSE loss: {rmse}\")"
   ],
   "metadata": {
    "collapsed": false,
    "ExecuteTime": {
     "end_time": "2024-06-11T20:49:37.632657Z",
     "start_time": "2024-06-11T20:49:37.262459Z"
    }
   },
   "execution_count": 215
  },
  {
   "cell_type": "code",
   "outputs": [],
   "source": [
    "min_samples_leaf = 5\n",
    "regressor.min_samples_leaf = min_samples_leaf"
   ],
   "metadata": {
    "collapsed": false,
    "ExecuteTime": {
     "end_time": "2024-06-11T20:49:37.635322Z",
     "start_time": "2024-06-11T20:49:37.633632Z"
    }
   },
   "execution_count": 216
  },
  {
   "cell_type": "markdown",
   "source": [
    "# Badanie wpływu strategi"
   ],
   "metadata": {
    "collapsed": false
   }
  },
  {
   "cell_type": "code",
   "outputs": [],
   "source": [
    "strategies = [\"random\", \"best\"]"
   ],
   "metadata": {
    "collapsed": false,
    "ExecuteTime": {
     "end_time": "2024-06-11T20:49:37.638647Z",
     "start_time": "2024-06-11T20:49:37.636584Z"
    }
   },
   "execution_count": 217
  },
  {
   "cell_type": "code",
   "outputs": [
    {
     "name": "stdout",
     "output_type": "stream",
     "text": [
      "=======Strategy= random======\n",
      "R^2 score: 0.999538421\n",
      "MSE loss: 3899531328.4264646\n",
      "RMSE loss: 62446.22749555384\n",
      "=======Strategy= best======\n",
      "R^2 score: 0.999996920\n",
      "MSE loss: 26019636.29856142\n",
      "RMSE loss: 5100.944647666883\n"
     ]
    }
   ],
   "source": [
    "for strategy in strategies:\n",
    "    print(f\"=======Strategy= {strategy}======\")\n",
    "    regressor.splitter = strategy\n",
    "    regressor = regressor.fit(X_train, y_train)\n",
    "    score, mse, rmse = calculate_scores(regressor, X_test, y_test)\n",
    "    print(f\"R^2 score: {score:.9f}\")\n",
    "    print(f\"MSE loss: {mse}\")\n",
    "    print(f\"RMSE loss: {rmse}\")"
   ],
   "metadata": {
    "collapsed": false,
    "ExecuteTime": {
     "end_time": "2024-06-11T20:49:37.716369Z",
     "start_time": "2024-06-11T20:49:37.639330Z"
    }
   },
   "execution_count": 218
  },
  {
   "cell_type": "code",
   "outputs": [
    {
     "name": "stdout",
     "output_type": "stream",
     "text": [
      "=======Strategy= random======\n",
      "R^2 score: 0.999075543\n",
      "MSE loss: 7613729773.15279\n",
      "RMSE loss: 87256.68898802424\n",
      "=======Strategy= best======\n",
      "R^2 score: 0.999998711\n",
      "MSE loss: 10616007.202105293\n",
      "RMSE loss: 3258.221478369034\n"
     ]
    }
   ],
   "source": [
    "for strategy in strategies:\n",
    "    print(f\"=======Strategy= {strategy}======\")\n",
    "    regressor.splitter = strategy\n",
    "    regressor = regressor.fit(X_train, y_train)\n",
    "    score, mse, rmse = calculate_scores(regressor, X_train, y_train)\n",
    "    print(f\"R^2 score: {score:.9f}\")\n",
    "    print(f\"MSE loss: {mse}\")\n",
    "    print(f\"RMSE loss: {rmse}\")"
   ],
   "metadata": {
    "collapsed": false,
    "ExecuteTime": {
     "end_time": "2024-06-11T20:49:37.797907Z",
     "start_time": "2024-06-11T20:49:37.717033Z"
    }
   },
   "execution_count": 219
  },
  {
   "cell_type": "markdown",
   "source": [
    "# Porównanie z modelem Liniowym"
   ],
   "metadata": {
    "collapsed": false
   }
  },
  {
   "cell_type": "code",
   "outputs": [],
   "source": [
    "from sklearn.linear_model import LinearRegression"
   ],
   "metadata": {
    "collapsed": false,
    "ExecuteTime": {
     "end_time": "2024-06-11T20:49:37.800859Z",
     "start_time": "2024-06-11T20:49:37.798920Z"
    }
   },
   "execution_count": 220
  },
  {
   "cell_type": "code",
   "outputs": [],
   "source": [
    "regressor = LinearRegression()\n",
    "regressor = regressor.fit(X_train, y_train)"
   ],
   "metadata": {
    "collapsed": false,
    "ExecuteTime": {
     "end_time": "2024-06-11T20:49:37.820392Z",
     "start_time": "2024-06-11T20:49:37.801501Z"
    }
   },
   "execution_count": 221
  },
  {
   "cell_type": "markdown",
   "source": [
    "# Zbiór walidacyjny"
   ],
   "metadata": {
    "collapsed": false
   }
  },
  {
   "cell_type": "code",
   "outputs": [],
   "source": [
    "score = regressor.score(X_test, y_test)"
   ],
   "metadata": {
    "collapsed": false,
    "ExecuteTime": {
     "end_time": "2024-06-11T20:49:37.939093Z",
     "start_time": "2024-06-11T20:49:37.913662Z"
    }
   },
   "execution_count": 222
  },
  {
   "cell_type": "code",
   "outputs": [],
   "source": [
    "y_pred = regressor.predict(X_test)\n",
    "results = pd.DataFrame({\"Actual\": y_test, \"Predicted\": y_pred})"
   ],
   "metadata": {
    "collapsed": false,
    "ExecuteTime": {
     "end_time": "2024-06-11T20:49:37.945256Z",
     "start_time": "2024-06-11T20:49:37.939908Z"
    }
   },
   "execution_count": 223
  },
  {
   "cell_type": "code",
   "outputs": [
    {
     "name": "stdout",
     "output_type": "stream",
     "text": [
      "R^2 score: 0.999999586\n",
      "MSE loss: 3497662.1023542513\n",
      "RMSE loss: 1870.2037595818942\n"
     ]
    }
   ],
   "source": [
    "print(f\"R^2 score: {score:.9f}\")\n",
    "print(f\"MSE loss: {mse_loss(y_test, y_pred)}\")\n",
    "print(f\"RMSE loss: {rmse_loss(y_test, y_pred)}\")"
   ],
   "metadata": {
    "collapsed": false,
    "ExecuteTime": {
     "end_time": "2024-06-11T20:49:37.958349Z",
     "start_time": "2024-06-11T20:49:37.953515Z"
    }
   },
   "execution_count": 224
  },
  {
   "cell_type": "markdown",
   "source": [
    "# Zbiór treningowy"
   ],
   "metadata": {
    "collapsed": false
   }
  },
  {
   "cell_type": "code",
   "outputs": [],
   "source": [
    "score = regressor.score(X_train, y_train)\n",
    "y_pred = regressor.predict(X_train)"
   ],
   "metadata": {
    "collapsed": false,
    "ExecuteTime": {
     "end_time": "2024-06-11T20:49:38.044032Z",
     "start_time": "2024-06-11T20:49:37.961088Z"
    }
   },
   "execution_count": 225
  },
  {
   "cell_type": "code",
   "outputs": [
    {
     "name": "stdout",
     "output_type": "stream",
     "text": [
      "R^2 score: 0.999999560\n",
      "MSE loss: 3626633.7287649205\n",
      "RMSE loss: 1904.3722663294907\n"
     ]
    }
   ],
   "source": [
    "print(f\"R^2 score: {score:.9f}\")\n",
    "print(f\"MSE loss: {mse_loss(y_train, y_pred)}\")\n",
    "print(f\"RMSE loss: {rmse_loss(y_train, y_pred)}\")"
   ],
   "metadata": {
    "collapsed": false,
    "ExecuteTime": {
     "end_time": "2024-06-11T20:49:38.053904Z",
     "start_time": "2024-06-11T20:49:38.047489Z"
    }
   },
   "execution_count": 226
  }
 ],
 "metadata": {
  "kernelspec": {
   "display_name": "Python 3 (ipykernel)",
   "language": "python",
   "name": "python3"
  },
  "language_info": {
   "codemirror_mode": {
    "name": "ipython",
    "version": 3
   },
   "file_extension": ".py",
   "mimetype": "text/x-python",
   "name": "python",
   "nbconvert_exporter": "python",
   "pygments_lexer": "ipython3",
   "version": "3.10.9"
  }
 },
 "nbformat": 4,
 "nbformat_minor": 4
}
