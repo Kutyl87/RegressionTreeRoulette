{
 "cells": [
  {
   "cell_type": "code",
   "execution_count": 1,
   "metadata": {},
   "outputs": [],
   "source": [
    "import pandas as pd\n",
    "import numpy as np\n",
    "from losses import rmse_loss, mse_loss\n",
    "import matplotlib.pyplot as plt"
   ]
  },
  {
   "cell_type": "code",
   "execution_count": 2,
   "metadata": {},
   "outputs": [],
   "source": [
    "car_dataset = pd.read_csv(\"../data/Carseats.csv\")\n",
    "car_dataset = pd.get_dummies(car_dataset, columns=[\"ShelveLoc\", \"Urban\", \"US\"])"
   ]
  },
  {
   "cell_type": "markdown",
   "metadata": {},
   "source": [
    "# Carset sales Prediction Data Preparation"
   ]
  },
  {
   "cell_type": "code",
   "execution_count": 3,
   "metadata": {},
   "outputs": [],
   "source": [
    "from sklearn.model_selection import train_test_split\n",
    "random_state = 42\n",
    "X = car_dataset.copy()\n",
    "X = X.drop(columns=[\"Sales\"])\n",
    "y = car_dataset[\"Sales\"]\n",
    "X_train, X_test, y_train, y_test = train_test_split(X, y, test_size=0.2, random_state=random_state)\n",
    "y_train_array = np.array(y_train.values)\n",
    "y_test_array = np.array(y_test.values)\n",
    "X_train_array = np.array(X_train.values)\n",
    "X_test_array = np.array(X_test.values)"
   ]
  },
  {
   "cell_type": "markdown",
   "metadata": {},
   "source": [
    "# Implementation of a Custom Decision Tree Regressor without roulette"
   ]
  },
  {
   "cell_type": "code",
   "execution_count": 24,
   "metadata": {},
   "outputs": [],
   "source": [
    "import numpy as np\n",
    "import random\n",
    "\n",
    "class Node:\n",
    "    def __init__(self, feature_index=None, threshold=None, left=None, right=None, value=None):\n",
    "        self.feature_index = feature_index \n",
    "        self.threshold = threshold\n",
    "        self.left = left  \n",
    "        self.right = right\n",
    "        self.value = value  \n",
    "\n",
    "class CustomDecisionTreeRegressor:\n",
    "    def __init__(self, max_depth=None, min_samples_split=1, min_samples=1):\n",
    "        self.max_depth = max_depth\n",
    "        self.min_samples_split = min_samples_split\n",
    "        self.min_samples = min_samples\n",
    "\n",
    "    def fit(self, X, y):\n",
    "        self.n_features_ = X.shape[1]\n",
    "        self.tree_ = self._grow_tree(X, y)\n",
    "\n",
    "    def _grow_tree(self, X, y, depth=0):\n",
    "        n_samples, n_features = X.shape\n",
    "        variance = np.var(y)\n",
    "\n",
    "        if depth == self.max_depth or n_samples <= self.min_samples_split or variance == 0 or n_samples < 2*self.min_samples + 1:\n",
    "            return Node(value=np.mean(y))\n",
    "        best_variance_reduction = 0\n",
    "        best_feature_index = None\n",
    "        best_threshold = None\n",
    "        for feature_index in range(n_features):\n",
    "            thresholds, values = zip(*sorted(zip(X[:, feature_index], y)))\n",
    "\n",
    "            for i in range(self.min_samples, n_samples - self.min_samples):\n",
    "                if values[i-1] == values[i]:\n",
    "                    continue  \n",
    "                threshold = (thresholds[i-1] + thresholds[i]) / 2\n",
    "                y_left = y[X[:, feature_index] <= threshold]\n",
    "                y_right = y[X[:, feature_index] > threshold]\n",
    "                variance_reduction = variance - (len(y_left) / n_samples * np.var(y_left) + len(y_right) / n_samples * np.var(y_right))\n",
    "                if variance_reduction > best_variance_reduction:\n",
    "                    best_variance_reduction = variance_reduction\n",
    "                    best_feature_index = feature_index\n",
    "                    best_threshold = threshold\n",
    "            \n",
    "\n",
    "        if best_variance_reduction == 0:\n",
    "            return Node(value=np.mean(y))\n",
    "\n",
    "        left_indices = X[:, best_feature_index] <= best_threshold\n",
    "        right_indices = X[:, best_feature_index] > best_threshold\n",
    "        left = self._grow_tree(X[left_indices], y[left_indices], depth + 1)\n",
    "        right = self._grow_tree(X[right_indices], y[right_indices], depth + 1)\n",
    "        return Node(feature_index=best_feature_index, threshold=best_threshold, left=left, right=right)\n",
    "\n",
    "    def predict(self, X):\n",
    "        return np.array([self._predict_tree(x, self.tree_) for x in X])\n",
    "\n",
    "    def _predict_tree(self, x, node):\n",
    "        if node.value is not None:\n",
    "            return node.value\n",
    "        if x[node.feature_index] <= node.threshold:\n",
    "            return self._predict_tree(x, node.left)\n",
    "        else:\n",
    "            return self._predict_tree(x, node.right)\n"
   ]
  },
  {
   "cell_type": "markdown",
   "metadata": {},
   "source": [
    "# Performance Evaluation Plots"
   ]
  },
  {
   "cell_type": "code",
   "execution_count": 6,
   "metadata": {},
   "outputs": [],
   "source": [
    "def create_plots(min_samples_split_list, r2_scores, mse_losses, rmse_losses):\n",
    "\n",
    "    fig, axs = plt.subplots(3, figsize=(10, 15))\n",
    "    axs[0].plot(min_samples_split_list, r2_scores, marker='o')\n",
    "    axs[0].set_title('R^2 score')\n",
    "    axs[0].set_xlabel('min_samples_split')\n",
    "    axs[0].set_ylabel('R^2 score')\n",
    "    axs[0].grid(True)\n",
    "    axs[1].plot(min_samples_split_list, mse_losses, marker='o')\n",
    "    axs[1].set_title('MSE loss')\n",
    "    axs[1].set_xlabel('min_samples_split')\n",
    "    axs[1].set_ylabel('MSE loss')\n",
    "    axs[1].grid(True)\n",
    "    axs[2].plot(min_samples_split_list, rmse_losses, marker='o')\n",
    "    axs[2].set_title('RMSE loss')\n",
    "    axs[2].set_xlabel('min_samples_split')\n",
    "    axs[2].set_ylabel('RMSE loss')\n",
    "    axs[2].grid(True)\n",
    "    plt.tight_layout()\n",
    "    plt.show()"
   ]
  },
  {
   "cell_type": "markdown",
   "metadata": {},
   "source": [
    "# Performance Tests"
   ]
  },
  {
   "cell_type": "code",
   "execution_count": 13,
   "metadata": {},
   "outputs": [],
   "source": [
    "max_depth_list = [1, 5, 10, 15, 20, 25,  50, 100]"
   ]
  },
  {
   "cell_type": "code",
   "execution_count": 15,
   "metadata": {},
   "outputs": [
    {
     "name": "stdout",
     "output_type": "stream",
     "text": [
      "=======MAX DEPTH = 1======\n",
      "R^2 score: 0.201955747\n",
      "MSE loss: 5.915175198974609\n",
      "RMSE loss: 2.432113319517536\n",
      "=======MAX DEPTH = 5======\n"
     ]
    },
    {
     "name": "stderr",
     "output_type": "stream",
     "text": [
      "c:\\Users\\micha\\AppData\\Local\\Programs\\Python\\Python310\\lib\\site-packages\\numpy\\core\\fromnumeric.py:3787: RuntimeWarning: Degrees of freedom <= 0 for slice\n",
      "  return _methods._var(a, axis=axis, dtype=dtype, out=out, ddof=ddof,\n",
      "c:\\Users\\micha\\AppData\\Local\\Programs\\Python\\Python310\\lib\\site-packages\\numpy\\core\\_methods.py:163: RuntimeWarning: invalid value encountered in divide\n",
      "  arrmean = um.true_divide(arrmean, div, out=arrmean,\n",
      "c:\\Users\\micha\\AppData\\Local\\Programs\\Python\\Python310\\lib\\site-packages\\numpy\\core\\_methods.py:198: RuntimeWarning: invalid value encountered in scalar divide\n",
      "  ret = ret.dtype.type(ret / rcount)\n",
      "c:\\Users\\micha\\AppData\\Local\\Programs\\Python\\Python310\\lib\\site-packages\\numpy\\core\\fromnumeric.py:3787: RuntimeWarning: Degrees of freedom <= 0 for slice\n",
      "  return _methods._var(a, axis=axis, dtype=dtype, out=out, ddof=ddof,\n",
      "c:\\Users\\micha\\AppData\\Local\\Programs\\Python\\Python310\\lib\\site-packages\\numpy\\core\\_methods.py:163: RuntimeWarning: invalid value encountered in divide\n",
      "  arrmean = um.true_divide(arrmean, div, out=arrmean,\n",
      "c:\\Users\\micha\\AppData\\Local\\Programs\\Python\\Python310\\lib\\site-packages\\numpy\\core\\_methods.py:198: RuntimeWarning: invalid value encountered in scalar divide\n",
      "  ret = ret.dtype.type(ret / rcount)\n"
     ]
    },
    {
     "name": "stdout",
     "output_type": "stream",
     "text": [
      "R^2 score: 0.712465159\n",
      "MSE loss: 2.131233892554749\n",
      "RMSE loss: 1.4598746153539177\n",
      "=======MAX DEPTH = 10======\n"
     ]
    },
    {
     "name": "stderr",
     "output_type": "stream",
     "text": [
      "c:\\Users\\micha\\AppData\\Local\\Programs\\Python\\Python310\\lib\\site-packages\\numpy\\core\\fromnumeric.py:3787: RuntimeWarning: Degrees of freedom <= 0 for slice\n",
      "  return _methods._var(a, axis=axis, dtype=dtype, out=out, ddof=ddof,\n",
      "c:\\Users\\micha\\AppData\\Local\\Programs\\Python\\Python310\\lib\\site-packages\\numpy\\core\\_methods.py:163: RuntimeWarning: invalid value encountered in divide\n",
      "  arrmean = um.true_divide(arrmean, div, out=arrmean,\n",
      "c:\\Users\\micha\\AppData\\Local\\Programs\\Python\\Python310\\lib\\site-packages\\numpy\\core\\_methods.py:198: RuntimeWarning: invalid value encountered in scalar divide\n",
      "  ret = ret.dtype.type(ret / rcount)\n"
     ]
    },
    {
     "name": "stdout",
     "output_type": "stream",
     "text": [
      "R^2 score: 0.826176121\n",
      "MSE loss: 1.2883980959821428\n",
      "RMSE loss: 1.1350762511752868\n",
      "=======MAX DEPTH = 15======\n"
     ]
    },
    {
     "name": "stderr",
     "output_type": "stream",
     "text": [
      "c:\\Users\\micha\\AppData\\Local\\Programs\\Python\\Python310\\lib\\site-packages\\numpy\\core\\fromnumeric.py:3787: RuntimeWarning: Degrees of freedom <= 0 for slice\n",
      "  return _methods._var(a, axis=axis, dtype=dtype, out=out, ddof=ddof,\n",
      "c:\\Users\\micha\\AppData\\Local\\Programs\\Python\\Python310\\lib\\site-packages\\numpy\\core\\_methods.py:163: RuntimeWarning: invalid value encountered in divide\n",
      "  arrmean = um.true_divide(arrmean, div, out=arrmean,\n",
      "c:\\Users\\micha\\AppData\\Local\\Programs\\Python\\Python310\\lib\\site-packages\\numpy\\core\\_methods.py:198: RuntimeWarning: invalid value encountered in scalar divide\n",
      "  ret = ret.dtype.type(ret / rcount)\n"
     ]
    },
    {
     "name": "stdout",
     "output_type": "stream",
     "text": [
      "R^2 score: 0.826176121\n",
      "MSE loss: 1.2883980959821428\n",
      "RMSE loss: 1.1350762511752868\n",
      "=======MAX DEPTH = 20======\n"
     ]
    },
    {
     "name": "stderr",
     "output_type": "stream",
     "text": [
      "c:\\Users\\micha\\AppData\\Local\\Programs\\Python\\Python310\\lib\\site-packages\\numpy\\core\\fromnumeric.py:3787: RuntimeWarning: Degrees of freedom <= 0 for slice\n",
      "  return _methods._var(a, axis=axis, dtype=dtype, out=out, ddof=ddof,\n",
      "c:\\Users\\micha\\AppData\\Local\\Programs\\Python\\Python310\\lib\\site-packages\\numpy\\core\\_methods.py:163: RuntimeWarning: invalid value encountered in divide\n",
      "  arrmean = um.true_divide(arrmean, div, out=arrmean,\n",
      "c:\\Users\\micha\\AppData\\Local\\Programs\\Python\\Python310\\lib\\site-packages\\numpy\\core\\_methods.py:198: RuntimeWarning: invalid value encountered in scalar divide\n",
      "  ret = ret.dtype.type(ret / rcount)\n"
     ]
    },
    {
     "name": "stdout",
     "output_type": "stream",
     "text": [
      "R^2 score: 0.826176121\n",
      "MSE loss: 1.2883980959821428\n",
      "RMSE loss: 1.1350762511752868\n",
      "=======MAX DEPTH = 25======\n"
     ]
    },
    {
     "name": "stderr",
     "output_type": "stream",
     "text": [
      "c:\\Users\\micha\\AppData\\Local\\Programs\\Python\\Python310\\lib\\site-packages\\numpy\\core\\fromnumeric.py:3787: RuntimeWarning: Degrees of freedom <= 0 for slice\n",
      "  return _methods._var(a, axis=axis, dtype=dtype, out=out, ddof=ddof,\n",
      "c:\\Users\\micha\\AppData\\Local\\Programs\\Python\\Python310\\lib\\site-packages\\numpy\\core\\_methods.py:163: RuntimeWarning: invalid value encountered in divide\n",
      "  arrmean = um.true_divide(arrmean, div, out=arrmean,\n",
      "c:\\Users\\micha\\AppData\\Local\\Programs\\Python\\Python310\\lib\\site-packages\\numpy\\core\\_methods.py:198: RuntimeWarning: invalid value encountered in scalar divide\n",
      "  ret = ret.dtype.type(ret / rcount)\n"
     ]
    },
    {
     "name": "stdout",
     "output_type": "stream",
     "text": [
      "R^2 score: 0.826176121\n",
      "MSE loss: 1.2883980959821428\n",
      "RMSE loss: 1.1350762511752868\n",
      "=======MAX DEPTH = 50======\n"
     ]
    },
    {
     "name": "stderr",
     "output_type": "stream",
     "text": [
      "c:\\Users\\micha\\AppData\\Local\\Programs\\Python\\Python310\\lib\\site-packages\\numpy\\core\\fromnumeric.py:3787: RuntimeWarning: Degrees of freedom <= 0 for slice\n",
      "  return _methods._var(a, axis=axis, dtype=dtype, out=out, ddof=ddof,\n",
      "c:\\Users\\micha\\AppData\\Local\\Programs\\Python\\Python310\\lib\\site-packages\\numpy\\core\\_methods.py:163: RuntimeWarning: invalid value encountered in divide\n",
      "  arrmean = um.true_divide(arrmean, div, out=arrmean,\n",
      "c:\\Users\\micha\\AppData\\Local\\Programs\\Python\\Python310\\lib\\site-packages\\numpy\\core\\_methods.py:198: RuntimeWarning: invalid value encountered in scalar divide\n",
      "  ret = ret.dtype.type(ret / rcount)\n"
     ]
    },
    {
     "name": "stdout",
     "output_type": "stream",
     "text": [
      "R^2 score: 0.826176121\n",
      "MSE loss: 1.2883980959821428\n",
      "RMSE loss: 1.1350762511752868\n",
      "=======MAX DEPTH = 100======\n"
     ]
    },
    {
     "name": "stderr",
     "output_type": "stream",
     "text": [
      "c:\\Users\\micha\\AppData\\Local\\Programs\\Python\\Python310\\lib\\site-packages\\numpy\\core\\fromnumeric.py:3787: RuntimeWarning: Degrees of freedom <= 0 for slice\n",
      "  return _methods._var(a, axis=axis, dtype=dtype, out=out, ddof=ddof,\n",
      "c:\\Users\\micha\\AppData\\Local\\Programs\\Python\\Python310\\lib\\site-packages\\numpy\\core\\_methods.py:163: RuntimeWarning: invalid value encountered in divide\n",
      "  arrmean = um.true_divide(arrmean, div, out=arrmean,\n",
      "c:\\Users\\micha\\AppData\\Local\\Programs\\Python\\Python310\\lib\\site-packages\\numpy\\core\\_methods.py:198: RuntimeWarning: invalid value encountered in scalar divide\n",
      "  ret = ret.dtype.type(ret / rcount)\n"
     ]
    },
    {
     "name": "stdout",
     "output_type": "stream",
     "text": [
      "R^2 score: 0.826176121\n",
      "MSE loss: 1.2883980959821428\n",
      "RMSE loss: 1.1350762511752868\n"
     ]
    },
    {
     "data": {
      "image/png": "[encoded data removed]",
      "text/plain": [
       "<Figure size 1000x1500 with 3 Axes>"
      ]
     },
     "metadata": {},
     "output_type": "display_data"
    }
   ],
   "source": [
    "from sklearn.metrics import r2_score\n",
    "\n",
    "r2_scores = []\n",
    "mse_losses = []\n",
    "rmse_losses = []\n",
    "for max_depth1 in max_depth_list:\n",
    "    print(f\"=======MAX DEPTH = {max_depth1}======\")\n",
    "    tree = CustomDecisionTreeRegressor(max_depth=max_depth1, min_samples_split=10, min_samples=5)\n",
    "    tree.fit(X_train_array, y_train_array)\n",
    "    y_pred = tree.predict(X_train_array)\n",
    "    score = r2_score(y_train_array, y_pred)\n",
    "    mse = mse_loss(y_train_array, y_pred)\n",
    "    rmse = rmse_loss(y_train_array, y_pred)\n",
    "    print(f\"R^2 score: {score:.9f}\")\n",
    "    print(f\"MSE loss: {mse}\")\n",
    "    print(f\"RMSE loss: {rmse}\")\n",
    "    r2_scores.append(score)\n",
    "    mse_losses.append(mse)\n",
    "    rmse_losses.append(rmse)\n",
    "create_plots(max_depth_list, r2_scores, mse_losses, rmse_losses)"
   ]
  },
  {
   "cell_type": "code",
   "execution_count": 10,
   "metadata": {},
   "outputs": [],
   "source": [
    "min_samples_split_list = [2, 5, 10, 15, 25, 50, 100]"
   ]
  },
  {
   "cell_type": "code",
   "execution_count": 11,
   "metadata": {},
   "outputs": [
    {
     "name": "stdout",
     "output_type": "stream",
     "text": [
      "=======MIN SAMPLES  SPLIT= 2======\n"
     ]
    },
    {
     "name": "stderr",
     "output_type": "stream",
     "text": [
      "c:\\Users\\micha\\AppData\\Local\\Programs\\Python\\Python310\\lib\\site-packages\\numpy\\core\\fromnumeric.py:3787: RuntimeWarning: Degrees of freedom <= 0 for slice\n",
      "  return _methods._var(a, axis=axis, dtype=dtype, out=out, ddof=ddof,\n",
      "c:\\Users\\micha\\AppData\\Local\\Programs\\Python\\Python310\\lib\\site-packages\\numpy\\core\\_methods.py:163: RuntimeWarning: invalid value encountered in divide\n",
      "  arrmean = um.true_divide(arrmean, div, out=arrmean,\n",
      "c:\\Users\\micha\\AppData\\Local\\Programs\\Python\\Python310\\lib\\site-packages\\numpy\\core\\_methods.py:198: RuntimeWarning: invalid value encountered in scalar divide\n",
      "  ret = ret.dtype.type(ret / rcount)\n"
     ]
    },
    {
     "name": "stdout",
     "output_type": "stream",
     "text": [
      "R^2 score: 0.826176121\n",
      "MSE loss: 1.2883980959821428\n",
      "RMSE loss: 1.1350762511752868\n",
      "=======MIN SAMPLES  SPLIT= 5======\n"
     ]
    },
    {
     "name": "stderr",
     "output_type": "stream",
     "text": [
      "c:\\Users\\micha\\AppData\\Local\\Programs\\Python\\Python310\\lib\\site-packages\\numpy\\core\\fromnumeric.py:3787: RuntimeWarning: Degrees of freedom <= 0 for slice\n",
      "  return _methods._var(a, axis=axis, dtype=dtype, out=out, ddof=ddof,\n",
      "c:\\Users\\micha\\AppData\\Local\\Programs\\Python\\Python310\\lib\\site-packages\\numpy\\core\\_methods.py:163: RuntimeWarning: invalid value encountered in divide\n",
      "  arrmean = um.true_divide(arrmean, div, out=arrmean,\n",
      "c:\\Users\\micha\\AppData\\Local\\Programs\\Python\\Python310\\lib\\site-packages\\numpy\\core\\_methods.py:198: RuntimeWarning: invalid value encountered in scalar divide\n",
      "  ret = ret.dtype.type(ret / rcount)\n"
     ]
    },
    {
     "name": "stdout",
     "output_type": "stream",
     "text": [
      "R^2 score: 0.826176121\n",
      "MSE loss: 1.2883980959821428\n",
      "RMSE loss: 1.1350762511752868\n",
      "=======MIN SAMPLES  SPLIT= 10======\n"
     ]
    },
    {
     "name": "stderr",
     "output_type": "stream",
     "text": [
      "c:\\Users\\micha\\AppData\\Local\\Programs\\Python\\Python310\\lib\\site-packages\\numpy\\core\\fromnumeric.py:3787: RuntimeWarning: Degrees of freedom <= 0 for slice\n",
      "  return _methods._var(a, axis=axis, dtype=dtype, out=out, ddof=ddof,\n",
      "c:\\Users\\micha\\AppData\\Local\\Programs\\Python\\Python310\\lib\\site-packages\\numpy\\core\\_methods.py:163: RuntimeWarning: invalid value encountered in divide\n",
      "  arrmean = um.true_divide(arrmean, div, out=arrmean,\n",
      "c:\\Users\\micha\\AppData\\Local\\Programs\\Python\\Python310\\lib\\site-packages\\numpy\\core\\_methods.py:198: RuntimeWarning: invalid value encountered in scalar divide\n",
      "  ret = ret.dtype.type(ret / rcount)\n"
     ]
    },
    {
     "name": "stdout",
     "output_type": "stream",
     "text": [
      "R^2 score: 0.826176121\n",
      "MSE loss: 1.2883980959821428\n",
      "RMSE loss: 1.1350762511752868\n",
      "=======MIN SAMPLES  SPLIT= 15======\n"
     ]
    },
    {
     "name": "stderr",
     "output_type": "stream",
     "text": [
      "c:\\Users\\micha\\AppData\\Local\\Programs\\Python\\Python310\\lib\\site-packages\\numpy\\core\\fromnumeric.py:3787: RuntimeWarning: Degrees of freedom <= 0 for slice\n",
      "  return _methods._var(a, axis=axis, dtype=dtype, out=out, ddof=ddof,\n",
      "c:\\Users\\micha\\AppData\\Local\\Programs\\Python\\Python310\\lib\\site-packages\\numpy\\core\\_methods.py:163: RuntimeWarning: invalid value encountered in divide\n",
      "  arrmean = um.true_divide(arrmean, div, out=arrmean,\n",
      "c:\\Users\\micha\\AppData\\Local\\Programs\\Python\\Python310\\lib\\site-packages\\numpy\\core\\_methods.py:198: RuntimeWarning: invalid value encountered in scalar divide\n",
      "  ret = ret.dtype.type(ret / rcount)\n"
     ]
    },
    {
     "name": "stdout",
     "output_type": "stream",
     "text": [
      "R^2 score: 0.787223261\n",
      "MSE loss: 1.5771201735807594\n",
      "RMSE loss: 1.255834453095136\n",
      "=======MIN SAMPLES  SPLIT= 25======\n"
     ]
    },
    {
     "name": "stderr",
     "output_type": "stream",
     "text": [
      "c:\\Users\\micha\\AppData\\Local\\Programs\\Python\\Python310\\lib\\site-packages\\numpy\\core\\fromnumeric.py:3787: RuntimeWarning: Degrees of freedom <= 0 for slice\n",
      "  return _methods._var(a, axis=axis, dtype=dtype, out=out, ddof=ddof,\n",
      "c:\\Users\\micha\\AppData\\Local\\Programs\\Python\\Python310\\lib\\site-packages\\numpy\\core\\_methods.py:163: RuntimeWarning: invalid value encountered in divide\n",
      "  arrmean = um.true_divide(arrmean, div, out=arrmean,\n",
      "c:\\Users\\micha\\AppData\\Local\\Programs\\Python\\Python310\\lib\\site-packages\\numpy\\core\\_methods.py:198: RuntimeWarning: invalid value encountered in scalar divide\n",
      "  ret = ret.dtype.type(ret / rcount)\n"
     ]
    },
    {
     "name": "stdout",
     "output_type": "stream",
     "text": [
      "R^2 score: 0.721457761\n",
      "MSE loss: 2.0645799219392744\n",
      "RMSE loss: 1.4368646150348594\n",
      "=======MIN SAMPLES  SPLIT= 50======\n"
     ]
    },
    {
     "name": "stderr",
     "output_type": "stream",
     "text": [
      "c:\\Users\\micha\\AppData\\Local\\Programs\\Python\\Python310\\lib\\site-packages\\numpy\\core\\fromnumeric.py:3787: RuntimeWarning: Degrees of freedom <= 0 for slice\n",
      "  return _methods._var(a, axis=axis, dtype=dtype, out=out, ddof=ddof,\n",
      "c:\\Users\\micha\\AppData\\Local\\Programs\\Python\\Python310\\lib\\site-packages\\numpy\\core\\_methods.py:163: RuntimeWarning: invalid value encountered in divide\n",
      "  arrmean = um.true_divide(arrmean, div, out=arrmean,\n",
      "c:\\Users\\micha\\AppData\\Local\\Programs\\Python\\Python310\\lib\\site-packages\\numpy\\core\\_methods.py:198: RuntimeWarning: invalid value encountered in scalar divide\n",
      "  ret = ret.dtype.type(ret / rcount)\n"
     ]
    },
    {
     "name": "stdout",
     "output_type": "stream",
     "text": [
      "R^2 score: 0.601542576\n",
      "MSE loss: 2.9534019755077376\n",
      "RMSE loss: 1.7185464717335222\n",
      "=======MIN SAMPLES  SPLIT= 100======\n"
     ]
    },
    {
     "name": "stderr",
     "output_type": "stream",
     "text": [
      "c:\\Users\\micha\\AppData\\Local\\Programs\\Python\\Python310\\lib\\site-packages\\numpy\\core\\fromnumeric.py:3787: RuntimeWarning: Degrees of freedom <= 0 for slice\n",
      "  return _methods._var(a, axis=axis, dtype=dtype, out=out, ddof=ddof,\n",
      "c:\\Users\\micha\\AppData\\Local\\Programs\\Python\\Python310\\lib\\site-packages\\numpy\\core\\_methods.py:163: RuntimeWarning: invalid value encountered in divide\n",
      "  arrmean = um.true_divide(arrmean, div, out=arrmean,\n",
      "c:\\Users\\micha\\AppData\\Local\\Programs\\Python\\Python310\\lib\\site-packages\\numpy\\core\\_methods.py:198: RuntimeWarning: invalid value encountered in scalar divide\n",
      "  ret = ret.dtype.type(ret / rcount)\n"
     ]
    },
    {
     "name": "stdout",
     "output_type": "stream",
     "text": [
      "R^2 score: 0.427325902\n",
      "MSE loss: 4.244711504093433\n",
      "RMSE loss: 2.0602697648835777\n"
     ]
    }
   ],
   "source": [
    "for min_samples_split in min_samples_split_list:\n",
    "    print(f\"=======MIN SAMPLES  SPLIT= {min_samples_split}======\")\n",
    "    tree = CustomDecisionTreeRegressor(max_depth=10, min_samples_split=min_samples_split, min_samples=5)\n",
    "    tree.fit(X_train_array, y_train_array)\n",
    "    y_pred = tree.predict(X_train_array)\n",
    "    score = r2_score(y_train_array, y_pred)\n",
    "    print(f\"R^2 score: {score:.9f}\")\n",
    "    print(f\"MSE loss: {mse_loss(y_train_array, y_pred)}\")\n",
    "    print(f\"RMSE loss: {rmse_loss(y_train_array, y_pred)}\")"
   ]
  },
  {
   "cell_type": "code",
   "execution_count": 17,
   "metadata": {},
   "outputs": [],
   "source": [
    "min_samples_leaf_list = [2, 5, 10, 15, 25, 50, 100]"
   ]
  },
  {
   "cell_type": "code",
   "execution_count": 18,
   "metadata": {},
   "outputs": [
    {
     "name": "stdout",
     "output_type": "stream",
     "text": [
      "=======MIN SAMPLES  LEAF= 2======\n"
     ]
    },
    {
     "name": "stderr",
     "output_type": "stream",
     "text": [
      "c:\\Users\\micha\\AppData\\Local\\Programs\\Python\\Python310\\lib\\site-packages\\numpy\\core\\fromnumeric.py:3787: RuntimeWarning: Degrees of freedom <= 0 for slice\n",
      "  return _methods._var(a, axis=axis, dtype=dtype, out=out, ddof=ddof,\n",
      "c:\\Users\\micha\\AppData\\Local\\Programs\\Python\\Python310\\lib\\site-packages\\numpy\\core\\_methods.py:163: RuntimeWarning: invalid value encountered in divide\n",
      "  arrmean = um.true_divide(arrmean, div, out=arrmean,\n",
      "c:\\Users\\micha\\AppData\\Local\\Programs\\Python\\Python310\\lib\\site-packages\\numpy\\core\\_methods.py:198: RuntimeWarning: invalid value encountered in scalar divide\n",
      "  ret = ret.dtype.type(ret / rcount)\n"
     ]
    },
    {
     "name": "stdout",
     "output_type": "stream",
     "text": [
      "R^2 score: 0.853486542\n",
      "MSE loss: 1.085970822296627\n",
      "RMSE loss: 1.0420992382190033\n",
      "=======MIN SAMPLES  LEAF= 5======\n"
     ]
    },
    {
     "name": "stderr",
     "output_type": "stream",
     "text": [
      "c:\\Users\\micha\\AppData\\Local\\Programs\\Python\\Python310\\lib\\site-packages\\numpy\\core\\fromnumeric.py:3787: RuntimeWarning: Degrees of freedom <= 0 for slice\n",
      "  return _methods._var(a, axis=axis, dtype=dtype, out=out, ddof=ddof,\n",
      "c:\\Users\\micha\\AppData\\Local\\Programs\\Python\\Python310\\lib\\site-packages\\numpy\\core\\_methods.py:163: RuntimeWarning: invalid value encountered in divide\n",
      "  arrmean = um.true_divide(arrmean, div, out=arrmean,\n",
      "c:\\Users\\micha\\AppData\\Local\\Programs\\Python\\Python310\\lib\\site-packages\\numpy\\core\\_methods.py:198: RuntimeWarning: invalid value encountered in scalar divide\n",
      "  ret = ret.dtype.type(ret / rcount)\n"
     ]
    },
    {
     "name": "stdout",
     "output_type": "stream",
     "text": [
      "R^2 score: 0.826176121\n",
      "MSE loss: 1.2883980959821428\n",
      "RMSE loss: 1.1350762511752868\n",
      "=======MIN SAMPLES  LEAF= 10======\n"
     ]
    },
    {
     "name": "stderr",
     "output_type": "stream",
     "text": [
      "c:\\Users\\micha\\AppData\\Local\\Programs\\Python\\Python310\\lib\\site-packages\\numpy\\core\\fromnumeric.py:3787: RuntimeWarning: Degrees of freedom <= 0 for slice\n",
      "  return _methods._var(a, axis=axis, dtype=dtype, out=out, ddof=ddof,\n",
      "c:\\Users\\micha\\AppData\\Local\\Programs\\Python\\Python310\\lib\\site-packages\\numpy\\core\\_methods.py:163: RuntimeWarning: invalid value encountered in divide\n",
      "  arrmean = um.true_divide(arrmean, div, out=arrmean,\n",
      "c:\\Users\\micha\\AppData\\Local\\Programs\\Python\\Python310\\lib\\site-packages\\numpy\\core\\_methods.py:198: RuntimeWarning: invalid value encountered in scalar divide\n",
      "  ret = ret.dtype.type(ret / rcount)\n"
     ]
    },
    {
     "name": "stdout",
     "output_type": "stream",
     "text": [
      "R^2 score: 0.726318965\n",
      "MSE loss: 2.0285482481406674\n",
      "RMSE loss: 1.424271128732401\n",
      "=======MIN SAMPLES  LEAF= 15======\n"
     ]
    },
    {
     "name": "stderr",
     "output_type": "stream",
     "text": [
      "c:\\Users\\micha\\AppData\\Local\\Programs\\Python\\Python310\\lib\\site-packages\\numpy\\core\\fromnumeric.py:3787: RuntimeWarning: Degrees of freedom <= 0 for slice\n",
      "  return _methods._var(a, axis=axis, dtype=dtype, out=out, ddof=ddof,\n",
      "c:\\Users\\micha\\AppData\\Local\\Programs\\Python\\Python310\\lib\\site-packages\\numpy\\core\\_methods.py:163: RuntimeWarning: invalid value encountered in divide\n",
      "  arrmean = um.true_divide(arrmean, div, out=arrmean,\n",
      "c:\\Users\\micha\\AppData\\Local\\Programs\\Python\\Python310\\lib\\site-packages\\numpy\\core\\_methods.py:198: RuntimeWarning: invalid value encountered in scalar divide\n",
      "  ret = ret.dtype.type(ret / rcount)\n"
     ]
    },
    {
     "name": "stdout",
     "output_type": "stream",
     "text": [
      "R^2 score: 0.661887009\n",
      "MSE loss: 2.5061236503328166\n",
      "RMSE loss: 1.5830741139734477\n",
      "=======MIN SAMPLES  LEAF= 25======\n"
     ]
    },
    {
     "name": "stderr",
     "output_type": "stream",
     "text": [
      "c:\\Users\\micha\\AppData\\Local\\Programs\\Python\\Python310\\lib\\site-packages\\numpy\\core\\fromnumeric.py:3787: RuntimeWarning: Degrees of freedom <= 0 for slice\n",
      "  return _methods._var(a, axis=axis, dtype=dtype, out=out, ddof=ddof,\n",
      "c:\\Users\\micha\\AppData\\Local\\Programs\\Python\\Python310\\lib\\site-packages\\numpy\\core\\_methods.py:163: RuntimeWarning: invalid value encountered in divide\n",
      "  arrmean = um.true_divide(arrmean, div, out=arrmean,\n",
      "c:\\Users\\micha\\AppData\\Local\\Programs\\Python\\Python310\\lib\\site-packages\\numpy\\core\\_methods.py:198: RuntimeWarning: invalid value encountered in scalar divide\n",
      "  ret = ret.dtype.type(ret / rcount)\n"
     ]
    },
    {
     "name": "stdout",
     "output_type": "stream",
     "text": [
      "R^2 score: 0.534768636\n",
      "MSE loss: 3.448336374946476\n",
      "RMSE loss: 1.8569696752899536\n",
      "=======MIN SAMPLES  LEAF= 50======\n",
      "R^2 score: 0.417272890\n",
      "MSE loss: 4.319225328876903\n",
      "RMSE loss: 2.0782746038184903\n",
      "=======MIN SAMPLES  LEAF= 100======\n"
     ]
    },
    {
     "name": "stderr",
     "output_type": "stream",
     "text": [
      "c:\\Users\\micha\\AppData\\Local\\Programs\\Python\\Python310\\lib\\site-packages\\numpy\\core\\fromnumeric.py:3787: RuntimeWarning: Degrees of freedom <= 0 for slice\n",
      "  return _methods._var(a, axis=axis, dtype=dtype, out=out, ddof=ddof,\n",
      "c:\\Users\\micha\\AppData\\Local\\Programs\\Python\\Python310\\lib\\site-packages\\numpy\\core\\_methods.py:163: RuntimeWarning: invalid value encountered in divide\n",
      "  arrmean = um.true_divide(arrmean, div, out=arrmean,\n",
      "c:\\Users\\micha\\AppData\\Local\\Programs\\Python\\Python310\\lib\\site-packages\\numpy\\core\\_methods.py:198: RuntimeWarning: invalid value encountered in scalar divide\n",
      "  ret = ret.dtype.type(ret / rcount)\n",
      "c:\\Users\\micha\\AppData\\Local\\Programs\\Python\\Python310\\lib\\site-packages\\numpy\\core\\fromnumeric.py:3787: RuntimeWarning: Degrees of freedom <= 0 for slice\n",
      "  return _methods._var(a, axis=axis, dtype=dtype, out=out, ddof=ddof,\n",
      "c:\\Users\\micha\\AppData\\Local\\Programs\\Python\\Python310\\lib\\site-packages\\numpy\\core\\_methods.py:163: RuntimeWarning: invalid value encountered in divide\n",
      "  arrmean = um.true_divide(arrmean, div, out=arrmean,\n",
      "c:\\Users\\micha\\AppData\\Local\\Programs\\Python\\Python310\\lib\\site-packages\\numpy\\core\\_methods.py:198: RuntimeWarning: invalid value encountered in scalar divide\n",
      "  ret = ret.dtype.type(ret / rcount)\n"
     ]
    },
    {
     "name": "stdout",
     "output_type": "stream",
     "text": [
      "R^2 score: 0.286619504\n",
      "MSE loss: 5.287639879611056\n",
      "RMSE loss: 2.299486873111272\n"
     ]
    }
   ],
   "source": [
    "for min_samples_leaf in min_samples_leaf_list:\n",
    "    print(f\"=======MIN SAMPLES  LEAF= {min_samples_leaf}======\")\n",
    "    tree = CustomDecisionTreeRegressor(max_depth=10, min_samples_split=10, min_samples=min_samples_leaf)\n",
    "    tree.fit(X_train_array, y_train_array)\n",
    "    y_pred = tree.predict(X_train_array)\n",
    "    score = r2_score(y_train_array, y_pred)\n",
    "    print(f\"R^2 score: {score:.9f}\")\n",
    "    print(f\"MSE loss: {mse_loss(y_train_array, y_pred)}\")\n",
    "    print(f\"RMSE loss: {rmse_loss(y_train_array, y_pred)}\")"
   ]
  },
  {
   "cell_type": "markdown",
   "metadata": {},
   "source": [
    "# Implementation of a Custom Decision Tree Regressor without roulette"
   ]
  },
  {
   "cell_type": "code",
   "execution_count": 20,
   "metadata": {},
   "outputs": [],
   "source": [
    "import numpy as np\n",
    "import random\n",
    "\n",
    "class Node:\n",
    "    def __init__(self, feature_index=None, threshold=None, left=None, right=None, value=None):\n",
    "        self.feature_index = feature_index \n",
    "        self.threshold = threshold\n",
    "        self.left = left  \n",
    "        self.right = right\n",
    "        self.value = value  \n",
    "\n",
    "class CustomDecisionTreeRegressor:\n",
    "    def __init__(self, max_depth=None, min_samples_split=1, min_samples=1):\n",
    "        self.max_depth = max_depth\n",
    "        self.min_samples_split = min_samples_split\n",
    "        self.min_samples = min_samples\n",
    "\n",
    "    def fit(self, X, y):\n",
    "        self.n_features_ = X.shape[1]\n",
    "        self.tree_ = self._grow_tree(X, y)\n",
    "\n",
    "    def _grow_tree(self, X, y, depth=0):\n",
    "        n_samples, n_features = X.shape\n",
    "        variance = np.var(y)\n",
    "\n",
    "        if depth == self.max_depth or n_samples <= self.min_samples_split or variance == 0 or n_samples < 2*self.min_samples + 1:\n",
    "            return Node(value=np.mean(y))\n",
    "        best_variance_reduction = 0\n",
    "        best_feature_index = None\n",
    "        best_threshold = None\n",
    "        for feature_index in range(n_features):\n",
    "            thresholds, values = zip(*sorted(zip(X[:, feature_index], y)))\n",
    "            thresholds_reductions = []\n",
    "            for i in range(self.min_samples, n_samples - self.min_samples):\n",
    "                if values[i-1] == values[i]:\n",
    "                    continue  \n",
    "                threshold = (thresholds[i-1] + thresholds[i]) / 2\n",
    "                y_left = y[X[:, feature_index] <= threshold]\n",
    "                y_right = y[X[:, feature_index] > threshold]\n",
    "                variance_reduction = variance - (len(y_left) / n_samples * np.var(y_left) + len(y_right) / n_samples * np.var(y_right))\n",
    "                if np.isfinite(variance_reduction):\n",
    "                    thresholds_reductions.append((threshold, variance_reduction))\n",
    "            \n",
    "            if thresholds_reductions:\n",
    "                _, weights = zip(*thresholds_reductions)\n",
    "                random.seed(42)\n",
    "                threshold, variance_reductions = zip(*random.choices(thresholds_reductions, weights=weights, k=1))\n",
    "                variance_reduction = variance_reductions[0]\n",
    "            if variance_reduction > best_variance_reduction:\n",
    "                best_variance_reduction = variance_reduction\n",
    "                best_feature_index = feature_index\n",
    "                best_threshold = threshold\n",
    "        \n",
    "\n",
    "        if best_variance_reduction == 0:\n",
    "            return Node(value=np.mean(y))\n",
    "\n",
    "        left_indices = X[:, best_feature_index] <= best_threshold\n",
    "        right_indices = X[:, best_feature_index] > best_threshold\n",
    "        left = self._grow_tree(X[left_indices], y[left_indices], depth + 1)\n",
    "        right = self._grow_tree(X[right_indices], y[right_indices], depth + 1)\n",
    "        return Node(feature_index=best_feature_index, threshold=best_threshold, left=left, right=right)\n",
    "\n",
    "    def predict(self, X):\n",
    "        return np.array([self._predict_tree(x, self.tree_) for x in X])\n",
    "\n",
    "    def _predict_tree(self, x, node):\n",
    "        if node.value is not None:\n",
    "            return node.value\n",
    "        temp = x[node.feature_index]\n",
    "        if temp == False:\n",
    "            temp = 0\n",
    "        if temp <= node.threshold[0]:\n",
    "            return self._predict_tree(x, node.left)\n",
    "        else:\n",
    "            return self._predict_tree(x, node.right)\n",
    "\n",
    "\n"
   ]
  },
  {
   "cell_type": "code",
   "execution_count": 25,
   "metadata": {},
   "outputs": [
    {
     "name": "stderr",
     "output_type": "stream",
     "text": [
      "c:\\Users\\micha\\AppData\\Local\\Programs\\Python\\Python310\\lib\\site-packages\\numpy\\core\\fromnumeric.py:3787: RuntimeWarning: Degrees of freedom <= 0 for slice\n",
      "  return _methods._var(a, axis=axis, dtype=dtype, out=out, ddof=ddof,\n",
      "c:\\Users\\micha\\AppData\\Local\\Programs\\Python\\Python310\\lib\\site-packages\\numpy\\core\\_methods.py:163: RuntimeWarning: invalid value encountered in divide\n",
      "  arrmean = um.true_divide(arrmean, div, out=arrmean,\n",
      "c:\\Users\\micha\\AppData\\Local\\Programs\\Python\\Python310\\lib\\site-packages\\numpy\\core\\_methods.py:198: RuntimeWarning: invalid value encountered in scalar divide\n",
      "  ret = ret.dtype.type(ret / rcount)\n"
     ]
    },
    {
     "name": "stdout",
     "output_type": "stream",
     "text": [
      "R^2 score: 0.826176121\n",
      "MSE loss: 1.2883980959821428\n",
      "RMSE loss: 1.1350762511752868\n"
     ]
    }
   ],
   "source": [
    "tree = CustomDecisionTreeRegressor(max_depth=10, min_samples_split=10, min_samples=5)\n",
    "tree.fit(X_train_array, y_train_array)\n",
    "y_pred = tree.predict(X_train_array)\n",
    "score = r2_score(y_train_array, y_pred)\n",
    "print(f\"R^2 score: {score:.9f}\")\n",
    "print(f\"MSE loss: {mse_loss(y_train_array, y_pred)}\")\n",
    "print(f\"RMSE loss: {rmse_loss(y_train_array, y_pred)}\")"
   ]
  }
 ],
 "metadata": {
  "kernelspec": {
   "display_name": "Python 3 (ipykernel)",
   "language": "python",
   "name": "python3"
  },
  "language_info": {
   "codemirror_mode": {
    "name": "ipython",
    "version": 3
   },
   "file_extension": ".py",
   "mimetype": "text/x-python",
   "name": "python",
   "nbconvert_exporter": "python",
   "pygments_lexer": "ipython3",
   "version": "3.10.9"
  }
 },
 "nbformat": 4,
 "nbformat_minor": 4
}
