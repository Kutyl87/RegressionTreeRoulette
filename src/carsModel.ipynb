{
 "cells": [
  {
   "cell_type": "code",
   "execution_count": 56,
   "metadata": {},
   "outputs": [],
   "source": [
    "import pandas as pd\n",
    "import numpy as np\n",
    "from losses import rmse_loss, mse_loss\n",
    "import matplotlib.pyplot as plt"
   ]
  },
  {
   "cell_type": "code",
   "execution_count": 57,
   "metadata": {},
   "outputs": [
    {
     "data": {
      "text/html": [
       "<div>\n",
       "<style scoped>\n",
       "    .dataframe tbody tr th:only-of-type {\n",
       "        vertical-align: middle;\n",
       "    }\n",
       "\n",
       "    .dataframe tbody tr th {\n",
       "        vertical-align: top;\n",
       "    }\n",
       "\n",
       "    .dataframe thead th {\n",
       "        text-align: right;\n",
       "    }\n",
       "</style>\n",
       "<table border=\"1\" class=\"dataframe\">\n",
       "  <thead>\n",
       "    <tr style=\"text-align: right;\">\n",
       "      <th></th>\n",
       "      <th>Sales</th>\n",
       "      <th>CompPrice</th>\n",
       "      <th>Income</th>\n",
       "      <th>Advertising</th>\n",
       "      <th>Population</th>\n",
       "      <th>Price</th>\n",
       "      <th>Age</th>\n",
       "      <th>Education</th>\n",
       "      <th>ShelveLoc_Bad</th>\n",
       "      <th>ShelveLoc_Good</th>\n",
       "      <th>ShelveLoc_Medium</th>\n",
       "      <th>Urban_No</th>\n",
       "      <th>Urban_Yes</th>\n",
       "      <th>US_No</th>\n",
       "      <th>US_Yes</th>\n",
       "    </tr>\n",
       "  </thead>\n",
       "  <tbody>\n",
       "    <tr>\n",
       "      <th>0</th>\n",
       "      <td>9.50</td>\n",
       "      <td>138</td>\n",
       "      <td>73</td>\n",
       "      <td>11</td>\n",
       "      <td>276</td>\n",
       "      <td>120</td>\n",
       "      <td>42</td>\n",
       "      <td>17</td>\n",
       "      <td>True</td>\n",
       "      <td>False</td>\n",
       "      <td>False</td>\n",
       "      <td>False</td>\n",
       "      <td>True</td>\n",
       "      <td>False</td>\n",
       "      <td>True</td>\n",
       "    </tr>\n",
       "    <tr>\n",
       "      <th>1</th>\n",
       "      <td>11.22</td>\n",
       "      <td>111</td>\n",
       "      <td>48</td>\n",
       "      <td>16</td>\n",
       "      <td>260</td>\n",
       "      <td>83</td>\n",
       "      <td>65</td>\n",
       "      <td>10</td>\n",
       "      <td>False</td>\n",
       "      <td>True</td>\n",
       "      <td>False</td>\n",
       "      <td>False</td>\n",
       "      <td>True</td>\n",
       "      <td>False</td>\n",
       "      <td>True</td>\n",
       "    </tr>\n",
       "    <tr>\n",
       "      <th>2</th>\n",
       "      <td>10.06</td>\n",
       "      <td>113</td>\n",
       "      <td>35</td>\n",
       "      <td>10</td>\n",
       "      <td>269</td>\n",
       "      <td>80</td>\n",
       "      <td>59</td>\n",
       "      <td>12</td>\n",
       "      <td>False</td>\n",
       "      <td>False</td>\n",
       "      <td>True</td>\n",
       "      <td>False</td>\n",
       "      <td>True</td>\n",
       "      <td>False</td>\n",
       "      <td>True</td>\n",
       "    </tr>\n",
       "    <tr>\n",
       "      <th>3</th>\n",
       "      <td>7.40</td>\n",
       "      <td>117</td>\n",
       "      <td>100</td>\n",
       "      <td>4</td>\n",
       "      <td>466</td>\n",
       "      <td>97</td>\n",
       "      <td>55</td>\n",
       "      <td>14</td>\n",
       "      <td>False</td>\n",
       "      <td>False</td>\n",
       "      <td>True</td>\n",
       "      <td>False</td>\n",
       "      <td>True</td>\n",
       "      <td>False</td>\n",
       "      <td>True</td>\n",
       "    </tr>\n",
       "    <tr>\n",
       "      <th>4</th>\n",
       "      <td>4.15</td>\n",
       "      <td>141</td>\n",
       "      <td>64</td>\n",
       "      <td>3</td>\n",
       "      <td>340</td>\n",
       "      <td>128</td>\n",
       "      <td>38</td>\n",
       "      <td>13</td>\n",
       "      <td>True</td>\n",
       "      <td>False</td>\n",
       "      <td>False</td>\n",
       "      <td>False</td>\n",
       "      <td>True</td>\n",
       "      <td>True</td>\n",
       "      <td>False</td>\n",
       "    </tr>\n",
       "    <tr>\n",
       "      <th>...</th>\n",
       "      <td>...</td>\n",
       "      <td>...</td>\n",
       "      <td>...</td>\n",
       "      <td>...</td>\n",
       "      <td>...</td>\n",
       "      <td>...</td>\n",
       "      <td>...</td>\n",
       "      <td>...</td>\n",
       "      <td>...</td>\n",
       "      <td>...</td>\n",
       "      <td>...</td>\n",
       "      <td>...</td>\n",
       "      <td>...</td>\n",
       "      <td>...</td>\n",
       "      <td>...</td>\n",
       "    </tr>\n",
       "    <tr>\n",
       "      <th>395</th>\n",
       "      <td>12.57</td>\n",
       "      <td>138</td>\n",
       "      <td>108</td>\n",
       "      <td>17</td>\n",
       "      <td>203</td>\n",
       "      <td>128</td>\n",
       "      <td>33</td>\n",
       "      <td>14</td>\n",
       "      <td>False</td>\n",
       "      <td>True</td>\n",
       "      <td>False</td>\n",
       "      <td>False</td>\n",
       "      <td>True</td>\n",
       "      <td>False</td>\n",
       "      <td>True</td>\n",
       "    </tr>\n",
       "    <tr>\n",
       "      <th>396</th>\n",
       "      <td>6.14</td>\n",
       "      <td>139</td>\n",
       "      <td>23</td>\n",
       "      <td>3</td>\n",
       "      <td>37</td>\n",
       "      <td>120</td>\n",
       "      <td>55</td>\n",
       "      <td>11</td>\n",
       "      <td>False</td>\n",
       "      <td>False</td>\n",
       "      <td>True</td>\n",
       "      <td>True</td>\n",
       "      <td>False</td>\n",
       "      <td>False</td>\n",
       "      <td>True</td>\n",
       "    </tr>\n",
       "    <tr>\n",
       "      <th>397</th>\n",
       "      <td>7.41</td>\n",
       "      <td>162</td>\n",
       "      <td>26</td>\n",
       "      <td>12</td>\n",
       "      <td>368</td>\n",
       "      <td>159</td>\n",
       "      <td>40</td>\n",
       "      <td>18</td>\n",
       "      <td>False</td>\n",
       "      <td>False</td>\n",
       "      <td>True</td>\n",
       "      <td>False</td>\n",
       "      <td>True</td>\n",
       "      <td>False</td>\n",
       "      <td>True</td>\n",
       "    </tr>\n",
       "    <tr>\n",
       "      <th>398</th>\n",
       "      <td>5.94</td>\n",
       "      <td>100</td>\n",
       "      <td>79</td>\n",
       "      <td>7</td>\n",
       "      <td>284</td>\n",
       "      <td>95</td>\n",
       "      <td>50</td>\n",
       "      <td>12</td>\n",
       "      <td>True</td>\n",
       "      <td>False</td>\n",
       "      <td>False</td>\n",
       "      <td>False</td>\n",
       "      <td>True</td>\n",
       "      <td>False</td>\n",
       "      <td>True</td>\n",
       "    </tr>\n",
       "    <tr>\n",
       "      <th>399</th>\n",
       "      <td>9.71</td>\n",
       "      <td>134</td>\n",
       "      <td>37</td>\n",
       "      <td>0</td>\n",
       "      <td>27</td>\n",
       "      <td>120</td>\n",
       "      <td>49</td>\n",
       "      <td>16</td>\n",
       "      <td>False</td>\n",
       "      <td>True</td>\n",
       "      <td>False</td>\n",
       "      <td>False</td>\n",
       "      <td>True</td>\n",
       "      <td>False</td>\n",
       "      <td>True</td>\n",
       "    </tr>\n",
       "  </tbody>\n",
       "</table>\n",
       "<p>400 rows × 15 columns</p>\n",
       "</div>"
      ],
      "text/plain": [
       "     Sales  CompPrice  Income  Advertising  Population  Price  Age  Education  \\\n",
       "0     9.50        138      73           11         276    120   42         17   \n",
       "1    11.22        111      48           16         260     83   65         10   \n",
       "2    10.06        113      35           10         269     80   59         12   \n",
       "3     7.40        117     100            4         466     97   55         14   \n",
       "4     4.15        141      64            3         340    128   38         13   \n",
       "..     ...        ...     ...          ...         ...    ...  ...        ...   \n",
       "395  12.57        138     108           17         203    128   33         14   \n",
       "396   6.14        139      23            3          37    120   55         11   \n",
       "397   7.41        162      26           12         368    159   40         18   \n",
       "398   5.94        100      79            7         284     95   50         12   \n",
       "399   9.71        134      37            0          27    120   49         16   \n",
       "\n",
       "     ShelveLoc_Bad  ShelveLoc_Good  ShelveLoc_Medium  Urban_No  Urban_Yes  \\\n",
       "0             True           False             False     False       True   \n",
       "1            False            True             False     False       True   \n",
       "2            False           False              True     False       True   \n",
       "3            False           False              True     False       True   \n",
       "4             True           False             False     False       True   \n",
       "..             ...             ...               ...       ...        ...   \n",
       "395          False            True             False     False       True   \n",
       "396          False           False              True      True      False   \n",
       "397          False           False              True     False       True   \n",
       "398           True           False             False     False       True   \n",
       "399          False            True             False     False       True   \n",
       "\n",
       "     US_No  US_Yes  \n",
       "0    False    True  \n",
       "1    False    True  \n",
       "2    False    True  \n",
       "3    False    True  \n",
       "4     True   False  \n",
       "..     ...     ...  \n",
       "395  False    True  \n",
       "396  False    True  \n",
       "397  False    True  \n",
       "398  False    True  \n",
       "399  False    True  \n",
       "\n",
       "[400 rows x 15 columns]"
      ]
     },
     "execution_count": 57,
     "metadata": {},
     "output_type": "execute_result"
    }
   ],
   "source": [
    "car_dataset = pd.read_csv(\"../data/Carseats.csv\")\n",
    "car_dataset = pd.get_dummies(car_dataset, columns=[\"ShelveLoc\", \"Urban\", \"US\"])\n",
    "car_dataset"
   ]
  },
  {
   "cell_type": "code",
   "execution_count": 58,
   "metadata": {},
   "outputs": [],
   "source": [
    "from sklearn.model_selection import train_test_split\n",
    "random_state = 42\n",
    "X = car_dataset.copy()\n",
    "X = X.drop(columns=[\"Sales\"])\n",
    "y = car_dataset[\"Sales\"]\n",
    "X_train, X_test, y_train, y_test = train_test_split(X, y, test_size=0.2, random_state=random_state)"
   ]
  },
  {
   "cell_type": "code",
   "execution_count": 59,
   "metadata": {},
   "outputs": [],
   "source": [
    "y_train_array = np.array(y_train.values)\n",
    "y_test_array = np.array(y_test.values)\n",
    "X_train_array = np.array(X_train.values)\n",
    "X_test_array = np.array(X_test.values)"
   ]
  },
  {
   "cell_type": "code",
   "execution_count": 61,
   "metadata": {},
   "outputs": [],
   "source": [
    "import numpy as np\n",
    "import random\n",
    "\n",
    "class Node:\n",
    "    def __init__(self, feature_index=None, threshold=None, left=None, right=None, value=None):\n",
    "        self.feature_index = feature_index \n",
    "        self.threshold = threshold\n",
    "        self.left = left  \n",
    "        self.right = right\n",
    "        self.value = value  \n",
    "\n",
    "class CustomDecisionTreeRegressor:\n",
    "    def __init__(self, max_depth=None, min_samples_split=1, min_samples=1):\n",
    "        self.max_depth = max_depth\n",
    "        self.min_samples_split = min_samples_split\n",
    "        self.min_samples = min_samples\n",
    "\n",
    "    def fit(self, X, y):\n",
    "        self.n_features_ = X.shape[1]\n",
    "        self.tree_ = self._grow_tree(X, y)\n",
    "\n",
    "    def _grow_tree(self, X, y, depth=0):\n",
    "        n_samples, n_features = X.shape\n",
    "        variance = np.var(y)\n",
    "\n",
    "        if depth == self.max_depth or n_samples <= self.min_samples_split or variance == 0 or n_samples < 2*self.min_samples + 1:\n",
    "            return Node(value=np.mean(y))\n",
    "        best_variance_reduction = 0\n",
    "        best_feature_index = None\n",
    "        best_threshold = None\n",
    "        for feature_index in range(n_features):\n",
    "            thresholds, values = zip(*sorted(zip(X[:, feature_index], y)))\n",
    "\n",
    "            for i in range(self.min_samples, n_samples - self.min_samples):\n",
    "                if values[i-1] == values[i]:\n",
    "                    continue  \n",
    "                threshold = (thresholds[i-1] + thresholds[i]) / 2\n",
    "                y_left = y[X[:, feature_index] <= threshold]\n",
    "                y_right = y[X[:, feature_index] > threshold]\n",
    "                variance_reduction = variance - (len(y_left) / n_samples * np.var(y_left) + len(y_right) / n_samples * np.var(y_right))\n",
    "                if variance_reduction > best_variance_reduction:\n",
    "                    best_variance_reduction = variance_reduction\n",
    "                    best_feature_index = feature_index\n",
    "                    best_threshold = threshold\n",
    "            \n",
    "\n",
    "        if best_variance_reduction == 0:\n",
    "            return Node(value=np.mean(y))\n",
    "\n",
    "        left_indices = X[:, best_feature_index] <= best_threshold\n",
    "        right_indices = X[:, best_feature_index] > best_threshold\n",
    "        left = self._grow_tree(X[left_indices], y[left_indices], depth + 1)\n",
    "        right = self._grow_tree(X[right_indices], y[right_indices], depth + 1)\n",
    "        return Node(feature_index=best_feature_index, threshold=best_threshold, left=left, right=right)\n",
    "\n",
    "    def predict(self, X):\n",
    "        return np.array([self._predict_tree(x, self.tree_) for x in X])\n",
    "\n",
    "    def _predict_tree(self, x, node):\n",
    "        if node.value is not None:\n",
    "            return node.value\n",
    "        if x[node.feature_index] <= node.threshold:\n",
    "            return self._predict_tree(x, node.left)\n",
    "        else:\n",
    "            return self._predict_tree(x, node.right)\n",
    "\n",
    "\n",
    "# X_train = np.array([[1,11], [2,12], [3,13], [4,14], [5,15]])\n",
    "# y_train = np.array([2, 3, 4, 5, 5])\n",
    "# X_test = np.array([[2.5], [3.5]])\n",
    "\n",
    "\n",
    "# tree = CustomDecisionTreeRegressor(max_depth=100000, min_samples_split=1, min_samples=1)\n",
    "# tree.fit(X_train_array, y_train_array)\n",
    "\n",
    "\n",
    "# predictions = tree.predict(X_test_array)\n",
    "# print(\"Predictions:\", predictions)\n",
    "\n",
    "# results = pd.DataFrame({'Actual': y_test_array, 'Predicted': predictions})\n",
    "# print(results)"
   ]
  },
  {
   "cell_type": "code",
   "execution_count": 63,
   "metadata": {},
   "outputs": [],
   "source": [
    "def create_plots(min_samples_split_list, r2_scores, mse_losses, rmse_losses):\n",
    "\n",
    "    fig, axs = plt.subplots(3, figsize=(10, 15))\n",
    "    axs[0].plot(min_samples_split_list, r2_scores, marker='o')\n",
    "    axs[0].set_title('R^2 score')\n",
    "    axs[0].set_xlabel('min_samples_split')\n",
    "    axs[0].set_ylabel('R^2 score')\n",
    "    axs[0].grid(True)\n",
    "    axs[1].plot(min_samples_split_list, mse_losses, marker='o')\n",
    "    axs[1].set_title('MSE loss')\n",
    "    axs[1].set_xlabel('min_samples_split')\n",
    "    axs[1].set_ylabel('MSE loss')\n",
    "    axs[1].grid(True)\n",
    "    axs[2].plot(min_samples_split_list, rmse_losses, marker='o')\n",
    "    axs[2].set_title('RMSE loss')\n",
    "    axs[2].set_xlabel('min_samples_split')\n",
    "    axs[2].set_ylabel('RMSE loss')\n",
    "    axs[2].grid(True)\n",
    "    plt.tight_layout()\n",
    "    plt.show()"
   ]
  },
  {
   "cell_type": "code",
   "execution_count": 64,
   "metadata": {},
   "outputs": [],
   "source": [
    "max_depth_list = [1, 5, 10, 15, 20, 25,  50, 100]"
   ]
  },
  {
   "cell_type": "code",
   "execution_count": null,
   "metadata": {},
   "outputs": [],
   "source": []
  },
  {
   "cell_type": "code",
   "execution_count": 65,
   "metadata": {},
   "outputs": [
    {
     "name": "stdout",
     "output_type": "stream",
     "text": [
      "=======MAX DEPTH = 1======\n",
      "R^2 score: 0.362783008\n",
      "MSE loss: 6.306028378047943\n",
      "RMSE loss: 2.511180674114856\n",
      "=======MAX DEPTH = 5======\n"
     ]
    },
    {
     "name": "stderr",
     "output_type": "stream",
     "text": [
      "c:\\Users\\micha\\Desktop\\RegressionTreeRoulette\\.venv\\Lib\\site-packages\\numpy\\core\\fromnumeric.py:3787: RuntimeWarning: Degrees of freedom <= 0 for slice\n",
      "  return _methods._var(a, axis=axis, dtype=dtype, out=out, ddof=ddof,\n",
      "c:\\Users\\micha\\Desktop\\RegressionTreeRoulette\\.venv\\Lib\\site-packages\\numpy\\core\\_methods.py:163: RuntimeWarning: invalid value encountered in divide\n",
      "  arrmean = um.true_divide(arrmean, div, out=arrmean,\n",
      "c:\\Users\\micha\\Desktop\\RegressionTreeRoulette\\.venv\\Lib\\site-packages\\numpy\\core\\_methods.py:198: RuntimeWarning: invalid value encountered in scalar divide\n",
      "  ret = ret.dtype.type(ret / rcount)\n",
      "c:\\Users\\micha\\Desktop\\RegressionTreeRoulette\\.venv\\Lib\\site-packages\\numpy\\core\\fromnumeric.py:3787: RuntimeWarning: Degrees of freedom <= 0 for slice\n",
      "  return _methods._var(a, axis=axis, dtype=dtype, out=out, ddof=ddof,\n",
      "c:\\Users\\micha\\Desktop\\RegressionTreeRoulette\\.venv\\Lib\\site-packages\\numpy\\core\\_methods.py:163: RuntimeWarning: invalid value encountered in divide\n",
      "  arrmean = um.true_divide(arrmean, div, out=arrmean,\n",
      "c:\\Users\\micha\\Desktop\\RegressionTreeRoulette\\.venv\\Lib\\site-packages\\numpy\\core\\_methods.py:198: RuntimeWarning: invalid value encountered in scalar divide\n",
      "  ret = ret.dtype.type(ret / rcount)\n"
     ]
    },
    {
     "name": "stdout",
     "output_type": "stream",
     "text": [
      "R^2 score: 0.439732796\n",
      "MSE loss: 5.54451769334578\n",
      "RMSE loss: 2.3546799556087827\n",
      "=======MAX DEPTH = 10======\n"
     ]
    },
    {
     "name": "stderr",
     "output_type": "stream",
     "text": [
      "c:\\Users\\micha\\Desktop\\RegressionTreeRoulette\\.venv\\Lib\\site-packages\\numpy\\core\\fromnumeric.py:3787: RuntimeWarning: Degrees of freedom <= 0 for slice\n",
      "  return _methods._var(a, axis=axis, dtype=dtype, out=out, ddof=ddof,\n",
      "c:\\Users\\micha\\Desktop\\RegressionTreeRoulette\\.venv\\Lib\\site-packages\\numpy\\core\\_methods.py:163: RuntimeWarning: invalid value encountered in divide\n",
      "  arrmean = um.true_divide(arrmean, div, out=arrmean,\n",
      "c:\\Users\\micha\\Desktop\\RegressionTreeRoulette\\.venv\\Lib\\site-packages\\numpy\\core\\_methods.py:198: RuntimeWarning: invalid value encountered in scalar divide\n",
      "  ret = ret.dtype.type(ret / rcount)\n"
     ]
    },
    {
     "name": "stdout",
     "output_type": "stream",
     "text": [
      "R^2 score: 0.463991192\n",
      "MSE loss: 5.304451693953137\n",
      "RMSE loss: 2.303139529849014\n",
      "=======MAX DEPTH = 15======\n"
     ]
    },
    {
     "name": "stderr",
     "output_type": "stream",
     "text": [
      "c:\\Users\\micha\\Desktop\\RegressionTreeRoulette\\.venv\\Lib\\site-packages\\numpy\\core\\fromnumeric.py:3787: RuntimeWarning: Degrees of freedom <= 0 for slice\n",
      "  return _methods._var(a, axis=axis, dtype=dtype, out=out, ddof=ddof,\n",
      "c:\\Users\\micha\\Desktop\\RegressionTreeRoulette\\.venv\\Lib\\site-packages\\numpy\\core\\_methods.py:163: RuntimeWarning: invalid value encountered in divide\n",
      "  arrmean = um.true_divide(arrmean, div, out=arrmean,\n",
      "c:\\Users\\micha\\Desktop\\RegressionTreeRoulette\\.venv\\Lib\\site-packages\\numpy\\core\\_methods.py:198: RuntimeWarning: invalid value encountered in scalar divide\n",
      "  ret = ret.dtype.type(ret / rcount)\n"
     ]
    },
    {
     "name": "stdout",
     "output_type": "stream",
     "text": [
      "R^2 score: 0.463991192\n",
      "MSE loss: 5.304451693953137\n",
      "RMSE loss: 2.303139529849014\n",
      "=======MAX DEPTH = 20======\n"
     ]
    },
    {
     "name": "stderr",
     "output_type": "stream",
     "text": [
      "c:\\Users\\micha\\Desktop\\RegressionTreeRoulette\\.venv\\Lib\\site-packages\\numpy\\core\\fromnumeric.py:3787: RuntimeWarning: Degrees of freedom <= 0 for slice\n",
      "  return _methods._var(a, axis=axis, dtype=dtype, out=out, ddof=ddof,\n",
      "c:\\Users\\micha\\Desktop\\RegressionTreeRoulette\\.venv\\Lib\\site-packages\\numpy\\core\\_methods.py:163: RuntimeWarning: invalid value encountered in divide\n",
      "  arrmean = um.true_divide(arrmean, div, out=arrmean,\n",
      "c:\\Users\\micha\\Desktop\\RegressionTreeRoulette\\.venv\\Lib\\site-packages\\numpy\\core\\_methods.py:198: RuntimeWarning: invalid value encountered in scalar divide\n",
      "  ret = ret.dtype.type(ret / rcount)\n"
     ]
    },
    {
     "name": "stdout",
     "output_type": "stream",
     "text": [
      "R^2 score: 0.463991192\n",
      "MSE loss: 5.304451693953137\n",
      "RMSE loss: 2.303139529849014\n",
      "=======MAX DEPTH = 25======\n"
     ]
    },
    {
     "name": "stderr",
     "output_type": "stream",
     "text": [
      "c:\\Users\\micha\\Desktop\\RegressionTreeRoulette\\.venv\\Lib\\site-packages\\numpy\\core\\fromnumeric.py:3787: RuntimeWarning: Degrees of freedom <= 0 for slice\n",
      "  return _methods._var(a, axis=axis, dtype=dtype, out=out, ddof=ddof,\n",
      "c:\\Users\\micha\\Desktop\\RegressionTreeRoulette\\.venv\\Lib\\site-packages\\numpy\\core\\_methods.py:163: RuntimeWarning: invalid value encountered in divide\n",
      "  arrmean = um.true_divide(arrmean, div, out=arrmean,\n",
      "c:\\Users\\micha\\Desktop\\RegressionTreeRoulette\\.venv\\Lib\\site-packages\\numpy\\core\\_methods.py:198: RuntimeWarning: invalid value encountered in scalar divide\n",
      "  ret = ret.dtype.type(ret / rcount)\n"
     ]
    },
    {
     "name": "stdout",
     "output_type": "stream",
     "text": [
      "R^2 score: 0.463991192\n",
      "MSE loss: 5.304451693953137\n",
      "RMSE loss: 2.303139529849014\n",
      "=======MAX DEPTH = 50======\n"
     ]
    },
    {
     "name": "stderr",
     "output_type": "stream",
     "text": [
      "c:\\Users\\micha\\Desktop\\RegressionTreeRoulette\\.venv\\Lib\\site-packages\\numpy\\core\\fromnumeric.py:3787: RuntimeWarning: Degrees of freedom <= 0 for slice\n",
      "  return _methods._var(a, axis=axis, dtype=dtype, out=out, ddof=ddof,\n",
      "c:\\Users\\micha\\Desktop\\RegressionTreeRoulette\\.venv\\Lib\\site-packages\\numpy\\core\\_methods.py:163: RuntimeWarning: invalid value encountered in divide\n",
      "  arrmean = um.true_divide(arrmean, div, out=arrmean,\n",
      "c:\\Users\\micha\\Desktop\\RegressionTreeRoulette\\.venv\\Lib\\site-packages\\numpy\\core\\_methods.py:198: RuntimeWarning: invalid value encountered in scalar divide\n",
      "  ret = ret.dtype.type(ret / rcount)\n"
     ]
    },
    {
     "name": "stdout",
     "output_type": "stream",
     "text": [
      "R^2 score: 0.463991192\n",
      "MSE loss: 5.304451693953137\n",
      "RMSE loss: 2.303139529849014\n",
      "=======MAX DEPTH = 100======\n"
     ]
    },
    {
     "name": "stderr",
     "output_type": "stream",
     "text": [
      "c:\\Users\\micha\\Desktop\\RegressionTreeRoulette\\.venv\\Lib\\site-packages\\numpy\\core\\fromnumeric.py:3787: RuntimeWarning: Degrees of freedom <= 0 for slice\n",
      "  return _methods._var(a, axis=axis, dtype=dtype, out=out, ddof=ddof,\n",
      "c:\\Users\\micha\\Desktop\\RegressionTreeRoulette\\.venv\\Lib\\site-packages\\numpy\\core\\_methods.py:163: RuntimeWarning: invalid value encountered in divide\n",
      "  arrmean = um.true_divide(arrmean, div, out=arrmean,\n",
      "c:\\Users\\micha\\Desktop\\RegressionTreeRoulette\\.venv\\Lib\\site-packages\\numpy\\core\\_methods.py:198: RuntimeWarning: invalid value encountered in scalar divide\n",
      "  ret = ret.dtype.type(ret / rcount)\n"
     ]
    },
    {
     "name": "stdout",
     "output_type": "stream",
     "text": [
      "R^2 score: 0.463991192\n",
      "MSE loss: 5.304451693953137\n",
      "RMSE loss: 2.303139529849014\n"
     ]
    },
    {
     "data": {
      "image/png": "[encoded data removed]",
      "text/plain": [
       "<Figure size 1000x1500 with 3 Axes>"
      ]
     },
     "metadata": {},
     "output_type": "display_data"
    }
   ],
   "source": [
    "from sklearn.metrics import r2_score\n",
    "\n",
    "r2_scores = []\n",
    "mse_losses = []\n",
    "rmse_losses = []\n",
    "for max_depth1 in max_depth_list:\n",
    "\n",
    "\n",
    "\n",
    "    print(f\"=======MAX DEPTH = {max_depth1}======\")\n",
    "    tree = CustomDecisionTreeRegressor(max_depth=max_depth1, min_samples_split=10, min_samples=5)\n",
    "    tree.fit(X_train_array, y_train_array)\n",
    "    y_pred = tree.predict(X_test_array)\n",
    "    score = r2_score(y_test_array, y_pred)\n",
    "    mse = mse_loss(y_test_array, y_pred)\n",
    "    rmse = rmse_loss(y_test_array, y_pred)\n",
    "    print(f\"R^2 score: {score:.9f}\")\n",
    "    print(f\"MSE loss: {mse}\")\n",
    "    print(f\"RMSE loss: {rmse}\")\n",
    "    r2_scores.append(score)\n",
    "    mse_losses.append(mse)\n",
    "    rmse_losses.append(rmse)\n",
    "create_plots(max_depth_list, r2_scores, mse_losses, rmse_losses)"
   ]
  },
  {
   "cell_type": "code",
   "execution_count": 66,
   "metadata": {},
   "outputs": [],
   "source": [
    "min_samples_split_list = [2, 5, 10, 15, 25, 50, 100]"
   ]
  },
  {
   "cell_type": "code",
   "execution_count": 67,
   "metadata": {},
   "outputs": [
    {
     "name": "stdout",
     "output_type": "stream",
     "text": [
      "=======MIN SAMPLES  SPLIT= 2======\n"
     ]
    },
    {
     "name": "stderr",
     "output_type": "stream",
     "text": [
      "c:\\Users\\micha\\Desktop\\RegressionTreeRoulette\\.venv\\Lib\\site-packages\\numpy\\core\\fromnumeric.py:3787: RuntimeWarning: Degrees of freedom <= 0 for slice\n",
      "  return _methods._var(a, axis=axis, dtype=dtype, out=out, ddof=ddof,\n",
      "c:\\Users\\micha\\Desktop\\RegressionTreeRoulette\\.venv\\Lib\\site-packages\\numpy\\core\\_methods.py:163: RuntimeWarning: invalid value encountered in divide\n",
      "  arrmean = um.true_divide(arrmean, div, out=arrmean,\n",
      "c:\\Users\\micha\\Desktop\\RegressionTreeRoulette\\.venv\\Lib\\site-packages\\numpy\\core\\_methods.py:198: RuntimeWarning: invalid value encountered in scalar divide\n",
      "  ret = ret.dtype.type(ret / rcount)\n"
     ]
    },
    {
     "name": "stdout",
     "output_type": "stream",
     "text": [
      "R^2 score: 0.463991192\n",
      "MSE loss: 5.304451693953137\n",
      "RMSE loss: 2.303139529849014\n",
      "=======MIN SAMPLES  SPLIT= 5======\n"
     ]
    },
    {
     "name": "stderr",
     "output_type": "stream",
     "text": [
      "c:\\Users\\micha\\Desktop\\RegressionTreeRoulette\\.venv\\Lib\\site-packages\\numpy\\core\\fromnumeric.py:3787: RuntimeWarning: Degrees of freedom <= 0 for slice\n",
      "  return _methods._var(a, axis=axis, dtype=dtype, out=out, ddof=ddof,\n",
      "c:\\Users\\micha\\Desktop\\RegressionTreeRoulette\\.venv\\Lib\\site-packages\\numpy\\core\\_methods.py:163: RuntimeWarning: invalid value encountered in divide\n",
      "  arrmean = um.true_divide(arrmean, div, out=arrmean,\n",
      "c:\\Users\\micha\\Desktop\\RegressionTreeRoulette\\.venv\\Lib\\site-packages\\numpy\\core\\_methods.py:198: RuntimeWarning: invalid value encountered in scalar divide\n",
      "  ret = ret.dtype.type(ret / rcount)\n"
     ]
    },
    {
     "name": "stdout",
     "output_type": "stream",
     "text": [
      "R^2 score: 0.463991192\n",
      "MSE loss: 5.304451693953137\n",
      "RMSE loss: 2.303139529849014\n",
      "=======MIN SAMPLES  SPLIT= 10======\n"
     ]
    },
    {
     "name": "stderr",
     "output_type": "stream",
     "text": [
      "c:\\Users\\micha\\Desktop\\RegressionTreeRoulette\\.venv\\Lib\\site-packages\\numpy\\core\\fromnumeric.py:3787: RuntimeWarning: Degrees of freedom <= 0 for slice\n",
      "  return _methods._var(a, axis=axis, dtype=dtype, out=out, ddof=ddof,\n",
      "c:\\Users\\micha\\Desktop\\RegressionTreeRoulette\\.venv\\Lib\\site-packages\\numpy\\core\\_methods.py:163: RuntimeWarning: invalid value encountered in divide\n",
      "  arrmean = um.true_divide(arrmean, div, out=arrmean,\n",
      "c:\\Users\\micha\\Desktop\\RegressionTreeRoulette\\.venv\\Lib\\site-packages\\numpy\\core\\_methods.py:198: RuntimeWarning: invalid value encountered in scalar divide\n",
      "  ret = ret.dtype.type(ret / rcount)\n"
     ]
    },
    {
     "name": "stdout",
     "output_type": "stream",
     "text": [
      "R^2 score: 0.463991192\n",
      "MSE loss: 5.304451693953137\n",
      "RMSE loss: 2.303139529849014\n",
      "=======MIN SAMPLES  SPLIT= 15======\n"
     ]
    },
    {
     "name": "stderr",
     "output_type": "stream",
     "text": [
      "c:\\Users\\micha\\Desktop\\RegressionTreeRoulette\\.venv\\Lib\\site-packages\\numpy\\core\\fromnumeric.py:3787: RuntimeWarning: Degrees of freedom <= 0 for slice\n",
      "  return _methods._var(a, axis=axis, dtype=dtype, out=out, ddof=ddof,\n",
      "c:\\Users\\micha\\Desktop\\RegressionTreeRoulette\\.venv\\Lib\\site-packages\\numpy\\core\\_methods.py:163: RuntimeWarning: invalid value encountered in divide\n",
      "  arrmean = um.true_divide(arrmean, div, out=arrmean,\n",
      "c:\\Users\\micha\\Desktop\\RegressionTreeRoulette\\.venv\\Lib\\site-packages\\numpy\\core\\_methods.py:198: RuntimeWarning: invalid value encountered in scalar divide\n",
      "  ret = ret.dtype.type(ret / rcount)\n"
     ]
    },
    {
     "name": "stdout",
     "output_type": "stream",
     "text": [
      "R^2 score: 0.459120101\n",
      "MSE loss: 5.352657002988407\n",
      "RMSE loss: 2.313580991231646\n",
      "=======MIN SAMPLES  SPLIT= 25======\n"
     ]
    },
    {
     "name": "stderr",
     "output_type": "stream",
     "text": [
      "c:\\Users\\micha\\Desktop\\RegressionTreeRoulette\\.venv\\Lib\\site-packages\\numpy\\core\\fromnumeric.py:3787: RuntimeWarning: Degrees of freedom <= 0 for slice\n",
      "  return _methods._var(a, axis=axis, dtype=dtype, out=out, ddof=ddof,\n",
      "c:\\Users\\micha\\Desktop\\RegressionTreeRoulette\\.venv\\Lib\\site-packages\\numpy\\core\\_methods.py:163: RuntimeWarning: invalid value encountered in divide\n",
      "  arrmean = um.true_divide(arrmean, div, out=arrmean,\n",
      "c:\\Users\\micha\\Desktop\\RegressionTreeRoulette\\.venv\\Lib\\site-packages\\numpy\\core\\_methods.py:198: RuntimeWarning: invalid value encountered in scalar divide\n",
      "  ret = ret.dtype.type(ret / rcount)\n"
     ]
    },
    {
     "name": "stdout",
     "output_type": "stream",
     "text": [
      "R^2 score: 0.461149631\n",
      "MSE loss: 5.332572355894284\n",
      "RMSE loss: 2.3092363144326056\n",
      "=======MIN SAMPLES  SPLIT= 50======\n"
     ]
    },
    {
     "name": "stderr",
     "output_type": "stream",
     "text": [
      "c:\\Users\\micha\\Desktop\\RegressionTreeRoulette\\.venv\\Lib\\site-packages\\numpy\\core\\fromnumeric.py:3787: RuntimeWarning: Degrees of freedom <= 0 for slice\n",
      "  return _methods._var(a, axis=axis, dtype=dtype, out=out, ddof=ddof,\n",
      "c:\\Users\\micha\\Desktop\\RegressionTreeRoulette\\.venv\\Lib\\site-packages\\numpy\\core\\_methods.py:163: RuntimeWarning: invalid value encountered in divide\n",
      "  arrmean = um.true_divide(arrmean, div, out=arrmean,\n",
      "c:\\Users\\micha\\Desktop\\RegressionTreeRoulette\\.venv\\Lib\\site-packages\\numpy\\core\\_methods.py:198: RuntimeWarning: invalid value encountered in scalar divide\n",
      "  ret = ret.dtype.type(ret / rcount)\n"
     ]
    },
    {
     "name": "stdout",
     "output_type": "stream",
     "text": [
      "R^2 score: 0.438687554\n",
      "MSE loss: 5.554861620125221\n",
      "RMSE loss: 2.3568753934235094\n",
      "=======MIN SAMPLES  SPLIT= 100======\n"
     ]
    },
    {
     "name": "stderr",
     "output_type": "stream",
     "text": [
      "c:\\Users\\micha\\Desktop\\RegressionTreeRoulette\\.venv\\Lib\\site-packages\\numpy\\core\\fromnumeric.py:3787: RuntimeWarning: Degrees of freedom <= 0 for slice\n",
      "  return _methods._var(a, axis=axis, dtype=dtype, out=out, ddof=ddof,\n",
      "c:\\Users\\micha\\Desktop\\RegressionTreeRoulette\\.venv\\Lib\\site-packages\\numpy\\core\\_methods.py:163: RuntimeWarning: invalid value encountered in divide\n",
      "  arrmean = um.true_divide(arrmean, div, out=arrmean,\n",
      "c:\\Users\\micha\\Desktop\\RegressionTreeRoulette\\.venv\\Lib\\site-packages\\numpy\\core\\_methods.py:198: RuntimeWarning: invalid value encountered in scalar divide\n",
      "  ret = ret.dtype.type(ret / rcount)\n"
     ]
    },
    {
     "name": "stdout",
     "output_type": "stream",
     "text": [
      "R^2 score: 0.399744682\n",
      "MSE loss: 5.9402481729671655\n",
      "RMSE loss: 2.4372624341599254\n"
     ]
    }
   ],
   "source": [
    "for min_samples_split in min_samples_split_list:\n",
    "    print(f\"=======MIN SAMPLES  SPLIT= {min_samples_split}======\")\n",
    "    tree = CustomDecisionTreeRegressor(max_depth=10, min_samples_split=min_samples_split, min_samples=5)\n",
    "    tree.fit(X_train_array, y_train_array)\n",
    "    y_pred = tree.predict(X_test_array)\n",
    "    score = r2_score(y_test_array, y_pred)\n",
    "    print(f\"R^2 score: {score:.9f}\")\n",
    "    print(f\"MSE loss: {mse_loss(y_test, y_pred)}\")\n",
    "    print(f\"RMSE loss: {rmse_loss(y_test, y_pred)}\")"
   ]
  },
  {
   "cell_type": "code",
   "execution_count": 68,
   "metadata": {},
   "outputs": [],
   "source": [
    "min_samples_leaf_list = [2, 5, 10, 15, 25, 50, 100]"
   ]
  },
  {
   "cell_type": "code",
   "execution_count": 70,
   "metadata": {},
   "outputs": [
    {
     "name": "stdout",
     "output_type": "stream",
     "text": [
      "=======MIN SAMPLES  LEAF= 2======\n"
     ]
    },
    {
     "name": "stderr",
     "output_type": "stream",
     "text": [
      "c:\\Users\\micha\\Desktop\\RegressionTreeRoulette\\.venv\\Lib\\site-packages\\numpy\\core\\fromnumeric.py:3787: RuntimeWarning: Degrees of freedom <= 0 for slice\n",
      "  return _methods._var(a, axis=axis, dtype=dtype, out=out, ddof=ddof,\n",
      "c:\\Users\\micha\\Desktop\\RegressionTreeRoulette\\.venv\\Lib\\site-packages\\numpy\\core\\_methods.py:163: RuntimeWarning: invalid value encountered in divide\n",
      "  arrmean = um.true_divide(arrmean, div, out=arrmean,\n",
      "c:\\Users\\micha\\Desktop\\RegressionTreeRoulette\\.venv\\Lib\\site-packages\\numpy\\core\\_methods.py:198: RuntimeWarning: invalid value encountered in scalar divide\n",
      "  ret = ret.dtype.type(ret / rcount)\n"
     ]
    },
    {
     "name": "stdout",
     "output_type": "stream",
     "text": [
      "R^2 score: 0.515196342\n",
      "MSE loss: 4.79771516713829\n",
      "RMSE loss: 2.1903687285793434\n",
      "=======MIN SAMPLES  LEAF= 5======\n"
     ]
    },
    {
     "name": "stderr",
     "output_type": "stream",
     "text": [
      "c:\\Users\\micha\\Desktop\\RegressionTreeRoulette\\.venv\\Lib\\site-packages\\numpy\\core\\fromnumeric.py:3787: RuntimeWarning: Degrees of freedom <= 0 for slice\n",
      "  return _methods._var(a, axis=axis, dtype=dtype, out=out, ddof=ddof,\n",
      "c:\\Users\\micha\\Desktop\\RegressionTreeRoulette\\.venv\\Lib\\site-packages\\numpy\\core\\_methods.py:163: RuntimeWarning: invalid value encountered in divide\n",
      "  arrmean = um.true_divide(arrmean, div, out=arrmean,\n",
      "c:\\Users\\micha\\Desktop\\RegressionTreeRoulette\\.venv\\Lib\\site-packages\\numpy\\core\\_methods.py:198: RuntimeWarning: invalid value encountered in scalar divide\n",
      "  ret = ret.dtype.type(ret / rcount)\n"
     ]
    },
    {
     "name": "stdout",
     "output_type": "stream",
     "text": [
      "R^2 score: 0.463991192\n",
      "MSE loss: 5.304451693953137\n",
      "RMSE loss: 2.303139529849014\n",
      "=======MIN SAMPLES  LEAF= 10======\n"
     ]
    },
    {
     "name": "stderr",
     "output_type": "stream",
     "text": [
      "c:\\Users\\micha\\Desktop\\RegressionTreeRoulette\\.venv\\Lib\\site-packages\\numpy\\core\\fromnumeric.py:3787: RuntimeWarning: Degrees of freedom <= 0 for slice\n",
      "  return _methods._var(a, axis=axis, dtype=dtype, out=out, ddof=ddof,\n",
      "c:\\Users\\micha\\Desktop\\RegressionTreeRoulette\\.venv\\Lib\\site-packages\\numpy\\core\\_methods.py:163: RuntimeWarning: invalid value encountered in divide\n",
      "  arrmean = um.true_divide(arrmean, div, out=arrmean,\n",
      "c:\\Users\\micha\\Desktop\\RegressionTreeRoulette\\.venv\\Lib\\site-packages\\numpy\\core\\_methods.py:198: RuntimeWarning: invalid value encountered in scalar divide\n",
      "  ret = ret.dtype.type(ret / rcount)\n"
     ]
    },
    {
     "name": "stdout",
     "output_type": "stream",
     "text": [
      "R^2 score: 0.526424240\n",
      "MSE loss: 4.686601613293578\n",
      "RMSE loss: 2.1648560259965506\n",
      "=======MIN SAMPLES  LEAF= 15======\n"
     ]
    },
    {
     "name": "stderr",
     "output_type": "stream",
     "text": [
      "c:\\Users\\micha\\Desktop\\RegressionTreeRoulette\\.venv\\Lib\\site-packages\\numpy\\core\\fromnumeric.py:3787: RuntimeWarning: Degrees of freedom <= 0 for slice\n",
      "  return _methods._var(a, axis=axis, dtype=dtype, out=out, ddof=ddof,\n",
      "c:\\Users\\micha\\Desktop\\RegressionTreeRoulette\\.venv\\Lib\\site-packages\\numpy\\core\\_methods.py:163: RuntimeWarning: invalid value encountered in divide\n",
      "  arrmean = um.true_divide(arrmean, div, out=arrmean,\n",
      "c:\\Users\\micha\\Desktop\\RegressionTreeRoulette\\.venv\\Lib\\site-packages\\numpy\\core\\_methods.py:198: RuntimeWarning: invalid value encountered in scalar divide\n",
      "  ret = ret.dtype.type(ret / rcount)\n"
     ]
    },
    {
     "name": "stdout",
     "output_type": "stream",
     "text": [
      "R^2 score: 0.502732291\n",
      "MSE loss: 4.921061933651222\n",
      "RMSE loss: 2.2183466666982468\n",
      "=======MIN SAMPLES  LEAF= 25======\n"
     ]
    },
    {
     "name": "stderr",
     "output_type": "stream",
     "text": [
      "c:\\Users\\micha\\Desktop\\RegressionTreeRoulette\\.venv\\Lib\\site-packages\\numpy\\core\\fromnumeric.py:3787: RuntimeWarning: Degrees of freedom <= 0 for slice\n",
      "  return _methods._var(a, axis=axis, dtype=dtype, out=out, ddof=ddof,\n",
      "c:\\Users\\micha\\Desktop\\RegressionTreeRoulette\\.venv\\Lib\\site-packages\\numpy\\core\\_methods.py:163: RuntimeWarning: invalid value encountered in divide\n",
      "  arrmean = um.true_divide(arrmean, div, out=arrmean,\n",
      "c:\\Users\\micha\\Desktop\\RegressionTreeRoulette\\.venv\\Lib\\site-packages\\numpy\\core\\_methods.py:198: RuntimeWarning: invalid value encountered in scalar divide\n",
      "  ret = ret.dtype.type(ret / rcount)\n"
     ]
    },
    {
     "name": "stdout",
     "output_type": "stream",
     "text": [
      "R^2 score: 0.438267002\n",
      "MSE loss: 5.559023487714318\n",
      "RMSE loss: 2.357758148690047\n",
      "=======MIN SAMPLES  LEAF= 50======\n",
      "R^2 score: 0.357700256\n",
      "MSE loss: 6.356328320003934\n",
      "RMSE loss: 2.5211759795785644\n",
      "=======MIN SAMPLES  LEAF= 100======\n"
     ]
    },
    {
     "name": "stderr",
     "output_type": "stream",
     "text": [
      "c:\\Users\\micha\\Desktop\\RegressionTreeRoulette\\.venv\\Lib\\site-packages\\numpy\\core\\fromnumeric.py:3787: RuntimeWarning: Degrees of freedom <= 0 for slice\n",
      "  return _methods._var(a, axis=axis, dtype=dtype, out=out, ddof=ddof,\n",
      "c:\\Users\\micha\\Desktop\\RegressionTreeRoulette\\.venv\\Lib\\site-packages\\numpy\\core\\_methods.py:163: RuntimeWarning: invalid value encountered in divide\n",
      "  arrmean = um.true_divide(arrmean, div, out=arrmean,\n",
      "c:\\Users\\micha\\Desktop\\RegressionTreeRoulette\\.venv\\Lib\\site-packages\\numpy\\core\\_methods.py:198: RuntimeWarning: invalid value encountered in scalar divide\n",
      "  ret = ret.dtype.type(ret / rcount)\n",
      "c:\\Users\\micha\\Desktop\\RegressionTreeRoulette\\.venv\\Lib\\site-packages\\numpy\\core\\fromnumeric.py:3787: RuntimeWarning: Degrees of freedom <= 0 for slice\n",
      "  return _methods._var(a, axis=axis, dtype=dtype, out=out, ddof=ddof,\n",
      "c:\\Users\\micha\\Desktop\\RegressionTreeRoulette\\.venv\\Lib\\site-packages\\numpy\\core\\_methods.py:163: RuntimeWarning: invalid value encountered in divide\n",
      "  arrmean = um.true_divide(arrmean, div, out=arrmean,\n",
      "c:\\Users\\micha\\Desktop\\RegressionTreeRoulette\\.venv\\Lib\\site-packages\\numpy\\core\\_methods.py:198: RuntimeWarning: invalid value encountered in scalar divide\n",
      "  ret = ret.dtype.type(ret / rcount)\n"
     ]
    },
    {
     "name": "stdout",
     "output_type": "stream",
     "text": [
      "R^2 score: 0.464470996\n",
      "MSE loss: 5.299703464237355\n",
      "RMSE loss: 2.302108482291257\n"
     ]
    }
   ],
   "source": [
    "for min_samples_leaf in min_samples_leaf_list:\n",
    "    print(f\"=======MIN SAMPLES  LEAF= {min_samples_leaf}======\")\n",
    "    tree = CustomDecisionTreeRegressor(max_depth=10, min_samples_split=10, min_samples=min_samples_leaf)\n",
    "    tree.fit(X_train_array, y_train_array)\n",
    "    y_pred = tree.predict(X_test_array)\n",
    "    score = r2_score(y_test_array, y_pred)\n",
    "    print(f\"R^2 score: {score:.9f}\")\n",
    "    print(f\"MSE loss: {mse_loss(y_test, y_pred)}\")\n",
    "    print(f\"RMSE loss: {rmse_loss(y_test, y_pred)}\")"
   ]
  },
  {
   "cell_type": "code",
   "execution_count": 77,
   "metadata": {},
   "outputs": [
    {
     "name": "stdout",
     "output_type": "stream",
     "text": [
      "9931054.300000023\n"
     ]
    }
   ],
   "source": [
    "sumded = 0\n",
    "for test, prd in zip(y_test_array,predictions):\n",
    "  sumded += abs(test-prd)\n",
    "print(sumded)"
   ]
  },
  {
   "cell_type": "code",
   "execution_count": 78,
   "metadata": {},
   "outputs": [
    {
     "name": "stdout",
     "output_type": "stream",
     "text": [
      "R^2 score: 0.9999948182321369\n"
     ]
    }
   ],
   "source": [
    "from sklearn.metrics import r2_score\n",
    "\n",
    "r2 = r2_score(y_test_array, predictions)\n",
    "\n",
    "print(f\"R^2 score: {r2}\")"
   ]
  },
  {
   "cell_type": "code",
   "execution_count": 88,
   "metadata": {},
   "outputs": [
    {
     "name": "stderr",
     "output_type": "stream",
     "text": [
      "c:\\Users\\micha\\Desktop\\RegressionTreeRoulette\\.venv\\Lib\\site-packages\\numpy\\core\\fromnumeric.py:3787: RuntimeWarning: Degrees of freedom <= 0 for slice\n",
      "  return _methods._var(a, axis=axis, dtype=dtype, out=out, ddof=ddof,\n",
      "c:\\Users\\micha\\Desktop\\RegressionTreeRoulette\\.venv\\Lib\\site-packages\\numpy\\core\\_methods.py:163: RuntimeWarning: invalid value encountered in divide\n",
      "  arrmean = um.true_divide(arrmean, div, out=arrmean,\n",
      "c:\\Users\\micha\\Desktop\\RegressionTreeRoulette\\.venv\\Lib\\site-packages\\numpy\\core\\_methods.py:198: RuntimeWarning: invalid value encountered in scalar divide\n",
      "  ret = ret.dtype.type(ret / rcount)\n"
     ]
    }
   ],
   "source": [
    "import numpy as np\n",
    "import random\n",
    "\n",
    "class Node:\n",
    "    def __init__(self, feature_index=None, threshold=None, left=None, right=None, value=None):\n",
    "        self.feature_index = feature_index \n",
    "        self.threshold = threshold\n",
    "        self.left = left  \n",
    "        self.right = right\n",
    "        self.value = value  \n",
    "\n",
    "class CustomDecisionTreeRegressor:\n",
    "    def __init__(self, max_depth=None, min_samples_split=1, min_samples=1):\n",
    "        self.max_depth = max_depth\n",
    "        self.min_samples_split = min_samples_split\n",
    "        self.min_samples = min_samples\n",
    "\n",
    "    def fit(self, X, y):\n",
    "        self.n_features_ = X.shape[1]\n",
    "        self.tree_ = self._grow_tree(X, y)\n",
    "\n",
    "    def _grow_tree(self, X, y, depth=0):\n",
    "        n_samples, n_features = X.shape\n",
    "        variance = np.var(y)\n",
    "\n",
    "        if depth == self.max_depth or n_samples <= self.min_samples_split or variance == 0 or n_samples < 2*self.min_samples + 1:\n",
    "            return Node(value=np.mean(y))\n",
    "        best_variance_reduction = 0\n",
    "        best_feature_index = None\n",
    "        best_threshold = None\n",
    "        for feature_index in range(n_features):\n",
    "            thresholds, values = zip(*sorted(zip(X[:, feature_index], y)))\n",
    "            thresholds_reductions = []\n",
    "            for i in range(self.min_samples, n_samples - self.min_samples):\n",
    "                if values[i-1] == values[i]:\n",
    "                    continue  \n",
    "                threshold = (thresholds[i-1] + thresholds[i]) / 2\n",
    "                y_left = y[X[:, feature_index] <= threshold]\n",
    "                y_right = y[X[:, feature_index] > threshold]\n",
    "                variance_reduction = variance - (len(y_left) / n_samples * np.var(y_left) + len(y_right) / n_samples * np.var(y_right))\n",
    "                if np.isfinite(variance_reduction):\n",
    "                    thresholds_reductions.append((threshold, variance_reduction))\n",
    "            \n",
    "            if thresholds_reductions:\n",
    "                _, weights = zip(*thresholds_reductions)\n",
    "                random.seed(42)\n",
    "                threshold, variance_reductions = zip(*random.choices(thresholds_reductions, weights=weights, k=1))\n",
    "                variance_reduction = variance_reductions[0]\n",
    "            if variance_reduction > best_variance_reduction:\n",
    "                best_variance_reduction = variance_reduction\n",
    "                best_feature_index = feature_index\n",
    "                best_threshold = threshold\n",
    "        \n",
    "\n",
    "        if best_variance_reduction == 0:\n",
    "            return Node(value=np.mean(y))\n",
    "\n",
    "        left_indices = X[:, best_feature_index] <= best_threshold\n",
    "        right_indices = X[:, best_feature_index] > best_threshold\n",
    "        left = self._grow_tree(X[left_indices], y[left_indices], depth + 1)\n",
    "        right = self._grow_tree(X[right_indices], y[right_indices], depth + 1)\n",
    "        return Node(feature_index=best_feature_index, threshold=best_threshold, left=left, right=right)\n",
    "\n",
    "    def predict(self, X):\n",
    "        return np.array([self._predict_tree(x, self.tree_) for x in X])\n",
    "\n",
    "    def _predict_tree(self, x, node):\n",
    "        if node.value is not None:\n",
    "            return node.value\n",
    "        temp = x[node.feature_index]\n",
    "        if temp == False:\n",
    "            temp = 0\n",
    "        if temp <= node.threshold[0]:\n",
    "            return self._predict_tree(x, node.left)\n",
    "        else:\n",
    "            return self._predict_tree(x, node.right)\n",
    "\n",
    "\n",
    "\n",
    "tree = CustomDecisionTreeRegressor(max_depth=10, min_samples_split=10, min_samples=5)\n",
    "tree.fit(X_train_array, y_train_array)\n",
    "y_pred = tree.predict(X_test_array)"
   ]
  },
  {
   "cell_type": "code",
   "execution_count": 93,
   "metadata": {},
   "outputs": [
    {
     "name": "stderr",
     "output_type": "stream",
     "text": [
      "c:\\Users\\micha\\Desktop\\RegressionTreeRoulette\\.venv\\Lib\\site-packages\\numpy\\core\\fromnumeric.py:3787: RuntimeWarning: Degrees of freedom <= 0 for slice\n",
      "  return _methods._var(a, axis=axis, dtype=dtype, out=out, ddof=ddof,\n",
      "c:\\Users\\micha\\Desktop\\RegressionTreeRoulette\\.venv\\Lib\\site-packages\\numpy\\core\\_methods.py:163: RuntimeWarning: invalid value encountered in divide\n",
      "  arrmean = um.true_divide(arrmean, div, out=arrmean,\n",
      "c:\\Users\\micha\\Desktop\\RegressionTreeRoulette\\.venv\\Lib\\site-packages\\numpy\\core\\_methods.py:198: RuntimeWarning: invalid value encountered in scalar divide\n",
      "  ret = ret.dtype.type(ret / rcount)\n"
     ]
    },
    {
     "name": "stdout",
     "output_type": "stream",
     "text": [
      "[ 4.908       4.30142857  8.818       4.40142857  9.31142857  4.40142857\n",
      " 11.09142857  5.92555556 11.91166667 11.61625     6.45333333  8.98428571\n",
      "  8.50571429  5.09142857  6.31285714  8.50571429  7.94375    11.91166667\n",
      "  7.681875    6.68333333 10.2075      3.20833333  5.66166667  5.09833333\n",
      "  8.81666667  7.681875    7.33833333  5.92555556  5.99571429  4.66\n",
      " 11.61625    11.91166667  6.32272727  3.8875     11.91166667  6.45333333\n",
      "  8.81666667  7.681875   11.91166667  5.56142857  4.30142857  4.444\n",
      " 10.2075     11.09142857  7.94375     8.66833333  6.35857143  6.35857143\n",
      "  4.66        7.681875   10.2075      7.33833333  6.38857143 11.91166667\n",
      "  7.681875    3.06555556  5.09833333 11.91166667 11.09142857 11.61625\n",
      "  8.282      11.91166667  4.908       5.99571429  7.681875    5.99571429\n",
      " 10.44571429  7.33833333  4.30142857 11.91166667  5.99571429  6.68333333\n",
      "  4.908       3.06555556  4.908       4.908       5.09142857 10.13\n",
      "  6.68333333  6.68333333]\n",
      "R^2 score: 0.566862922\n",
      "MSE loss: 4.286412224235791\n",
      "RMSE loss: 2.0703652393323724\n"
     ]
    }
   ],
   "source": [
    "tree = CustomDecisionTreeRegressor(max_depth=10, min_samples_split=10, min_samples=5)\n",
    "tree.fit(X_train_array, y_train_array)\n",
    "y_pred = tree.predict(X_test_array)\n",
    "print(y_pred)\n",
    "score = r2_score(y_test_array, y_pred)\n",
    "print(f\"R^2 score: {score:.9f}\")\n",
    "print(f\"MSE loss: {mse_loss(y_test, y_pred)}\")\n",
    "print(f\"RMSE loss: {rmse_loss(y_test, y_pred)}\")"
   ]
  },
  {
   "cell_type": "code",
   "execution_count": 77,
   "metadata": {},
   "outputs": [
    {
     "ename": "TypeError",
     "evalue": "'<=' not supported between instances of 'bool' and 'tuple'",
     "output_type": "error",
     "traceback": [
      "\u001b[1;31m---------------------------------------------------------------------------\u001b[0m",
      "\u001b[1;31mTypeError\u001b[0m                                 Traceback (most recent call last)",
      "Cell \u001b[1;32mIn[77], line 79\u001b[0m\n\u001b[0;32m     77\u001b[0m tree \u001b[38;5;241m=\u001b[39m CustomDecisionTreeRegressor(max_depth\u001b[38;5;241m=\u001b[39m\u001b[38;5;241m10\u001b[39m, min_samples_split\u001b[38;5;241m=\u001b[39m\u001b[38;5;241m10\u001b[39m, min_samples\u001b[38;5;241m=\u001b[39m\u001b[38;5;241m5\u001b[39m)\n\u001b[0;32m     78\u001b[0m tree\u001b[38;5;241m.\u001b[39mfit(X_train_array, y_train_array)\n\u001b[1;32m---> 79\u001b[0m y_pred \u001b[38;5;241m=\u001b[39m \u001b[43mtree\u001b[49m\u001b[38;5;241;43m.\u001b[39;49m\u001b[43mpredict\u001b[49m\u001b[43m(\u001b[49m\u001b[43mX_test_array\u001b[49m\u001b[43m)\u001b[49m\n",
      "Cell \u001b[1;32mIn[77], line 65\u001b[0m, in \u001b[0;36mCustomDecisionTreeRegressor.predict\u001b[1;34m(self, X)\u001b[0m\n\u001b[0;32m     64\u001b[0m \u001b[38;5;28;01mdef\u001b[39;00m \u001b[38;5;21mpredict\u001b[39m(\u001b[38;5;28mself\u001b[39m, X):\n\u001b[1;32m---> 65\u001b[0m     \u001b[38;5;28;01mreturn\u001b[39;00m np\u001b[38;5;241m.\u001b[39marray(\u001b[43m[\u001b[49m\u001b[38;5;28;43mself\u001b[39;49m\u001b[38;5;241;43m.\u001b[39;49m\u001b[43m_predict_tree\u001b[49m\u001b[43m(\u001b[49m\u001b[43mx\u001b[49m\u001b[43m,\u001b[49m\u001b[43m \u001b[49m\u001b[38;5;28;43mself\u001b[39;49m\u001b[38;5;241;43m.\u001b[39;49m\u001b[43mtree_\u001b[49m\u001b[43m)\u001b[49m\u001b[43m \u001b[49m\u001b[38;5;28;43;01mfor\u001b[39;49;00m\u001b[43m \u001b[49m\u001b[43mx\u001b[49m\u001b[43m \u001b[49m\u001b[38;5;129;43;01min\u001b[39;49;00m\u001b[43m \u001b[49m\u001b[43mX\u001b[49m\u001b[43m]\u001b[49m)\n",
      "Cell \u001b[1;32mIn[77], line 65\u001b[0m, in \u001b[0;36m<listcomp>\u001b[1;34m(.0)\u001b[0m\n\u001b[0;32m     64\u001b[0m \u001b[38;5;28;01mdef\u001b[39;00m \u001b[38;5;21mpredict\u001b[39m(\u001b[38;5;28mself\u001b[39m, X):\n\u001b[1;32m---> 65\u001b[0m     \u001b[38;5;28;01mreturn\u001b[39;00m np\u001b[38;5;241m.\u001b[39marray([\u001b[38;5;28;43mself\u001b[39;49m\u001b[38;5;241;43m.\u001b[39;49m\u001b[43m_predict_tree\u001b[49m\u001b[43m(\u001b[49m\u001b[43mx\u001b[49m\u001b[43m,\u001b[49m\u001b[43m \u001b[49m\u001b[38;5;28;43mself\u001b[39;49m\u001b[38;5;241;43m.\u001b[39;49m\u001b[43mtree_\u001b[49m\u001b[43m)\u001b[49m \u001b[38;5;28;01mfor\u001b[39;00m x \u001b[38;5;129;01min\u001b[39;00m X])\n",
      "Cell \u001b[1;32mIn[77], line 70\u001b[0m, in \u001b[0;36mCustomDecisionTreeRegressor._predict_tree\u001b[1;34m(self, x, node)\u001b[0m\n\u001b[0;32m     68\u001b[0m \u001b[38;5;28;01mif\u001b[39;00m node\u001b[38;5;241m.\u001b[39mvalue \u001b[38;5;129;01mis\u001b[39;00m \u001b[38;5;129;01mnot\u001b[39;00m \u001b[38;5;28;01mNone\u001b[39;00m:\n\u001b[0;32m     69\u001b[0m     \u001b[38;5;28;01mreturn\u001b[39;00m node\u001b[38;5;241m.\u001b[39mvalue\n\u001b[1;32m---> 70\u001b[0m \u001b[38;5;28;01mif\u001b[39;00m \u001b[43mx\u001b[49m\u001b[43m[\u001b[49m\u001b[43mnode\u001b[49m\u001b[38;5;241;43m.\u001b[39;49m\u001b[43mfeature_index\u001b[49m\u001b[43m]\u001b[49m\u001b[43m \u001b[49m\u001b[38;5;241;43m<\u001b[39;49m\u001b[38;5;241;43m=\u001b[39;49m\u001b[43m \u001b[49m\u001b[43mnode\u001b[49m\u001b[38;5;241;43m.\u001b[39;49m\u001b[43mthreshold\u001b[49m:\n\u001b[0;32m     71\u001b[0m     \u001b[38;5;28;01mreturn\u001b[39;00m \u001b[38;5;28mself\u001b[39m\u001b[38;5;241m.\u001b[39m_predict_tree(x, node\u001b[38;5;241m.\u001b[39mleft)\n\u001b[0;32m     72\u001b[0m \u001b[38;5;28;01melse\u001b[39;00m:\n",
      "\u001b[1;31mTypeError\u001b[0m: '<=' not supported between instances of 'bool' and 'tuple'"
     ]
    }
   ],
   "source": [
    "import numpy as np\n",
    "import random\n",
    "\n",
    "class Node:\n",
    "    def __init__(self, feature_index=None, threshold=None, left=None, right=None, value=None):\n",
    "        self.feature_index = feature_index \n",
    "        self.threshold = threshold\n",
    "        self.left = left  \n",
    "        self.right = right\n",
    "        self.value = value  \n",
    "\n",
    "class CustomDecisionTreeRegressor:\n",
    "    def __init__(self, max_depth=None, min_samples_split=1, min_samples=1):\n",
    "        self.max_depth = max_depth\n",
    "        self.min_samples_split = min_samples_split\n",
    "        self.min_samples = min_samples\n",
    "\n",
    "    def fit(self, X, y):\n",
    "        self.n_features_ = X.shape[1]\n",
    "        self.tree_ = self._grow_tree(X, y)\n",
    "\n",
    "    def _grow_tree(self, X, y, depth=0):\n",
    "        n_samples, n_features = X.shape\n",
    "        variance = np.var(y)\n",
    "\n",
    "        if depth == self.max_depth or n_samples <= self.min_samples_split or variance == 0 or n_samples < 2*self.min_samples + 1:\n",
    "            return Node(value=np.mean(y))\n",
    "        best_variance_reduction = 0\n",
    "        best_feature_index = None\n",
    "        best_threshold = None\n",
    "        for feature_index in range(n_features):\n",
    "            thresholds, values = zip(*sorted(zip(X[:, feature_index], y)))\n",
    "            thresholds_reductions = []\n",
    "\n",
    "            for i in range(self.min_samples, n_samples - self.min_samples):\n",
    "                if values[i-1] == values[i]:\n",
    "                    continue  \n",
    "                threshold = (thresholds[i-1] + thresholds[i]) / 2\n",
    "                y_left = y[X[:, feature_index] <= threshold]\n",
    "                y_right = y[X[:, feature_index] > threshold]\n",
    "                variance_reduction = variance - (len(y_left) / n_samples * np.var(y_left) + len(y_right) / n_samples * np.var(y_right))\n",
    "                if np.isfinite(variance_reduction):\n",
    "                    thresholds_reductions.append((threshold, variance_reduction))\n",
    "            \n",
    "            if thresholds_reductions:\n",
    "                _, weights = zip(*thresholds_reductions)\n",
    "                threshold, variance_reductions = zip(*random.choices(thresholds_reductions, weights=weights, k=1))\n",
    "                variance_reduction = variance_reductions[0]\n",
    "\n",
    "            if variance_reduction > best_variance_reduction:\n",
    "                best_variance_reduction = variance_reduction\n",
    "                best_feature_index = feature_index\n",
    "                best_threshold = threshold\n",
    "\n",
    "        if best_variance_reduction == 0:\n",
    "            return Node(value=np.mean(y))\n",
    "\n",
    "        left_indices = X[:, best_feature_index] <= best_threshold\n",
    "        right_indices = X[:, best_feature_index] > best_threshold\n",
    "        left = self._grow_tree(X[left_indices], y[left_indices], depth + 1)\n",
    "        right = self._grow_tree(X[right_indices], y[right_indices], depth + 1)\n",
    "        return Node(feature_index=best_feature_index, threshold=best_threshold, left=left, right=right)\n",
    "\n",
    "    def predict(self, X):\n",
    "        return np.array([self._predict_tree(x, self.tree_) for x in X])\n",
    "\n",
    "    def _predict_tree(self, x, node):\n",
    "        if node.value is not None:\n",
    "            return node.value\n",
    "        if x[node.feature_index] <= node.threshold:\n",
    "            return self._predict_tree(x, node.left)\n",
    "        else:\n",
    "            return self._predict_tree(x, node.right)\n",
    "\n",
    "\n",
    "\n",
    "tree = CustomDecisionTreeRegressor(max_depth=10, min_samples_split=10, min_samples=5)\n",
    "tree.fit(X_train_array, y_train_array)\n",
    "y_pred = tree.predict(X_test_array)"
   ]
  },
  {
   "cell_type": "code",
   "execution_count": 74,
   "metadata": {},
   "outputs": [],
   "source": [
    "\n",
    "import numpy as np\n",
    "import random\n",
    "\n",
    "class Node:\n",
    "    def __init__(self, feature_index=None, threshold=None, left=None, right=None, value=None):\n",
    "        self.feature_index = feature_index \n",
    "        self.threshold = threshold\n",
    "        self.left = left  \n",
    "        self.right = right\n",
    "        self.value = value  \n",
    "\n",
    "class CustomDecisionTreeRegressor:\n",
    "    def __init__(self, max_depth=None, min_samples_split=1, min_samples=1):\n",
    "        self.max_depth = max_depth\n",
    "        self.min_samples_split = min_samples_split\n",
    "        self.min_samples = min_samples\n",
    "\n",
    "    def fit(self, X, y):\n",
    "        self.n_features_ = X.shape[1]\n",
    "        self.tree_ = self._grow_tree(X, y)\n",
    "\n",
    "    def _grow_tree(self, X, y, depth=0):\n",
    "        n_samples, n_features = X.shape\n",
    "        variance = np.var(y)\n",
    "\n",
    "        if depth == self.max_depth or n_samples <= self.min_samples_split or variance == 0 or n_samples < 2*self.min_samples + 1:\n",
    "            return Node(value=np.mean(y))\n",
    "        best_variance_reduction = 0\n",
    "        best_feature_index = None\n",
    "        best_threshold = None\n",
    "        for feature_index in range(n_features):\n",
    "            thresholds, values = zip(*sorted(zip(X[:, feature_index], y)))\n",
    "            thresholds_reductions = []\n",
    "\n",
    "            for i in range(self.min_samples, n_samples - self.min_samples):\n",
    "                if values[i-1] == values[i]:\n",
    "                    continue  \n",
    "                threshold = (thresholds[i-1] + thresholds[i]) / 2\n",
    "                y_left = y[X[:, feature_index] <= threshold]\n",
    "                y_right = y[X[:, feature_index] > threshold]\n",
    "                variance_reduction = variance - (len(y_left) / n_samples * np.var(y_left) + len(y_right) / n_samples * np.var(y_right))\n",
    "                if np.isfinite(variance_reduction):\n",
    "                    thresholds_reductions.append((threshold, variance_reduction))\n",
    "            \n",
    "            if thresholds_reductions:\n",
    "                _, weights = zip(*thresholds_reductions)\n",
    "                threshold, variance_reductions = zip(*random.choices(thresholds_reductions, weights=weights, k=1))\n",
    "                variance_reduction = variance_reductions[0]\n",
    "\n",
    "            if variance_reduction > best_variance_reduction:\n",
    "                best_variance_reduction = variance_reduction\n",
    "                best_feature_index = feature_index\n",
    "                best_threshold = threshold\n",
    "\n",
    "        if best_variance_reduction == 0:\n",
    "            return Node(value=np.mean(y))\n",
    "\n",
    "        left_indices = X[:, best_feature_index] <= best_threshold\n",
    "        right_indices = X[:, best_feature_index] > best_threshold\n",
    "        left = self._grow_tree(X[left_indices], y[left_indices], depth + 1)\n",
    "        right = self._grow_tree(X[right_indices], y[right_indices], depth + 1)\n",
    "        return Node(feature_index=best_feature_index, threshold=best_threshold, left=left, right=right)\n",
    "\n",
    "    def predict(self, X):\n",
    "        return np.array([self._predict_tree(x, self.tree_) for x in X])\n",
    "\n",
    "    def _predict_tree(self, x, node):\n",
    "        if node.value is not None:\n",
    "            return node.value\n",
    "        if x[node.feature_index] <= node.threshold:\n",
    "            return self._predict_tree(x, node.left)\n",
    "        else:\n",
    "            return self._predict_tree(x, node.right)\n",
    "\n",
    "\n",
    "\n",
    "\n"
   ]
  }
 ],
 "metadata": {
  "kernelspec": {
   "display_name": "Python 3 (ipykernel)",
   "language": "python",
   "name": "python3"
  },
  "language_info": {
   "codemirror_mode": {
    "name": "ipython",
    "version": 3
   },
   "file_extension": ".py",
   "mimetype": "text/x-python",
   "name": "python",
   "nbconvert_exporter": "python",
   "pygments_lexer": "ipython3",
   "version": "3.11.8"
  }
 },
 "nbformat": 4,
 "nbformat_minor": 4
}
