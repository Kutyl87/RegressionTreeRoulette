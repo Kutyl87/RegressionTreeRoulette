{
 "cells": [
  {
   "cell_type": "code",
   "outputs": [
    {
     "name": "stdout",
     "output_type": "stream",
     "text": [
      "\u001B[H\u001B[2J"
     ]
    }
   ],
   "source": [
    "%clear"
   ],
   "metadata": {
    "collapsed": false,
    "ExecuteTime": {
     "end_time": "2024-06-11T20:49:42.961849Z",
     "start_time": "2024-06-11T20:49:42.831846Z"
    }
   },
   "execution_count": 51
  },
  {
   "cell_type": "markdown",
   "source": [
    "# Sekcja Importowania\n",
    "Importujemy potrzebne biblioteki do załadowania danych i przeprowadzenia predykcji na modelu. Dodatkowo importowane są funkcje straty zaimportowane w pliku losses.py"
   ],
   "metadata": {
    "collapsed": false
   }
  },
  {
   "cell_type": "code",
   "execution_count": 52,
   "metadata": {
    "ExecuteTime": {
     "end_time": "2024-06-11T20:49:43.304386Z",
     "start_time": "2024-06-11T20:49:43.301731Z"
    }
   },
   "outputs": [],
   "source": [
    "import pandas as pd\n",
    "from losses import rmse_loss, mse_loss\n",
    "from sklearn.tree import DecisionTreeRegressor\n",
    "import matplotlib.pyplot as plt"
   ]
  },
  {
   "cell_type": "markdown",
   "source": [
    "# Ładowanie danych"
   ],
   "metadata": {
    "collapsed": false
   }
  },
  {
   "cell_type": "code",
   "execution_count": 53,
   "metadata": {
    "ExecuteTime": {
     "end_time": "2024-06-11T20:49:43.392567Z",
     "start_time": "2024-06-11T20:49:43.377884Z"
    }
   },
   "outputs": [
    {
     "data": {
      "text/plain": "     Sales  CompPrice  Income  Advertising  Population  Price  Age  Education  \\\n0     9.50        138      73           11         276    120   42         17   \n1    11.22        111      48           16         260     83   65         10   \n2    10.06        113      35           10         269     80   59         12   \n3     7.40        117     100            4         466     97   55         14   \n4     4.15        141      64            3         340    128   38         13   \n..     ...        ...     ...          ...         ...    ...  ...        ...   \n395  12.57        138     108           17         203    128   33         14   \n396   6.14        139      23            3          37    120   55         11   \n397   7.41        162      26           12         368    159   40         18   \n398   5.94        100      79            7         284     95   50         12   \n399   9.71        134      37            0          27    120   49         16   \n\n     ShelveLoc_Bad  ShelveLoc_Good  ShelveLoc_Medium  Urban_No  Urban_Yes  \\\n0             True           False             False     False       True   \n1            False            True             False     False       True   \n2            False           False              True     False       True   \n3            False           False              True     False       True   \n4             True           False             False     False       True   \n..             ...             ...               ...       ...        ...   \n395          False            True             False     False       True   \n396          False           False              True      True      False   \n397          False           False              True     False       True   \n398           True           False             False     False       True   \n399          False            True             False     False       True   \n\n     US_No  US_Yes  \n0    False    True  \n1    False    True  \n2    False    True  \n3    False    True  \n4     True   False  \n..     ...     ...  \n395  False    True  \n396  False    True  \n397  False    True  \n398  False    True  \n399  False    True  \n\n[400 rows x 15 columns]",
      "text/html": "<div>\n<style scoped>\n    .dataframe tbody tr th:only-of-type {\n        vertical-align: middle;\n    }\n\n    .dataframe tbody tr th {\n        vertical-align: top;\n    }\n\n    .dataframe thead th {\n        text-align: right;\n    }\n</style>\n<table border=\"1\" class=\"dataframe\">\n  <thead>\n    <tr style=\"text-align: right;\">\n      <th></th>\n      <th>Sales</th>\n      <th>CompPrice</th>\n      <th>Income</th>\n      <th>Advertising</th>\n      <th>Population</th>\n      <th>Price</th>\n      <th>Age</th>\n      <th>Education</th>\n      <th>ShelveLoc_Bad</th>\n      <th>ShelveLoc_Good</th>\n      <th>ShelveLoc_Medium</th>\n      <th>Urban_No</th>\n      <th>Urban_Yes</th>\n      <th>US_No</th>\n      <th>US_Yes</th>\n    </tr>\n  </thead>\n  <tbody>\n    <tr>\n      <th>0</th>\n      <td>9.50</td>\n      <td>138</td>\n      <td>73</td>\n      <td>11</td>\n      <td>276</td>\n      <td>120</td>\n      <td>42</td>\n      <td>17</td>\n      <td>True</td>\n      <td>False</td>\n      <td>False</td>\n      <td>False</td>\n      <td>True</td>\n      <td>False</td>\n      <td>True</td>\n    </tr>\n    <tr>\n      <th>1</th>\n      <td>11.22</td>\n      <td>111</td>\n      <td>48</td>\n      <td>16</td>\n      <td>260</td>\n      <td>83</td>\n      <td>65</td>\n      <td>10</td>\n      <td>False</td>\n      <td>True</td>\n      <td>False</td>\n      <td>False</td>\n      <td>True</td>\n      <td>False</td>\n      <td>True</td>\n    </tr>\n    <tr>\n      <th>2</th>\n      <td>10.06</td>\n      <td>113</td>\n      <td>35</td>\n      <td>10</td>\n      <td>269</td>\n      <td>80</td>\n      <td>59</td>\n      <td>12</td>\n      <td>False</td>\n      <td>False</td>\n      <td>True</td>\n      <td>False</td>\n      <td>True</td>\n      <td>False</td>\n      <td>True</td>\n    </tr>\n    <tr>\n      <th>3</th>\n      <td>7.40</td>\n      <td>117</td>\n      <td>100</td>\n      <td>4</td>\n      <td>466</td>\n      <td>97</td>\n      <td>55</td>\n      <td>14</td>\n      <td>False</td>\n      <td>False</td>\n      <td>True</td>\n      <td>False</td>\n      <td>True</td>\n      <td>False</td>\n      <td>True</td>\n    </tr>\n    <tr>\n      <th>4</th>\n      <td>4.15</td>\n      <td>141</td>\n      <td>64</td>\n      <td>3</td>\n      <td>340</td>\n      <td>128</td>\n      <td>38</td>\n      <td>13</td>\n      <td>True</td>\n      <td>False</td>\n      <td>False</td>\n      <td>False</td>\n      <td>True</td>\n      <td>True</td>\n      <td>False</td>\n    </tr>\n    <tr>\n      <th>...</th>\n      <td>...</td>\n      <td>...</td>\n      <td>...</td>\n      <td>...</td>\n      <td>...</td>\n      <td>...</td>\n      <td>...</td>\n      <td>...</td>\n      <td>...</td>\n      <td>...</td>\n      <td>...</td>\n      <td>...</td>\n      <td>...</td>\n      <td>...</td>\n      <td>...</td>\n    </tr>\n    <tr>\n      <th>395</th>\n      <td>12.57</td>\n      <td>138</td>\n      <td>108</td>\n      <td>17</td>\n      <td>203</td>\n      <td>128</td>\n      <td>33</td>\n      <td>14</td>\n      <td>False</td>\n      <td>True</td>\n      <td>False</td>\n      <td>False</td>\n      <td>True</td>\n      <td>False</td>\n      <td>True</td>\n    </tr>\n    <tr>\n      <th>396</th>\n      <td>6.14</td>\n      <td>139</td>\n      <td>23</td>\n      <td>3</td>\n      <td>37</td>\n      <td>120</td>\n      <td>55</td>\n      <td>11</td>\n      <td>False</td>\n      <td>False</td>\n      <td>True</td>\n      <td>True</td>\n      <td>False</td>\n      <td>False</td>\n      <td>True</td>\n    </tr>\n    <tr>\n      <th>397</th>\n      <td>7.41</td>\n      <td>162</td>\n      <td>26</td>\n      <td>12</td>\n      <td>368</td>\n      <td>159</td>\n      <td>40</td>\n      <td>18</td>\n      <td>False</td>\n      <td>False</td>\n      <td>True</td>\n      <td>False</td>\n      <td>True</td>\n      <td>False</td>\n      <td>True</td>\n    </tr>\n    <tr>\n      <th>398</th>\n      <td>5.94</td>\n      <td>100</td>\n      <td>79</td>\n      <td>7</td>\n      <td>284</td>\n      <td>95</td>\n      <td>50</td>\n      <td>12</td>\n      <td>True</td>\n      <td>False</td>\n      <td>False</td>\n      <td>False</td>\n      <td>True</td>\n      <td>False</td>\n      <td>True</td>\n    </tr>\n    <tr>\n      <th>399</th>\n      <td>9.71</td>\n      <td>134</td>\n      <td>37</td>\n      <td>0</td>\n      <td>27</td>\n      <td>120</td>\n      <td>49</td>\n      <td>16</td>\n      <td>False</td>\n      <td>True</td>\n      <td>False</td>\n      <td>False</td>\n      <td>True</td>\n      <td>False</td>\n      <td>True</td>\n    </tr>\n  </tbody>\n</table>\n<p>400 rows × 15 columns</p>\n</div>"
     },
     "execution_count": 53,
     "metadata": {},
     "output_type": "execute_result"
    }
   ],
   "source": [
    "car_dataset = pd.read_csv(\"../data/Carseats.csv\")\n",
    "car_dataset = pd.get_dummies(car_dataset, columns=[\"ShelveLoc\", \"Urban\", \"US\"])\n",
    "car_dataset"
   ]
  },
  {
   "cell_type": "markdown",
   "source": [
    "# Podział na zbiór testowy i treningowy"
   ],
   "metadata": {
    "collapsed": false
   }
  },
  {
   "cell_type": "code",
   "execution_count": 54,
   "metadata": {
    "ExecuteTime": {
     "end_time": "2024-06-11T20:49:43.533548Z",
     "start_time": "2024-06-11T20:49:43.528682Z"
    }
   },
   "outputs": [],
   "source": [
    "from sklearn.model_selection import train_test_split\n",
    "X = car_dataset.copy()\n",
    "X = X.drop(columns=[\"Sales\"])\n",
    "y = car_dataset[\"Sales\"]\n",
    "X_train, X_test, y_train, y_test = train_test_split(X, y, test_size=0.2)"
   ]
  },
  {
   "cell_type": "markdown",
   "source": [
    "# Inicjalizacja modelu"
   ],
   "metadata": {
    "collapsed": false
   }
  },
  {
   "cell_type": "code",
   "execution_count": 55,
   "metadata": {
    "ExecuteTime": {
     "end_time": "2024-06-11T20:49:43.618694Z",
     "start_time": "2024-06-11T20:49:43.613945Z"
    }
   },
   "outputs": [],
   "source": [
    "regressor = DecisionTreeRegressor(\n",
    "    criterion=\"squared_error\",\n",
    "    splitter=\"best\",\n",
    "    max_depth=100,\n",
    "    min_samples_split=10,\n",
    "    min_samples_leaf=5,\n",
    "    min_weight_fraction_leaf=0.02,\n",
    "    max_features=None,\n",
    "    random_state=None,\n",
    "    max_leaf_nodes=None,\n",
    "    min_impurity_decrease=0.0,\n",
    "    ccp_alpha=0.1,\n",
    "    monotonic_cst=None,\n",
    ")\n",
    "regressor = regressor.fit(X_train, y_train)"
   ]
  },
  {
   "cell_type": "markdown",
   "source": [
    "# Wyniki dla modelu przed dokładnym doborem parametrów"
   ],
   "metadata": {
    "collapsed": false
   }
  },
  {
   "cell_type": "code",
   "execution_count": 56,
   "metadata": {
    "ExecuteTime": {
     "end_time": "2024-06-11T20:49:43.788336Z",
     "start_time": "2024-06-11T20:49:43.784421Z"
    }
   },
   "outputs": [
    {
     "name": "stdout",
     "output_type": "stream",
     "text": [
      "R^2 score: 0.406122260\n"
     ]
    }
   ],
   "source": [
    "score = regressor.score(X_test, y_test)\n",
    "print(f\"R^2 score: {score:.9f}\")"
   ]
  },
  {
   "cell_type": "code",
   "execution_count": 57,
   "metadata": {
    "ExecuteTime": {
     "end_time": "2024-06-11T20:49:43.958901Z",
     "start_time": "2024-06-11T20:49:43.956071Z"
    }
   },
   "outputs": [],
   "source": [
    "y_pred = regressor.predict(X_test)\n",
    "results = pd.DataFrame({\"Actual\": y_test, \"Predicted\": y_pred})"
   ]
  },
  {
   "cell_type": "code",
   "execution_count": 58,
   "metadata": {
    "ExecuteTime": {
     "end_time": "2024-06-11T20:49:44.293190Z",
     "start_time": "2024-06-11T20:49:44.290570Z"
    }
   },
   "outputs": [
    {
     "name": "stdout",
     "output_type": "stream",
     "text": [
      "MSE loss: 4.832593963218457\n"
     ]
    }
   ],
   "source": [
    "print(f\"MSE loss: {mse_loss(y_test, y_pred)}\")"
   ]
  },
  {
   "cell_type": "code",
   "outputs": [
    {
     "name": "stdout",
     "output_type": "stream",
     "text": [
      "RMSE loss: 2.1983161654362773\n"
     ]
    }
   ],
   "source": [
    "print(f\"RMSE loss: {rmse_loss(y_test, y_pred)}\")"
   ],
   "metadata": {
    "collapsed": false,
    "ExecuteTime": {
     "end_time": "2024-06-11T20:49:44.416181Z",
     "start_time": "2024-06-11T20:49:44.413374Z"
    }
   },
   "execution_count": 59
  },
  {
   "cell_type": "code",
   "outputs": [
    {
     "data": {
      "text/plain": "     Actual  Predicted\n361    8.68  10.038889\n55     6.85   6.530588\n332    5.74  10.038889\n160    4.67   5.873000\n44     4.16   9.289375\n..      ...        ...\n267    5.83   4.619556\n24    10.14   4.619556\n343    5.99   4.619556\n295    4.21   6.530588\n37     4.95   5.873000\n\n[80 rows x 2 columns]",
      "text/html": "<div>\n<style scoped>\n    .dataframe tbody tr th:only-of-type {\n        vertical-align: middle;\n    }\n\n    .dataframe tbody tr th {\n        vertical-align: top;\n    }\n\n    .dataframe thead th {\n        text-align: right;\n    }\n</style>\n<table border=\"1\" class=\"dataframe\">\n  <thead>\n    <tr style=\"text-align: right;\">\n      <th></th>\n      <th>Actual</th>\n      <th>Predicted</th>\n    </tr>\n  </thead>\n  <tbody>\n    <tr>\n      <th>361</th>\n      <td>8.68</td>\n      <td>10.038889</td>\n    </tr>\n    <tr>\n      <th>55</th>\n      <td>6.85</td>\n      <td>6.530588</td>\n    </tr>\n    <tr>\n      <th>332</th>\n      <td>5.74</td>\n      <td>10.038889</td>\n    </tr>\n    <tr>\n      <th>160</th>\n      <td>4.67</td>\n      <td>5.873000</td>\n    </tr>\n    <tr>\n      <th>44</th>\n      <td>4.16</td>\n      <td>9.289375</td>\n    </tr>\n    <tr>\n      <th>...</th>\n      <td>...</td>\n      <td>...</td>\n    </tr>\n    <tr>\n      <th>267</th>\n      <td>5.83</td>\n      <td>4.619556</td>\n    </tr>\n    <tr>\n      <th>24</th>\n      <td>10.14</td>\n      <td>4.619556</td>\n    </tr>\n    <tr>\n      <th>343</th>\n      <td>5.99</td>\n      <td>4.619556</td>\n    </tr>\n    <tr>\n      <th>295</th>\n      <td>4.21</td>\n      <td>6.530588</td>\n    </tr>\n    <tr>\n      <th>37</th>\n      <td>4.95</td>\n      <td>5.873000</td>\n    </tr>\n  </tbody>\n</table>\n<p>80 rows × 2 columns</p>\n</div>"
     },
     "execution_count": 60,
     "metadata": {},
     "output_type": "execute_result"
    }
   ],
   "source": [
    "results"
   ],
   "metadata": {
    "collapsed": false,
    "ExecuteTime": {
     "end_time": "2024-06-11T20:49:44.545177Z",
     "start_time": "2024-06-11T20:49:44.540504Z"
    }
   },
   "execution_count": 60
  },
  {
   "cell_type": "markdown",
   "source": [
    "# Funkcja służąca do stworzenia wykresów pokazujących zmiany metryk w trakcie trenowania"
   ],
   "metadata": {
    "collapsed": false
   }
  },
  {
   "cell_type": "code",
   "outputs": [],
   "source": [
    "def create_plots(min_samples_split_list, r2_scores, mse_losses, rmse_losses):\n",
    "\n",
    "    fig, axs = plt.subplots(3, figsize=(10, 15))\n",
    "    axs[0].plot(min_samples_split_list, r2_scores, marker='o')\n",
    "    axs[0].set_title('R^2 score')\n",
    "    axs[0].set_xlabel('min_samples_split')\n",
    "    axs[0].set_ylabel('R^2 score')\n",
    "    axs[0].grid(True)\n",
    "    axs[1].plot(min_samples_split_list, mse_losses, marker='o')\n",
    "    axs[1].set_title('MSE loss')\n",
    "    axs[1].set_xlabel('min_samples_split')\n",
    "    axs[1].set_ylabel('MSE loss')\n",
    "    axs[1].grid(True)\n",
    "    axs[2].plot(min_samples_split_list, rmse_losses, marker='o')\n",
    "    axs[2].set_title('RMSE loss')\n",
    "    axs[2].set_xlabel('min_samples_split')\n",
    "    axs[2].set_ylabel('RMSE loss')\n",
    "    axs[2].grid(True)\n",
    "    plt.tight_layout()\n",
    "    plt.show()"
   ],
   "metadata": {
    "collapsed": false,
    "ExecuteTime": {
     "end_time": "2024-06-11T20:49:44.648746Z",
     "start_time": "2024-06-11T20:49:44.635894Z"
    }
   },
   "execution_count": 61
  },
  {
   "cell_type": "markdown",
   "source": [
    "# Funkcja obliczająca metryki"
   ],
   "metadata": {
    "collapsed": false
   }
  },
  {
   "cell_type": "code",
   "outputs": [],
   "source": [
    "def calculate_scores(regressor, X, y):\n",
    "    score = regressor.score(X, y)\n",
    "    y_pred = regressor.predict(X)\n",
    "    mse = mse_loss(y, y_pred)\n",
    "    rmse = rmse_loss(y, y_pred)\n",
    "    return score, mse, rmse"
   ],
   "metadata": {
    "collapsed": false,
    "ExecuteTime": {
     "end_time": "2024-06-11T20:49:44.777764Z",
     "start_time": "2024-06-11T20:49:44.775436Z"
    }
   },
   "execution_count": 62
  },
  {
   "cell_type": "markdown",
   "source": [
    "# Badanie wpływu maksymalnej głębokości drzewa"
   ],
   "metadata": {
    "collapsed": false
   }
  },
  {
   "cell_type": "code",
   "outputs": [],
   "source": [
    "max_depth_list = [1, 5, 10, 15, 20, 25,  50, 100]"
   ],
   "metadata": {
    "collapsed": false,
    "ExecuteTime": {
     "end_time": "2024-06-11T20:49:44.956414Z",
     "start_time": "2024-06-11T20:49:44.954304Z"
    }
   },
   "execution_count": 63
  },
  {
   "cell_type": "code",
   "outputs": [
    {
     "name": "stdout",
     "output_type": "stream",
     "text": [
      "=======MAX DEPTH = 1======\n",
      "R^2 score: 0.271251413\n",
      "MSE loss: 5.930085913034385\n",
      "RMSE loss: 2.4351767724406344\n",
      "=======MAX DEPTH = 5======\n",
      "R^2 score: 0.404172343\n",
      "MSE loss: 4.84846112883198\n",
      "RMSE loss: 2.2019221441349783\n",
      "=======MAX DEPTH = 10======\n",
      "R^2 score: 0.406122260\n",
      "MSE loss: 4.832593963218457\n",
      "RMSE loss: 2.1983161654362773\n",
      "=======MAX DEPTH = 15======\n",
      "R^2 score: 0.406122260\n",
      "MSE loss: 4.832593963218457\n",
      "RMSE loss: 2.1983161654362773\n",
      "=======MAX DEPTH = 20======\n",
      "R^2 score: 0.406122260\n",
      "MSE loss: 4.832593963218456\n",
      "RMSE loss: 2.198316165436277\n",
      "=======MAX DEPTH = 25======\n",
      "R^2 score: 0.406122260\n",
      "MSE loss: 4.832593963218457\n",
      "RMSE loss: 2.1983161654362773\n",
      "=======MAX DEPTH = 50======\n",
      "R^2 score: 0.406122260\n",
      "MSE loss: 4.832593963218455\n",
      "RMSE loss: 2.198316165436277\n",
      "=======MAX DEPTH = 100======\n",
      "R^2 score: 0.406122260\n",
      "MSE loss: 4.832593963218457\n",
      "RMSE loss: 2.1983161654362773\n"
     ]
    }
   ],
   "source": [
    "for max_depth in max_depth_list:\n",
    "    print(f\"=======MAX DEPTH = {max_depth}======\")\n",
    "    regressor.max_depth = max_depth\n",
    "    regressor = regressor.fit(X_train, y_train)\n",
    "    score, mse, rmse = calculate_scores(regressor, X_test, y_test)\n",
    "    print(f\"R^2 score: {score:.9f}\")\n",
    "    print(f\"MSE loss: {mse}\")\n",
    "    print(f\"RMSE loss: {rmse}\")"
   ],
   "metadata": {
    "collapsed": false,
    "ExecuteTime": {
     "end_time": "2024-06-11T20:49:45.353720Z",
     "start_time": "2024-06-11T20:49:45.331128Z"
    }
   },
   "execution_count": 64
  },
  {
   "cell_type": "code",
   "outputs": [
    {
     "name": "stdout",
     "output_type": "stream",
     "text": [
      "=======MAX DEPTH = 1======\n",
      "R^2 score: 0.239510738\n",
      "MSE loss: 5.980709344207817\n",
      "RMSE loss: 2.44554888403561\n",
      "=======MAX DEPTH = 5======\n",
      "R^2 score: 0.651389950\n",
      "MSE loss: 2.741571101162247\n",
      "RMSE loss: 1.6557690361769202\n",
      "=======MAX DEPTH = 10======\n",
      "R^2 score: 0.665797562\n",
      "MSE loss: 2.628265436152777\n",
      "RMSE loss: 1.621192596872061\n",
      "=======MAX DEPTH = 15======\n",
      "R^2 score: 0.665797562\n",
      "MSE loss: 2.628265436152777\n",
      "RMSE loss: 1.621192596872061\n",
      "=======MAX DEPTH = 20======\n",
      "R^2 score: 0.665797562\n",
      "MSE loss: 2.628265436152777\n",
      "RMSE loss: 1.621192596872061\n",
      "=======MAX DEPTH = 25======\n",
      "R^2 score: 0.665797562\n",
      "MSE loss: 2.628265436152777\n",
      "RMSE loss: 1.621192596872061\n",
      "=======MAX DEPTH = 50======\n",
      "R^2 score: 0.665797562\n",
      "MSE loss: 2.628265436152777\n",
      "RMSE loss: 1.621192596872061\n",
      "=======MAX DEPTH = 100======\n",
      "R^2 score: 0.665797562\n",
      "MSE loss: 2.6282654361527773\n",
      "RMSE loss: 1.621192596872061\n"
     ]
    }
   ],
   "source": [
    "for max_depth in max_depth_list:\n",
    "    print(f\"=======MAX DEPTH = {max_depth}======\")\n",
    "    regressor.max_depth = max_depth\n",
    "    regressor = regressor.fit(X_train, y_train)\n",
    "    score, mse, rmse = calculate_scores(regressor, X_train, y_train)\n",
    "    print(f\"R^2 score: {score:.9f}\")\n",
    "    print(f\"MSE loss: {mse}\")\n",
    "    print(f\"RMSE loss: {rmse}\")"
   ],
   "metadata": {
    "collapsed": false,
    "ExecuteTime": {
     "end_time": "2024-06-11T20:49:45.489864Z",
     "start_time": "2024-06-11T20:49:45.466470Z"
    }
   },
   "execution_count": 65
  },
  {
   "cell_type": "code",
   "outputs": [],
   "source": [
    "max_depth = 10\n",
    "regressor.max_depth = max_depth"
   ],
   "metadata": {
    "collapsed": false,
    "ExecuteTime": {
     "end_time": "2024-06-11T20:49:45.541640Z",
     "start_time": "2024-06-11T20:49:45.539795Z"
    }
   },
   "execution_count": 66
  },
  {
   "cell_type": "markdown",
   "source": [
    "# Badanie wyników dla różnych minimalnych ilości próbek do podziału"
   ],
   "metadata": {
    "collapsed": false
   }
  },
  {
   "cell_type": "code",
   "outputs": [],
   "source": [
    "min_samples_split_list = [2, 5, 10, 15, 25, 50, 100]"
   ],
   "metadata": {
    "collapsed": false,
    "ExecuteTime": {
     "end_time": "2024-06-11T20:49:45.643451Z",
     "start_time": "2024-06-11T20:49:45.641147Z"
    }
   },
   "execution_count": 67
  },
  {
   "cell_type": "code",
   "outputs": [
    {
     "name": "stdout",
     "output_type": "stream",
     "text": [
      "=======MIN SAMPLES  SPLIT= 2======\n",
      "R^2 score: 0.406122260\n",
      "MSE loss: 4.832593963218457\n",
      "RMSE loss: 2.1983161654362773\n",
      "=======MIN SAMPLES  SPLIT= 5======\n",
      "R^2 score: 0.406122260\n",
      "MSE loss: 4.832593963218457\n",
      "RMSE loss: 2.1983161654362773\n",
      "=======MIN SAMPLES  SPLIT= 10======\n",
      "R^2 score: 0.406122260\n",
      "MSE loss: 4.832593963218457\n",
      "RMSE loss: 2.1983161654362773\n",
      "=======MIN SAMPLES  SPLIT= 15======\n",
      "R^2 score: 0.406122260\n",
      "MSE loss: 4.832593963218455\n",
      "RMSE loss: 2.198316165436277\n",
      "=======MIN SAMPLES  SPLIT= 25======\n",
      "R^2 score: 0.406122260\n",
      "MSE loss: 4.832593963218457\n",
      "RMSE loss: 2.1983161654362773\n",
      "=======MIN SAMPLES  SPLIT= 50======\n",
      "R^2 score: 0.455776194\n",
      "MSE loss: 4.42854227305358\n",
      "RMSE loss: 2.1044101960058974\n",
      "=======MIN SAMPLES  SPLIT= 100======\n",
      "R^2 score: 0.364483047\n",
      "MSE loss: 5.171427016189623\n",
      "RMSE loss: 2.274077179031007\n"
     ]
    }
   ],
   "source": [
    "for min_samples_split in min_samples_split_list:\n",
    "    print(f\"=======MIN SAMPLES  SPLIT= {min_samples_split}======\")\n",
    "    regressor.min_samples_split = min_samples_split\n",
    "    regressor = regressor.fit(X_train, y_train)\n",
    "    score, mse, rmse = calculate_scores(regressor, X_test, y_test)\n",
    "    print(f\"R^2 score: {score:.9f}\")\n",
    "    print(f\"MSE loss: {mse}\")\n",
    "    print(f\"RMSE loss: {rmse}\")"
   ],
   "metadata": {
    "collapsed": false,
    "ExecuteTime": {
     "end_time": "2024-06-11T20:49:45.812479Z",
     "start_time": "2024-06-11T20:49:45.791148Z"
    }
   },
   "execution_count": 68
  },
  {
   "cell_type": "code",
   "outputs": [
    {
     "name": "stdout",
     "output_type": "stream",
     "text": [
      "=======MIN SAMPLES  SPLIT= 2======\n",
      "R^2 score: 0.665797562\n",
      "MSE loss: 2.628265436152777\n",
      "RMSE loss: 1.621192596872061\n",
      "=======MIN SAMPLES  SPLIT= 5======\n",
      "R^2 score: 0.665797562\n",
      "MSE loss: 2.628265436152777\n",
      "RMSE loss: 1.621192596872061\n",
      "=======MIN SAMPLES  SPLIT= 10======\n",
      "R^2 score: 0.665797562\n",
      "MSE loss: 2.628265436152777\n",
      "RMSE loss: 1.621192596872061\n",
      "=======MIN SAMPLES  SPLIT= 15======\n",
      "R^2 score: 0.665797562\n",
      "MSE loss: 2.6282654361527773\n",
      "RMSE loss: 1.621192596872061\n",
      "=======MIN SAMPLES  SPLIT= 25======\n",
      "R^2 score: 0.665797562\n",
      "MSE loss: 2.628265436152777\n",
      "RMSE loss: 1.621192596872061\n",
      "=======MIN SAMPLES  SPLIT= 50======\n",
      "R^2 score: 0.577801538\n",
      "MSE loss: 3.3202918350201274\n",
      "RMSE loss: 1.8221667967066373\n",
      "=======MIN SAMPLES  SPLIT= 100======\n",
      "R^2 score: 0.431604387\n",
      "MSE loss: 4.470028869250494\n",
      "RMSE loss: 2.1142442785190396\n"
     ]
    }
   ],
   "source": [
    "for min_samples_split in min_samples_split_list:\n",
    "    print(f\"=======MIN SAMPLES  SPLIT= {min_samples_split}======\")\n",
    "    regressor.min_samples_split = min_samples_split\n",
    "    regressor = regressor.fit(X_train, y_train)\n",
    "    score, mse, rmse = calculate_scores(regressor, X_train, y_train)\n",
    "    print(f\"R^2 score: {score:.9f}\")\n",
    "    print(f\"MSE loss: {mse}\")\n",
    "    print(f\"RMSE loss: {rmse}\")"
   ],
   "metadata": {
    "collapsed": false,
    "ExecuteTime": {
     "end_time": "2024-06-11T20:49:45.897199Z",
     "start_time": "2024-06-11T20:49:45.875671Z"
    }
   },
   "execution_count": 69
  },
  {
   "cell_type": "code",
   "outputs": [],
   "source": [
    "min_samples_split = 10\n",
    "regressor.min_samples_split = min_samples_split"
   ],
   "metadata": {
    "collapsed": false,
    "ExecuteTime": {
     "end_time": "2024-06-11T20:49:45.958812Z",
     "start_time": "2024-06-11T20:49:45.957106Z"
    }
   },
   "execution_count": 70
  },
  {
   "cell_type": "markdown",
   "source": [
    "# Badanie wpływu wartości minimalnej ilości próbek w liściu"
   ],
   "metadata": {
    "collapsed": false
   }
  },
  {
   "cell_type": "code",
   "outputs": [],
   "source": [
    "min_samples_leaf_list = [2, 5, 10, 15, 25, 50, 100]"
   ],
   "metadata": {
    "collapsed": false,
    "ExecuteTime": {
     "end_time": "2024-06-11T20:49:46.101002Z",
     "start_time": "2024-06-11T20:49:46.099013Z"
    }
   },
   "execution_count": 71
  },
  {
   "cell_type": "code",
   "outputs": [
    {
     "name": "stdout",
     "output_type": "stream",
     "text": [
      "=======MIN SAMPLES  LEAF= 2======\n",
      "R^2 score: 0.406122260\n",
      "MSE loss: 4.832593963218456\n",
      "RMSE loss: 2.198316165436277\n",
      "=======MIN SAMPLES  LEAF= 5======\n",
      "R^2 score: 0.406122260\n",
      "MSE loss: 4.832593963218456\n",
      "RMSE loss: 2.198316165436277\n",
      "=======MIN SAMPLES  LEAF= 10======\n",
      "R^2 score: 0.409390922\n",
      "MSE loss: 4.8059957002007705\n",
      "RMSE loss: 2.1922581280954967\n",
      "=======MIN SAMPLES  LEAF= 15======\n",
      "R^2 score: 0.480799311\n",
      "MSE loss: 4.224920289622524\n",
      "RMSE loss: 2.055461089299071\n",
      "=======MIN SAMPLES  LEAF= 25======\n",
      "R^2 score: 0.416951206\n",
      "MSE loss: 4.744474982514646\n",
      "RMSE loss: 2.178181577030401\n",
      "=======MIN SAMPLES  LEAF= 50======\n",
      "R^2 score: 0.361462808\n",
      "MSE loss: 5.196003774135618\n",
      "RMSE loss: 2.279474451301356\n",
      "=======MIN SAMPLES  LEAF= 100======\n",
      "R^2 score: 0.150883490\n",
      "MSE loss: 6.909562425247833\n",
      "RMSE loss: 2.6286046536609176\n"
     ]
    }
   ],
   "source": [
    "for min_samples_leaf in min_samples_leaf_list:\n",
    "    print(f\"=======MIN SAMPLES  LEAF= {min_samples_leaf}======\")\n",
    "    regressor.min_samples_leaf = min_samples_leaf\n",
    "    regressor = regressor.fit(X_train, y_train)\n",
    "    score = regressor.score(X_test, y_test)\n",
    "    y_pred = regressor.predict(X_test)\n",
    "    print(f\"R^2 score: {score:.9f}\")\n",
    "    print(f\"MSE loss: {mse_loss(y_test, y_pred)}\")\n",
    "    print(f\"RMSE loss: {rmse_loss(y_test, y_pred)}\")"
   ],
   "metadata": {
    "collapsed": false,
    "ExecuteTime": {
     "end_time": "2024-06-11T20:49:46.227301Z",
     "start_time": "2024-06-11T20:49:46.207105Z"
    }
   },
   "execution_count": 72
  },
  {
   "cell_type": "code",
   "outputs": [
    {
     "name": "stdout",
     "output_type": "stream",
     "text": [
      "=======MIN SAMPLES  LEAF= 2======\n",
      "R^2 score: 0.665797562\n",
      "MSE loss: 2.628265436152777\n",
      "RMSE loss: 1.621192596872061\n",
      "=======MIN SAMPLES  LEAF= 5======\n",
      "R^2 score: 0.665797562\n",
      "MSE loss: 2.628265436152777\n",
      "RMSE loss: 1.621192596872061\n",
      "=======MIN SAMPLES  LEAF= 10======\n",
      "R^2 score: 0.686392270\n",
      "MSE loss: 2.4663026495667575\n",
      "RMSE loss: 1.5704466401526533\n",
      "=======MIN SAMPLES  LEAF= 15======\n",
      "R^2 score: 0.624025447\n",
      "MSE loss: 2.9567735325726403\n",
      "RMSE loss: 1.7195271246981363\n",
      "=======MIN SAMPLES  LEAF= 25======\n",
      "R^2 score: 0.565621546\n",
      "MSE loss: 3.4160788456903743\n",
      "RMSE loss: 1.8482637381311073\n",
      "=======MIN SAMPLES  LEAF= 50======\n",
      "R^2 score: 0.405578659\n",
      "MSE loss: 4.674702783149486\n",
      "RMSE loss: 2.162106098957562\n",
      "=======MIN SAMPLES  LEAF= 100======\n",
      "R^2 score: 0.184200126\n",
      "MSE loss: 6.415688125277816\n",
      "RMSE loss: 2.5329208683410966\n"
     ]
    }
   ],
   "source": [
    "for min_samples_leaf in min_samples_leaf_list:\n",
    "    print(f\"=======MIN SAMPLES  LEAF= {min_samples_leaf}======\")\n",
    "    regressor.min_samples_leaf = min_samples_leaf\n",
    "    regressor = regressor.fit(X_train, y_train)\n",
    "    score, mse, rmse = calculate_scores(regressor, X_train, y_train)\n",
    "    print(f\"R^2 score: {score:.9f}\")\n",
    "    print(f\"MSE loss: {mse}\")\n",
    "    print(f\"RMSE loss: {rmse}\")"
   ],
   "metadata": {
    "collapsed": false,
    "ExecuteTime": {
     "end_time": "2024-06-11T20:49:46.303627Z",
     "start_time": "2024-06-11T20:49:46.283678Z"
    }
   },
   "execution_count": 73
  },
  {
   "cell_type": "code",
   "outputs": [],
   "source": [
    "min_samples_leaf = 15\n",
    "regressor.min_samples_leaf = min_samples_leaf"
   ],
   "metadata": {
    "collapsed": false,
    "ExecuteTime": {
     "end_time": "2024-06-11T20:49:46.443092Z",
     "start_time": "2024-06-11T20:49:46.440954Z"
    }
   },
   "execution_count": 74
  },
  {
   "cell_type": "markdown",
   "source": [
    "# Badanie wpływu strategi"
   ],
   "metadata": {
    "collapsed": false
   }
  },
  {
   "cell_type": "code",
   "outputs": [],
   "source": [
    "strategies = [\"random\", \"best\"]"
   ],
   "metadata": {
    "collapsed": false,
    "ExecuteTime": {
     "end_time": "2024-06-11T20:49:46.553735Z",
     "start_time": "2024-06-11T20:49:46.551965Z"
    }
   },
   "execution_count": 75
  },
  {
   "cell_type": "code",
   "outputs": [
    {
     "name": "stdout",
     "output_type": "stream",
     "text": [
      "=======Strategy= random======\n",
      "R^2 score: 0.346567270\n",
      "MSE loss: 5.3172140543871675\n",
      "RMSE loss: 2.3059085095439427\n",
      "=======Strategy= best======\n",
      "R^2 score: 0.480799311\n",
      "MSE loss: 4.224920289622522\n",
      "RMSE loss: 2.0554610892990706\n"
     ]
    }
   ],
   "source": [
    "for strategy in strategies:\n",
    "    print(f\"=======Strategy= {strategy}======\")\n",
    "    regressor.splitter = strategy\n",
    "    regressor = regressor.fit(X_train, y_train)\n",
    "    score, mse, rmse = calculate_scores(regressor, X_test, y_test)\n",
    "    print(f\"R^2 score: {score:.9f}\")\n",
    "    print(f\"MSE loss: {mse}\")\n",
    "    print(f\"RMSE loss: {rmse}\")"
   ],
   "metadata": {
    "collapsed": false,
    "ExecuteTime": {
     "end_time": "2024-06-11T20:49:46.680171Z",
     "start_time": "2024-06-11T20:49:46.671330Z"
    }
   },
   "execution_count": 76
  },
  {
   "cell_type": "code",
   "outputs": [
    {
     "name": "stdout",
     "output_type": "stream",
     "text": [
      "=======Strategy= random======\n",
      "R^2 score: 0.503552617\n",
      "MSE loss: 3.904207002770846\n",
      "RMSE loss: 1.975906628049728\n",
      "=======Strategy= best======\n",
      "R^2 score: 0.624025447\n",
      "MSE loss: 2.9567735325726403\n",
      "RMSE loss: 1.7195271246981363\n"
     ]
    }
   ],
   "source": [
    "for strategy in strategies:\n",
    "    print(f\"=======Strategy= {strategy}======\")\n",
    "    regressor.splitter = strategy\n",
    "    regressor = regressor.fit(X_train, y_train)\n",
    "    score, mse, rmse = calculate_scores(regressor, X_train, y_train)\n",
    "    print(f\"R^2 score: {score:.9f}\")\n",
    "    print(f\"MSE loss: {mse}\")\n",
    "    print(f\"RMSE loss: {rmse}\")"
   ],
   "metadata": {
    "collapsed": false,
    "ExecuteTime": {
     "end_time": "2024-06-11T20:49:46.758322Z",
     "start_time": "2024-06-11T20:49:46.750774Z"
    }
   },
   "execution_count": 77
  },
  {
   "cell_type": "markdown",
   "source": [
    "# Porównanie z modelem Liniowym"
   ],
   "metadata": {
    "collapsed": false
   }
  },
  {
   "cell_type": "code",
   "outputs": [],
   "source": [
    "from sklearn.linear_model import LinearRegression"
   ],
   "metadata": {
    "collapsed": false,
    "ExecuteTime": {
     "end_time": "2024-06-11T20:49:46.807430Z",
     "start_time": "2024-06-11T20:49:46.805564Z"
    }
   },
   "execution_count": 78
  },
  {
   "cell_type": "code",
   "outputs": [],
   "source": [
    "regressor = LinearRegression()\n",
    "regressor = regressor.fit(X_train, y_train)"
   ],
   "metadata": {
    "collapsed": false,
    "ExecuteTime": {
     "end_time": "2024-06-11T20:49:46.845670Z",
     "start_time": "2024-06-11T20:49:46.841374Z"
    }
   },
   "execution_count": 79
  },
  {
   "cell_type": "markdown",
   "source": [
    "# Zbiór walidacyjny"
   ],
   "metadata": {
    "collapsed": false
   }
  },
  {
   "cell_type": "code",
   "outputs": [],
   "source": [
    "score = regressor.score(X_test, y_test)"
   ],
   "metadata": {
    "collapsed": false,
    "ExecuteTime": {
     "end_time": "2024-06-11T20:49:46.940419Z",
     "start_time": "2024-06-11T20:49:46.937607Z"
    }
   },
   "execution_count": 80
  },
  {
   "cell_type": "code",
   "outputs": [],
   "source": [
    "y_pred = regressor.predict(X_test)\n",
    "results = pd.DataFrame({\"Actual\": y_test, \"Predicted\": y_pred})"
   ],
   "metadata": {
    "collapsed": false,
    "ExecuteTime": {
     "end_time": "2024-06-11T20:49:46.975216Z",
     "start_time": "2024-06-11T20:49:46.971523Z"
    }
   },
   "execution_count": 81
  },
  {
   "cell_type": "code",
   "outputs": [
    {
     "name": "stdout",
     "output_type": "stream",
     "text": [
      "R^2 score: 0.880849923\n",
      "MSE loss: 0.9695664689265164\n",
      "RMSE loss: 0.9846656635257047\n"
     ]
    }
   ],
   "source": [
    "print(f\"R^2 score: {score:.9f}\")\n",
    "print(f\"MSE loss: {mse_loss(y_test, y_pred)}\")\n",
    "print(f\"RMSE loss: {rmse_loss(y_test, y_pred)}\")"
   ],
   "metadata": {
    "collapsed": false,
    "ExecuteTime": {
     "end_time": "2024-06-11T20:49:47.117854Z",
     "start_time": "2024-06-11T20:49:47.115150Z"
    }
   },
   "execution_count": 82
  },
  {
   "cell_type": "markdown",
   "source": [
    "# Zbiór treningowy"
   ],
   "metadata": {
    "collapsed": false
   }
  },
  {
   "cell_type": "code",
   "outputs": [],
   "source": [
    "score = regressor.score(X_train, y_train)\n",
    "y_pred = regressor.predict(X_train)"
   ],
   "metadata": {
    "collapsed": false,
    "ExecuteTime": {
     "end_time": "2024-06-11T20:49:47.241130Z",
     "start_time": "2024-06-11T20:49:47.237575Z"
    }
   },
   "execution_count": 83
  },
  {
   "cell_type": "code",
   "outputs": [
    {
     "name": "stdout",
     "output_type": "stream",
     "text": [
      "R^2 score: 0.870075614\n",
      "MSE loss: 1.0217632632060045\n",
      "RMSE loss: 1.0108230622646104\n"
     ]
    }
   ],
   "source": [
    "print(f\"R^2 score: {score:.9f}\")\n",
    "print(f\"MSE loss: {mse_loss(y_train, y_pred)}\")\n",
    "print(f\"RMSE loss: {rmse_loss(y_train, y_pred)}\")"
   ],
   "metadata": {
    "collapsed": false,
    "ExecuteTime": {
     "end_time": "2024-06-11T20:49:47.285170Z",
     "start_time": "2024-06-11T20:49:47.282574Z"
    }
   },
   "execution_count": 84
  }
 ],
 "metadata": {
  "kernelspec": {
   "display_name": "Python 3 (ipykernel)",
   "language": "python",
   "name": "python3"
  },
  "language_info": {
   "codemirror_mode": {
    "name": "ipython",
    "version": 3
   },
   "file_extension": ".py",
   "mimetype": "text/x-python",
   "name": "python",
   "nbconvert_exporter": "python",
   "pygments_lexer": "ipython3",
   "version": "3.10.9"
  }
 },
 "nbformat": 4,
 "nbformat_minor": 4
}
